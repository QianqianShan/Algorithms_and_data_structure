{
 "cells": [
  {
   "cell_type": "markdown",
   "metadata": {},
   "source": [
    "## Bit Manipulation\n",
    "\n",
    "\n",
    "Bits in python https://wiki.python.org/moin/BitManipulation"
   ]
  },
  {
   "cell_type": "code",
   "execution_count": 1,
   "metadata": {},
   "outputs": [
    {
     "data": {
      "text/plain": [
       "'101'"
      ]
     },
     "execution_count": 1,
     "metadata": {},
     "output_type": "execute_result"
    }
   ],
   "source": [
    "# bits representation of integer \n",
    "format(5, 'b')"
   ]
  },
  {
   "cell_type": "code",
   "execution_count": 2,
   "metadata": {},
   "outputs": [
    {
     "data": {
      "text/plain": [
       "'-101'"
      ]
     },
     "execution_count": 2,
     "metadata": {},
     "output_type": "execute_result"
    }
   ],
   "source": [
    "format(-5, 'b')"
   ]
  },
  {
   "cell_type": "code",
   "execution_count": 3,
   "metadata": {},
   "outputs": [
    {
     "data": {
      "text/plain": [
       "'100'"
      ]
     },
     "execution_count": 3,
     "metadata": {},
     "output_type": "execute_result"
    }
   ],
   "source": [
    "format(4, 'b')"
   ]
  },
  {
   "cell_type": "code",
   "execution_count": 4,
   "metadata": {},
   "outputs": [
    {
     "data": {
      "text/plain": [
       "'101'"
      ]
     },
     "execution_count": 4,
     "metadata": {},
     "output_type": "execute_result"
    }
   ],
   "source": [
    "\"{0:b}\".format(5)"
   ]
  },
  {
   "cell_type": "code",
   "execution_count": 5,
   "metadata": {},
   "outputs": [
    {
     "data": {
      "text/plain": [
       "5"
      ]
     },
     "execution_count": 5,
     "metadata": {},
     "output_type": "execute_result"
    }
   ],
   "source": [
    "int(\"101\", 2)"
   ]
  },
  {
   "cell_type": "markdown",
   "metadata": {},
   "source": [
    "236 -  Swap Bits\n",
    "\n",
    "Write a program to swap odd and even bits in an integer with as few instructions as possible (e.g., bit 0 and bit 1 are swapped, bit 2 and bit 3 are swapped, and so on).\n",
    "\n",
    "\n",
    "Input: 0\n",
    "\n",
    "Output: 0\n",
    "\n",
    "Explanation:\n",
    "0 = 0(2) -> 0(2) = 0"
   ]
  },
  {
   "cell_type": "code",
   "execution_count": null,
   "metadata": {},
   "outputs": [],
   "source": [
    "# the following two hexdecimal numbers: \n",
    "\n",
    "# 0xaaaaaaaa has 1 at all even positions \n",
    "\n",
    "# 0x55555555 has 1 at all odd positions "
   ]
  },
  {
   "cell_type": "code",
   "execution_count": 13,
   "metadata": {},
   "outputs": [
    {
     "data": {
      "text/plain": [
       "'10101010101010101010101010101010'"
      ]
     },
     "execution_count": 13,
     "metadata": {},
     "output_type": "execute_result"
    }
   ],
   "source": [
    "format(0xaaaaaaaa, 'b')"
   ]
  },
  {
   "cell_type": "code",
   "execution_count": 14,
   "metadata": {},
   "outputs": [
    {
     "data": {
      "text/plain": [
       "'1010101010101010101010101010101'"
      ]
     },
     "execution_count": 14,
     "metadata": {},
     "output_type": "execute_result"
    }
   ],
   "source": [
    "format(0x55555555, 'b')"
   ]
  },
  {
   "cell_type": "code",
   "execution_count": 6,
   "metadata": {},
   "outputs": [],
   "source": [
    "class Solution:\n",
    "    \"\"\"\n",
    "    @param: x: An integer\n",
    "    @return: An integer\n",
    "    \"\"\"\n",
    "    def swapOddEvenBits(self, x):\n",
    "        x_binary = format(x, 'b')\n",
    "        # x & 0xaaaaaaaa) >> 1 keeps all the 1s at event positions and right shift by one \n",
    "        # (x & 0x55555555) << 1 keeps all the 1s at odd positions and left shift by one \n",
    "        return ( ((x & 0xaaaaaaaa) >> 1) | ((x & 0x55555555) << 1) )\n"
   ]
  },
  {
   "cell_type": "markdown",
   "metadata": {},
   "source": [
    "1 - A + B Problem\n",
    "\n",
    "Write a function that add two numbers A and B.\n",
    "\n"
   ]
  },
  {
   "cell_type": "code",
   "execution_count": 2,
   "metadata": {},
   "outputs": [],
   "source": [
    "# Python\n",
    "class Solution:\n",
    "    \"\"\"\n",
    "    @param a: An integer\n",
    "    @param b: An integer\n",
    "    @return: The sum of a and b \n",
    "    \"\"\"\n",
    "    def aplusb(self, a, b):\n",
    "#         print('orig a', format(a, 'b'))\n",
    "#         print('orig b', format(b, 'b'))\n",
    "        if a >= 0 and b >= 0:\n",
    "            return self.postive_sum(a, b)\n",
    "        else: \n",
    "            return a + b \n",
    "        \n",
    "    def positive_sum(self, a, b):\n",
    "\n",
    "        while b != 0 :\n",
    "            _a = a ^ b \n",
    "#             print('_a', format(_a, 'b'))\n",
    "            _b = (a & b) << 1 \n",
    "#             print('_b', format(_b, 'b'))\n",
    "            a = _a \n",
    "#             print('a', format(a, 'b'))\n",
    "            b = _b \n",
    "#             print('b', format(b, 'b'))\n",
    "        return a \n",
    "        \n"
   ]
  },
  {
   "cell_type": "code",
   "execution_count": 3,
   "metadata": {},
   "outputs": [
    {
     "data": {
      "text/plain": [
       "4294967296"
      ]
     },
     "execution_count": 3,
     "metadata": {},
     "output_type": "execute_result"
    }
   ],
   "source": [
    "2**32"
   ]
  },
  {
   "cell_type": "code",
   "execution_count": 4,
   "metadata": {},
   "outputs": [
    {
     "data": {
      "text/plain": [
       "0"
      ]
     },
     "execution_count": 4,
     "metadata": {},
     "output_type": "execute_result"
    }
   ],
   "source": [
    "Solution().aplusb(100, -100)"
   ]
  },
  {
   "cell_type": "markdown",
   "metadata": {},
   "source": [
    "179 - Update Bits\n",
    "\n",
    "Given two 32-bit numbers, N and M, and two bit positions, i and j. Write a method to set all bits between i and j in N equal to M (e g , M becomes a substring of N start from i to j)\n",
    "\n",
    "Input: \n",
    "    \n",
    "    N=(10000000000)2\n",
    "    \n",
    "    M=(10101)2 \n",
    "    \n",
    "    i=2\n",
    "    \n",
    "    j=6\n",
    "    \n",
    "Output: N=(10001010100)2"
   ]
  },
  {
   "cell_type": "code",
   "execution_count": null,
   "metadata": {},
   "outputs": [],
   "source": [
    "# Java  for reference \n",
    "class Solution {\n",
    "    /**\n",
    "     *@param n, m: Two integer\n",
    "     *@param i, j: Two bit positions\n",
    "     *return: An integer\n",
    "     */\n",
    "    public int updateBits(int n, int m, int i, int j) {\n",
    "        // write your code here\n",
    "        int max = ~0; /* All 1’s */\n",
    "        // 1’s through position j, then 0’s\n",
    "        if (j == 31)\n",
    "            j = max;\n",
    "        else\n",
    "            j = (1 << (j + 1)) - 1;\n",
    "        int left = max - j;\n",
    "        // 1’s after position i\n",
    "        int right = ((1 << i) - 1);\n",
    "        // 1’s, with 0s between i and j\n",
    "        int mask = left | right;\n",
    "        // Clear i through j, then put m in there\n",
    "        return ((n & mask) | (m << i));\n",
    "    }\n",
    "}"
   ]
  },
  {
   "cell_type": "code",
   "execution_count": 49,
   "metadata": {},
   "outputs": [
    {
     "data": {
      "text/plain": [
       "'11111111111111111111111111111111'"
      ]
     },
     "execution_count": 49,
     "metadata": {},
     "output_type": "execute_result"
    }
   ],
   "source": [
    "format((1 << 32) - 1, 'b')"
   ]
  },
  {
   "cell_type": "markdown",
   "metadata": {},
   "source": [
    "142 - O(1) Check Power of 2\n"
   ]
  },
  {
   "cell_type": "code",
   "execution_count": 60,
   "metadata": {},
   "outputs": [],
   "source": [
    "class Solution:\n",
    "    \"\"\"\n",
    "    @param n: An integer\n",
    "    @return: True or false\n",
    "    \"\"\"\n",
    "    def checkPowerOf2(self, n):\n",
    "        print(format(n, 'b'))\n",
    "        print(format(n - 1, 'b'))\n",
    "        return n > 0 and n & (n - 1) == 0 \n",
    "\n"
   ]
  },
  {
   "cell_type": "code",
   "execution_count": 61,
   "metadata": {},
   "outputs": [
    {
     "name": "stdout",
     "output_type": "stream",
     "text": [
      "1001\n",
      "1000\n"
     ]
    },
    {
     "data": {
      "text/plain": [
       "False"
      ]
     },
     "execution_count": 61,
     "metadata": {},
     "output_type": "execute_result"
    }
   ],
   "source": [
    "Solution().checkPowerOf2(9)"
   ]
  },
  {
   "cell_type": "markdown",
   "metadata": {},
   "source": [
    "181 - Flip Bits\n",
    "\n",
    "Determine the number of bits required to flip if you want to convert integer n to integer m.\n",
    "\n"
   ]
  },
  {
   "cell_type": "code",
   "execution_count": 5,
   "metadata": {},
   "outputs": [],
   "source": [
    "class Solution:\n",
    "    \"\"\"\n",
    "    @param a: An integer\n",
    "    @param b: An integer\n",
    "    @return: An integer\n",
    "    \"\"\"\n",
    "    def bitSwapRequired(self, a, b):\n",
    "        # first find the bits where are different for a and b then count \n",
    "        new = a ^ b \n",
    "        # count number of 1s in new \n",
    "        count = 0 \n",
    "        # compare \n",
    "        for i in range(32):\n",
    "            if new & 1 << i:\n",
    "                count += 1 \n",
    "        return count"
   ]
  },
  {
   "cell_type": "markdown",
   "metadata": {},
   "source": [
    "17 - Subsets\n",
    "\n",
    "Given a set of distinct integers, return all possible subsets.\n",
    "\n",
    "Can also be done with DFS \n"
   ]
  },
  {
   "cell_type": "code",
   "execution_count": 64,
   "metadata": {},
   "outputs": [],
   "source": [
    "\n",
    "class Solution:\n",
    "    \"\"\"\n",
    "    @param nums: A set of numbers\n",
    "    @return: A list of lists\n",
    "    \"\"\"\n",
    "    def subsets(self, nums):\n",
    "        if nums is None:\n",
    "            return []\n",
    "        # sort \n",
    "        nums.sort()\n",
    "        results = []\n",
    "        \n",
    "        n = len(nums)\n",
    "        \n",
    "        # enumerate all 2^n cases \n",
    "        for i in range(1 << n):\n",
    "            subset = []\n",
    "            # decide what elements to be included for the i-th case \n",
    "            # suppose i in binary form is 10010, then the 2nd and 5th elements will be included \n",
    "            for j in range(n):\n",
    "                if (i & (1 << j)) != 0:\n",
    "                    subset.append(nums[j])\n",
    "            results.append(list(subset))\n",
    "        return results\n",
    "                    \n",
    "                    \n",
    "        \n",
    "#         results = []\n",
    "#         # dfs with backtracking \n",
    "#         self.dfs(nums, 0, [], results)\n",
    "#         return results\n",
    "    \n",
    "    \n",
    "#     def dfs(self, nums, index, subset, results):\n",
    "#         # \n",
    "#         results.append(list(subset))\n",
    "        \n",
    "#         for i in range(index, len(nums)):\n",
    "#             subset.append(nums[i])\n",
    "#             self.dfs(nums, i + 1, subset, results)\n",
    "#             subset.pop()  # back track \n",
    "        "
   ]
  },
  {
   "cell_type": "markdown",
   "metadata": {},
   "source": [
    "#### Bitwise Opearation\n",
    "\n",
    "Bitwise operations can usually perform faster computation. "
   ]
  },
  {
   "cell_type": "markdown",
   "metadata": {},
   "source": [
    "365 - Count 1 in Binary\n",
    "\n",
    "Count how many 1s in binary representation of a 32-bit integer.\n",
    "\n",
    "\n",
    "Input: 32\n",
    "\n",
    "Output: 1\n",
    "\n",
    "Explanation:\n",
    "\n",
    "32(100000), return 1."
   ]
  },
  {
   "cell_type": "code",
   "execution_count": null,
   "metadata": {},
   "outputs": [],
   "source": [
    "# Python 1: bitwise AND for each bit \n",
    "class Solution:\n",
    "    \"\"\"\n",
    "    @param: num: An integer\n",
    "    @return: An integer\n",
    "    \"\"\"\n",
    "    def countOnes(self, num):\n",
    "        count = 0 \n",
    "        # compare \n",
    "        for i in range(32):\n",
    "            # << operates before &, that is, num & (1 << i)\n",
    "            if num & 1 << i:\n",
    "                count += 1 \n",
    "        return count\n"
   ]
  },
  {
   "cell_type": "code",
   "execution_count": null,
   "metadata": {},
   "outputs": [],
   "source": [
    "Solution().countOnes(-1)"
   ]
  },
  {
   "cell_type": "code",
   "execution_count": null,
   "metadata": {},
   "outputs": [],
   "source": [
    "# Python 2: use a property of bits representation of integeres: \n",
    "# e.g.: the rightmost 1 in a num was converted to 0, the 0's after this 1 becomes 1 for num - 1\n",
    "class Solution:\n",
    "    \"\"\"\n",
    "    @param: num: An integer\n",
    "    @return: An integer\n",
    "    \"\"\"\n",
    "    def countOnes(self, num):\n",
    "        # boundary: for num = -1, bits representation is 111111111....11111, first cut it to 32-bit \n",
    "        if num < 0:\n",
    "            num &= (1 << 32) - 1\n",
    "        print(format(num, 'b'))\n",
    "        count = 0 \n",
    "        while num != 0:\n",
    "            num &= num - 1\n",
    "            count += 1 \n",
    "        return count\n",
    "        "
   ]
  },
  {
   "cell_type": "code",
   "execution_count": null,
   "metadata": {},
   "outputs": [],
   "source": [
    "Solution().countOnes(-1)"
   ]
  },
  {
   "cell_type": "markdown",
   "metadata": {},
   "source": [
    "82 - Single Number\n",
    "\n",
    "Given 2*n + 1 numbers, every numbers occurs twice except one, find it.\n",
    "\n",
    "\n",
    "* Property: a ^ b ^ b = a \n"
   ]
  },
  {
   "cell_type": "code",
   "execution_count": 68,
   "metadata": {},
   "outputs": [],
   "source": [
    "class Solution:\n",
    "    \"\"\"\n",
    "    @param A: An integer array\n",
    "    @return: An integer\n",
    "    \"\"\"\n",
    "    def singleNumber(self, A):\n",
    "        \n",
    "        res = 0\n",
    "        for num in A:\n",
    "            res ^= num \n",
    "        return res \n",
    "\n"
   ]
  },
  {
   "cell_type": "code",
   "execution_count": 69,
   "metadata": {},
   "outputs": [
    {
     "data": {
      "text/plain": [
       "1"
      ]
     },
     "execution_count": 69,
     "metadata": {},
     "output_type": "execute_result"
    }
   ],
   "source": [
    "Solution().singleNumber([1, 2, 2, 3, 3, 4, 4])"
   ]
  },
  {
   "cell_type": "markdown",
   "metadata": {},
   "source": [
    "83 -  Single Number II\n",
    "\n",
    "Given 3*n + 1 non-negative integer, every numbers occurs triple times except one, find it.\n",
    "\n"
   ]
  },
  {
   "cell_type": "code",
   "execution_count": null,
   "metadata": {},
   "outputs": [],
   "source": [
    "# IDEA: \n",
    "# 1. ones set the bits positions when there are x times with x % 3 = 1 of the past as 1s \n",
    "# 2. twos set the bits positions when there are x times with x % 3 = 2 of the past as 1s \n",
    "# 3. ones and twos must have 1s in different positions \n",
    "# 4. (ones ^ A[i]) update ones such that if position j of A[i] and ones are both 1, set position j as 0 \n",
    "#                                        if position j of A[i] is 0 and ones is 1, keep position j of ones as 1 \n",
    "#                                        if position j of A[i] is 1 and ones is 0, set position j of ones as 1 \n",
    "#                                        if position j of A[i] and ones are both 0, set position j as 0 \n",
    "# NOT twos set all positions that are not appearing x times with x % 3 == 2 (that is appear x with x % 3 == 1 or \n",
    "#  x % 3 == 0) \n",
    "\n",
    "# the & makes sure the the positions set as 1 have appeared x times with x % 3 == 1 \n",
    "\n",
    "# similar analysis for twos "
   ]
  },
  {
   "cell_type": "code",
   "execution_count": 74,
   "metadata": {},
   "outputs": [],
   "source": [
    "class Solution:\n",
    "    \"\"\"\n",
    "    @param A: An integer array\n",
    "    @return: An integer\n",
    "    \"\"\"\n",
    "    def singleNumberII(self, A):\n",
    "        ones = twos = 0 \n",
    "        for i in range(len(A)):\n",
    "            ones = (ones ^ A[i]) & ~twos \n",
    "            print('ones',format(ones, 'b'))\n",
    "            \n",
    "            twos = (twos ^ A[i]) & ~ones \n",
    "            print('twos',format(twos, 'b'))\n",
    "        return ones \n"
   ]
  },
  {
   "cell_type": "code",
   "execution_count": 76,
   "metadata": {},
   "outputs": [
    {
     "name": "stdout",
     "output_type": "stream",
     "text": [
      "ones 1\n",
      "twos 0\n",
      "ones 0\n",
      "twos 1\n",
      "ones 10\n",
      "twos 1\n",
      "ones 0\n",
      "twos 10\n",
      "ones 1\n",
      "twos 0\n",
      "ones 10\n",
      "twos 1\n",
      "ones 0\n",
      "twos 11\n",
      "ones 0\n",
      "twos 1\n",
      "ones 100\n",
      "twos 1\n",
      "ones 100\n",
      "twos 0\n",
      "ones 11010\n",
      "twos 100\n",
      "ones 0\n",
      "twos 11010\n",
      "ones 100\n",
      "twos 0\n",
      "ones 1010100\n",
      "twos 0\n",
      "ones 100\n",
      "twos 1010000\n",
      "ones 100\n",
      "twos 0\n"
     ]
    },
    {
     "data": {
      "text/plain": [
       "4"
      ]
     },
     "execution_count": 76,
     "metadata": {},
     "output_type": "execute_result"
    }
   ],
   "source": [
    "Solution().singleNumberII([1,1,2,3,3,3,2,2,4,1, 30, 30, 30, 80, 80, 80])"
   ]
  },
  {
   "cell_type": "markdown",
   "metadata": {},
   "source": [
    "84 - Single Number III\n",
    "\n",
    "\n",
    "Given 2*n + 2 numbers, every numbers occurs twice except two, find them.\n",
    "\n",
    "\n",
    "Example 1:\n",
    "    \n",
    "Input: \n",
    "        \n",
    "        [1,2,2,3,4,4,5,3]\n",
    "        \n",
    "Output: \n",
    "        \n",
    "        [1,5]"
   ]
  },
  {
   "cell_type": "code",
   "execution_count": null,
   "metadata": {},
   "outputs": [],
   "source": [
    "# IDEA: find a way to split the two numbers which appear once into two separate XOR operations"
   ]
  },
  {
   "cell_type": "code",
   "execution_count": 15,
   "metadata": {},
   "outputs": [],
   "source": [
    "class Solution:\n",
    "    \"\"\"\n",
    "    @param A: An integer array\n",
    "    @return: An integer array\n",
    "    \"\"\"\n",
    "    def singleNumberIII(self, A):\n",
    "        diff = 0 \n",
    "        for num in A:\n",
    "            diff ^= num\n",
    "        # get the last 1 in diff \n",
    "#         print(format(diff, 'b'))\n",
    "#         print(format(-diff, 'b'))\n",
    "        diff &= -diff\n",
    "#         print(format(diff, 'b'))\n",
    "        \n",
    "        # the final diff is x ^ y if x and y are the two numbers which appear once each\n",
    "        # so diff have value 1 with positions where one of them have 1 while the other have 0 \n",
    "        results = [0, 0]\n",
    "        \n",
    "        for num in A:\n",
    "            if num & diff == 0:\n",
    "                results[0] ^= num \n",
    "            else:\n",
    "                results[1] ^= num\n",
    "        return results \n"
   ]
  },
  {
   "cell_type": "code",
   "execution_count": 16,
   "metadata": {},
   "outputs": [
    {
     "data": {
      "text/plain": [
       "[1, 5]"
      ]
     },
     "execution_count": 16,
     "metadata": {},
     "output_type": "execute_result"
    }
   ],
   "source": [
    "Solution().singleNumberIII([1,2,2,3,4,4,5,3])\n"
   ]
  },
  {
   "cell_type": "code",
   "execution_count": null,
   "metadata": {},
   "outputs": [],
   "source": []
  }
 ],
 "metadata": {
  "kernelspec": {
   "display_name": "Python 3",
   "language": "python",
   "name": "python3"
  },
  "language_info": {
   "codemirror_mode": {
    "name": "ipython",
    "version": 3
   },
   "file_extension": ".py",
   "mimetype": "text/x-python",
   "name": "python",
   "nbconvert_exporter": "python",
   "pygments_lexer": "ipython3",
   "version": "3.6.8"
  }
 },
 "nbformat": 4,
 "nbformat_minor": 2
}
