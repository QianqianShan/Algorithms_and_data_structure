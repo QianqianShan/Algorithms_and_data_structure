{
 "cells": [
  {
   "cell_type": "markdown",
   "metadata": {},
   "source": [
    "### Strings"
   ]
  },
  {
   "cell_type": "markdown",
   "metadata": {},
   "source": [
    "13 - Implement strStr()\n",
    "\n",
    "For a given `source` string and a `target` string, you should output the first index(from 0) of `target` string in `source` string.\n",
    "\n",
    "If target does not exist in source, just return -1.\n",
    "\n",
    "\n",
    "Example: \n",
    "\n",
    "\tInput:\n",
    "    source = \"abcdabcdefg\" ，target = \"bcd\"\n",
    "    \n",
    "\tOutput: 1\n"
   ]
  },
  {
   "cell_type": "markdown",
   "metadata": {},
   "source": [
    "Hashcode: \n",
    "    \n",
    "    $$abcde = (a 31^4 + b 31^3 + c 31^2 + d 31^1 + e 31^0)$$"
   ]
  },
  {
   "cell_type": "code",
   "execution_count": 54,
   "metadata": {},
   "outputs": [],
   "source": [
    "# Python 1: basic implementation \n",
    "class Solution:\n",
    "    \"\"\"\n",
    "    @param source: \n",
    "    @param target: \n",
    "    @return: return the index\n",
    "    \"\"\"\n",
    "    def strStr(self, source, target):\n",
    "        n_s = len(source)\n",
    "        n_t = len(target)\n",
    "        # corner case \n",
    "        # special case : '' == ''\n",
    "        if source == target:\n",
    "            return 0\n",
    "        if n_s == 0 or n_t > n_s:\n",
    "            return -1\n",
    "        # if source is nonempty and target is empty \n",
    "        if n_s > 0 and n_t == 0:\n",
    "            return 0\n",
    "        \n",
    "        # loop\n",
    "        for i in range(n_s - n_t + 1):\n",
    "            if source[i:(i + n_t)] == target:\n",
    "                return i \n",
    "        return -1  \n"
   ]
  },
  {
   "cell_type": "code",
   "execution_count": 55,
   "metadata": {},
   "outputs": [
    {
     "data": {
      "text/plain": [
       "4"
      ]
     },
     "execution_count": 55,
     "metadata": {},
     "output_type": "execute_result"
    }
   ],
   "source": [
    "Solution().strStr(source = \"abcde\", target=\"e\")"
   ]
  },
  {
   "cell_type": "code",
   "execution_count": 64,
   "metadata": {},
   "outputs": [],
   "source": [
    "# Python 2:  map strings to integers and record with a hashcode \n",
    "class Solution:\n",
    "    \"\"\"\n",
    "    @param source: \n",
    "    @param target: \n",
    "    @return: return the index\n",
    "    \"\"\"\n",
    "    def strStr(self, source, target):\n",
    "        # compute hashcode of target \n",
    "        n_s = len(source)\n",
    "        n_t = len(target)\n",
    "        \n",
    "        target_code = self.hashcode(target)\n",
    "        \n",
    "        for i in range(n_s - n_t + 1):\n",
    "            source_code = self.hashcode(source[i:(i + n_t)])\n",
    "            # double check by source[i:(i + n_t)] == target to make sure the target is in source \n",
    "            if source_code == target_code and source[i:(i + n_t)] == target:\n",
    "                return i \n",
    "        return -1 \n",
    "\n",
    "        \n",
    "        \n",
    "    def hashcode(self, string):\n",
    "        code = 0\n",
    "        for char in string:\n",
    "            code = (code * 31 + ord(char)) % 10**6\n",
    "        return code \n",
    "            \n"
   ]
  },
  {
   "cell_type": "code",
   "execution_count": 65,
   "metadata": {},
   "outputs": [
    {
     "name": "stdout",
     "output_type": "stream",
     "text": [
      "0\n"
     ]
    },
    {
     "data": {
      "text/plain": [
       "0"
      ]
     },
     "execution_count": 65,
     "metadata": {},
     "output_type": "execute_result"
    }
   ],
   "source": [
    "Solution().strStr(source = \"\", target=\"\")"
   ]
  },
  {
   "cell_type": "markdown",
   "metadata": {},
   "source": [
    "594 -strStr II\n",
    "\n",
    "Implement `strStr` function in `O(n + m)` time.\n",
    "\n",
    "`strStr` returns the first index of the target string in a source string. The length of the target string is `m` and the length of the source string is `n`.\n",
    "\n",
    "If target does not exist in source, just return -1.\n",
    "\n",
    "Example: \n",
    "\n",
    "Input：source = \"abcdef\"， target = \"bcd\"\n",
    "\n",
    "Output：1"
   ]
  },
  {
   "cell_type": "code",
   "execution_count": 44,
   "metadata": {},
   "outputs": [],
   "source": [
    "# Python: rabin-karp, use a quicker way to compute hashcode as shown in quick_hashcode function\n",
    "class Solution:\n",
    "    \"\"\"\n",
    "    @param: source: A source string\n",
    "    @param: target: A target string\n",
    "    @return: An integer as index\n",
    "    \"\"\"\n",
    "    def strStr2(self, source, target):\n",
    "        \n",
    "        if source is None or target is None:\n",
    "            return -1 \n",
    "        # compute hashcode of target \n",
    "        n_s = len(source)\n",
    "        n_t = len(target)\n",
    "        \n",
    "        base = 10**6\n",
    "        \n",
    "        target_code = self.hashcode(target, base)\n",
    "        source_code = self.hashcode(source[:n_t], base)\n",
    "        print('target',target_code)\n",
    "\n",
    "        if source_code == target_code and source[:n_t] == target:\n",
    "            return 0 \n",
    "        \n",
    "        power = 31**(n_t) % base\n",
    "        \n",
    "        for i in range(n_s - n_t):\n",
    "            # \n",
    "            source_code = self.quick_hashcode(source_code, source[i], source[i + n_t], power, base)\n",
    "            print('source',source_code)\n",
    "            # double check by source[i:(i + n_t)] == target to make sure the target is in source \n",
    "            if source_code == target_code and source[(i + 1):(i + n_t + 1)] == target:\n",
    "                return i + 1\n",
    "#             if i % 1000 == 0:\n",
    "#                 print(i)\n",
    "\n",
    "        return -1 \n",
    "\n",
    "        \n",
    "        \n",
    "    def hashcode(self, string, base):\n",
    "        code = 0\n",
    "        for char in string:\n",
    "            code = (code * 31 + ord(char)) % base\n",
    "        return code \n",
    "    \n",
    "    def quick_hashcode(self, orig_code, removed_char, added_char, power, base):\n",
    "        new_code = ((orig_code * 31 + ord(added_char)) % base - ord(removed_char) * power ) % base\n",
    "        if new_code < 0:\n",
    "            new_code += base \n",
    "        return new_code\n",
    "        \n",
    "            "
   ]
  },
  {
   "cell_type": "code",
   "execution_count": 45,
   "metadata": {},
   "outputs": [
    {
     "name": "stdout",
     "output_type": "stream",
     "text": [
      "target 3138\n",
      "source 3138\n"
     ]
    },
    {
     "data": {
      "text/plain": [
       "1"
      ]
     },
     "execution_count": 45,
     "metadata": {},
     "output_type": "execute_result"
    }
   ],
   "source": [
    "Solution().strStr2('abde', 'bd')"
   ]
  },
  {
   "cell_type": "markdown",
   "metadata": {},
   "source": [
    "415 - Valid Palindrome\n",
    "\n",
    "Given a string, determine if it is a palindrome, considering only alphanumeric characters and ignoring cases.\n",
    "\n",
    "Example: \n",
    "\n",
    "Input: \"A man, a plan, a canal: Panama\"\n",
    "\n",
    "Output: true\n",
    "\n",
    "\n",
    "* Two pointers \n"
   ]
  },
  {
   "cell_type": "code",
   "execution_count": 76,
   "metadata": {},
   "outputs": [],
   "source": [
    "class Solution:\n",
    "    \"\"\"\n",
    "    @param s: A string\n",
    "    @return: Whether the string is a valid palindrome\n",
    "    \"\"\"\n",
    "    def isPalindrome(self, s):\n",
    "        if len(s) == 0:\n",
    "            return True\n",
    "        # two pointer from two ends \n",
    "        start, end = 0, len(s) - 1\n",
    "        while start < end:\n",
    "            # ignore comma... which are not alphanumeric characters \n",
    "            # or use isdigit(), isalpha()\n",
    "            while start < end and not s[start].isalnum():\n",
    "                start += 1 \n",
    "            while start < end and not s[end].isalnum():\n",
    "                end -= 1 \n",
    "            # compare the two characters \n",
    "            if s[start].lower() == s[end].lower():\n",
    "                start += 1 \n",
    "                end -= 1 \n",
    "            else:\n",
    "                return False \n",
    "        return True \n"
   ]
  },
  {
   "cell_type": "code",
   "execution_count": 77,
   "metadata": {},
   "outputs": [
    {
     "data": {
      "text/plain": [
       "True"
      ]
     },
     "execution_count": 77,
     "metadata": {},
     "output_type": "execute_result"
    }
   ],
   "source": [
    "Solution().isPalindrome('A man, a plan, a canal: Panama')"
   ]
  },
  {
   "cell_type": "markdown",
   "metadata": {},
   "source": [
    "627 - Longest Palindrome\n",
    "\n",
    "* Given a string which consists of lowercase or uppercase letters, find the length of the longest palindromes that can be built with those letters.\n",
    "\n",
    "* This is case sensitive, for example \"Aa\" is not considered a palindrome here.\n",
    "\n",
    "* Hash table \n",
    "\n",
    "Example: \n",
    "\n",
    "Input : s = \"abccccdd\"\n",
    "\n",
    "Output : 7"
   ]
  },
  {
   "cell_type": "code",
   "execution_count": 47,
   "metadata": {},
   "outputs": [],
   "source": [
    "class Solution:\n",
    "    \"\"\"\n",
    "    @param s: a string which consists of lowercase or uppercase letters\n",
    "    @return: the length of the longest palindromes that can be built\n",
    "    \"\"\"\n",
    "    def longestPalindrome(self, s):\n",
    "        if not s:\n",
    "            return 0 \n",
    "        # hash_table to be used to flag if the char has appeared even times \n",
    "        hash_table = {}\n",
    "        for char in s:\n",
    "            hash_table.setdefault(char, False)\n",
    "            if hash_table[char]:\n",
    "                del hash_table[char]\n",
    "            else:\n",
    "                hash_table[char] = True\n",
    "        \n",
    "        remove = len(hash_table)\n",
    "        \n",
    "        return len(s) - remove + 1 if remove > 0 else len(s)\n",
    "\n",
    "\n",
    "        "
   ]
  },
  {
   "cell_type": "code",
   "execution_count": 48,
   "metadata": {},
   "outputs": [
    {
     "data": {
      "text/plain": [
       "7"
      ]
     },
     "execution_count": 48,
     "metadata": {},
     "output_type": "execute_result"
    }
   ],
   "source": [
    "Solution().longestPalindrome('abccccdd')"
   ]
  },
  {
   "cell_type": "markdown",
   "metadata": {},
   "source": [
    "200 - Longest Palindromic Substring\n",
    "\n",
    "Given a string S, find the longest palindromic substring in S. You may assume that the maximum length of S is 1000,and there exists one unique longest palindromic substring.\n",
    "\n",
    "Example: \n",
    "\n",
    "Input:\"abcdzdcab\"\n",
    "\n",
    "Output:\"cdzdc\""
   ]
  },
  {
   "cell_type": "code",
   "execution_count": 12,
   "metadata": {},
   "outputs": [],
   "source": [
    "# Python 1: start two pointers from each character of the string, both pointers start from the middle\n",
    "# O(n^2) time \n",
    "class Solution:\n",
    "    \"\"\"\n",
    "    @param s: input string\n",
    "    @return: the longest palindromic substring\n",
    "    \"\"\"\n",
    "    def longestPalindrome(self, s):\n",
    "        # corner case \n",
    "        if not s: \n",
    "            return ''\n",
    "        # initialize the longest substr \n",
    "        longest = ''\n",
    "        # loop all positions as the middle character of a palindrome substr \n",
    "        for mid in range(len(s)):\n",
    "            # mid for odd and even length substr\n",
    "            for i in range(2):\n",
    "                substr = self.find_palindrome(s, mid, mid + i)\n",
    "                if len(substr) > len(longest):\n",
    "                    longest = substr\n",
    "        return longest\n",
    "    \n",
    "    \n",
    "    def find_palindrome(self, s, left, right): \n",
    "        while left >=0 and right < len(s) and s[left] == s[right]:\n",
    "            left -= 1 \n",
    "            right += 1 \n",
    "        return s[(left + 1):right]\n",
    "        \n"
   ]
  },
  {
   "cell_type": "code",
   "execution_count": 13,
   "metadata": {},
   "outputs": [
    {
     "data": {
      "text/plain": [
       "'cdzdc'"
      ]
     },
     "execution_count": 13,
     "metadata": {},
     "output_type": "execute_result"
    }
   ],
   "source": [
    "Solution().longestPalindrome('abcdzdcab')"
   ]
  },
  {
   "cell_type": "code",
   "execution_count": 36,
   "metadata": {},
   "outputs": [],
   "source": [
    "# Python 2: dynamic programming \n",
    "class Solution:\n",
    "    \"\"\"\n",
    "    @param s: input string\n",
    "    @return: the longest palindromic substring\n",
    "    \"\"\"\n",
    "    def longestPalindrome(self, s):\n",
    "        if not s:\n",
    "            return ''\n",
    "        # set up \n",
    "        n = len(s)\n",
    "        table = [[False] * n for _ in range(n)]\n",
    "        \n",
    "        # table[i][i] is always true (any character of iteself is palindrome)\n",
    "        for i in range(n):\n",
    "            table[i][i] = True \n",
    "        # table[i][i-1] is always invalid, set as True\n",
    "        for i in range(1, n):\n",
    "            table[i][i - 1] = True\n",
    "        \n",
    "        # if there is no palidrome longer than 1, then return the first character of s \n",
    "        longest = s[0]\n",
    "        \n",
    "        # loop over all possible lengths of a possible palidrome from 1 to n \n",
    "        for palidrome_len in range(1, n): \n",
    "            # find palidrome starting from 0, 1, ..., n, with length == palidrome_len \n",
    "            for start in range(n - palidrome_len):\n",
    "                end = start + palidrome_len\n",
    "                # s[start : (end + 1)] is palidrome (table[start][end] == True) only if \n",
    "                # s[start] == s[end] and the substr inbetween (start + 1, end -1) is palidrome\n",
    "                table[start][end] = (s[start] == s[end]) and table[start + 1][end - 1]\n",
    "                \n",
    "                # s[start:end + 1] has (palidrome_len + 1) characters \n",
    "                if table[start][end] and palidrome_len + 1 > len(longest):\n",
    "                    longest = s[start:(end + 1)]\n",
    "        return longest\n",
    "                "
   ]
  },
  {
   "cell_type": "code",
   "execution_count": 35,
   "metadata": {},
   "outputs": [
    {
     "name": "stdout",
     "output_type": "stream",
     "text": [
      "test\n",
      "False\n"
     ]
    },
    {
     "data": {
      "text/plain": [
       "'a'"
      ]
     },
     "execution_count": 35,
     "metadata": {},
     "output_type": "execute_result"
    }
   ],
   "source": [
    "Solution().longestPalindrome('ab')"
   ]
  },
  {
   "cell_type": "markdown",
   "metadata": {},
   "source": [
    "\n",
    "Python 3 , manacher's algorithm \n",
    "\n",
    "https://www.geeksforgeeks.org/manachers-algorithm-linear-time-longest-palindromic-substring-part-1/\n",
    "\n",
    "https://segmentfault.com/a/1190000003914228"
   ]
  },
  {
   "cell_type": "markdown",
   "metadata": {},
   "source": [
    "667 - Longest Palindromic Subsequence\n",
    "\n",
    "Given a string s, find the longest palindromic subsequence's length in s. You may assume that the maximum length of s is 1000.\n",
    "\n",
    "* Dynamic programming \n",
    "\n",
    "Example: \n",
    "\n",
    "Input: \"bbbab\"\n",
    "\n",
    "Output: 4"
   ]
  },
  {
   "cell_type": "markdown",
   "metadata": {},
   "source": [
    "Key idea: \n",
    "\n",
    "1. $$f[i][j] = max(f[i+1][j], f[i][j-1], f[i+1][j-1] + 2 | s[i] = s[j])$$\n",
    "\n",
    "2. Initialization: \n",
    "\n",
    "Any character itself is palindrome, $$f[i][i] = 1$$ \n",
    "\n",
    "\n",
    "If $s[i] = s[i+1]$,$$f[i][i+1] = 2$$\n",
    "\n",
    "If $s[i] != s[i+1]$,$$f[i][i+1] = 1$$\n",
    "\n",
    "3. loop over the length between i and j"
   ]
  },
  {
   "cell_type": "code",
   "execution_count": 101,
   "metadata": {},
   "outputs": [],
   "source": [
    "# Python 1: dynamic programming \n",
    "class Solution:\n",
    "    \"\"\"\n",
    "    @param s: the maximum length of s is 1000\n",
    "    @return: the longest palindromic subsequence's length\n",
    "    \"\"\"\n",
    "    def longestPalindromeSubseq(self, s):\n",
    "        n = len(s)\n",
    "        # corner cases \n",
    "        if n == 0:\n",
    "            return 0 \n",
    "        if n == 1:\n",
    "            return 1\n",
    "        # initialization \n",
    "        table = [[0] * n for _ in range(n)]\n",
    "        for i in range(n):\n",
    "            table[i][i] = 1\n",
    "        \n",
    "        for i in range(n - 1):\n",
    "            if s[i] == s[i + 1]:\n",
    "                table[i][i + 1] = 2\n",
    "            else:\n",
    "                table[i][i + 1] = 1\n",
    "        \n",
    "        # loop over length between i and j \n",
    "        for length in range(3, n + 1):\n",
    "            for i in range(n - length + 1):\n",
    "                j = i + length - 1 \n",
    "                if s[i] == s[j]:\n",
    "                    table[i][j] = max(table[i + 1][j], table[i][j - 1], table[i + 1][j - 1] + 2)\n",
    "                else: \n",
    "                    table[i][j] = max(table[i + 1][j], table[i][j - 1])\n",
    "        print(table)\n",
    "        return table[0][n - 1]\n",
    "        \n",
    "            \n",
    "            \n",
    "        \n"
   ]
  },
  {
   "cell_type": "code",
   "execution_count": 102,
   "metadata": {},
   "outputs": [
    {
     "name": "stdout",
     "output_type": "stream",
     "text": [
      "[[1, 2, 3, 3, 4], [0, 1, 2, 2, 3], [0, 0, 1, 1, 3], [0, 0, 0, 1, 1], [0, 0, 0, 0, 1]]\n"
     ]
    },
    {
     "data": {
      "text/plain": [
       "4"
      ]
     },
     "execution_count": 102,
     "metadata": {},
     "output_type": "execute_result"
    }
   ],
   "source": [
    "Solution().longestPalindromeSubseq(\"bbbab\")"
   ]
  },
  {
   "cell_type": "code",
   "execution_count": 175,
   "metadata": {},
   "outputs": [],
   "source": [
    "# Python 2: memoization, time O(n^2)  \n",
    "class Solution:\n",
    "    \"\"\"\n",
    "    @param s: the maximum length of s is 1000\n",
    "    @return: the longest palindromic subsequence's length\n",
    "    \"\"\"\n",
    "    def longestPalindromeSubseq(self, s):\n",
    "        self.s = s \n",
    "        n = len(s)\n",
    "        \n",
    "        if n == 0:\n",
    "            return 0 \n",
    "        \n",
    "        if n == 1:\n",
    "            return 1 \n",
    "        \n",
    "        self.table = [[0] * n for _ in range(n)]\n",
    "        \n",
    "#         for i in range(n):\n",
    "#             for j in range(i, n):\n",
    "#                 self.table[i][j] = -1 \n",
    "                \n",
    "        self.memo(0, n - 1)\n",
    "        print(self.table)\n",
    "        return self.table[0][n-1]\n",
    "    \n",
    "    def memo(self, i, j):\n",
    "        # recursion ends with \n",
    "        # if already computed \n",
    "        if self.table[i][j] != 0:\n",
    "            return \n",
    "        \n",
    "        # if i == j \n",
    "        if i == j: \n",
    "            self.table[i][j] = 1\n",
    "            return \n",
    "        \n",
    "        # i = j - 1\n",
    "        if i == (j - 1):\n",
    "            self.table[i][j] = 2 if self.s[i] == self.s[j] else 1\n",
    "            return \n",
    "                \n",
    "        # recursion \n",
    "        self.memo(i, j - 1)\n",
    "        self.memo(i + 1, j)\n",
    "        self.memo(i + 1, j - 1)\n",
    "        \n",
    "        if self.s[i] == self.s[j]:\n",
    "            self.table[i][j] = max(self.table[i][j - 1], self.table[i + 1][j], self.table[i + 1][j - 1] + 2)\n",
    "        else: \n",
    "            self.table[i][j] = max(self.table[i][j - 1], self.table[i + 1][j])\n",
    "  "
   ]
  },
  {
   "cell_type": "code",
   "execution_count": 176,
   "metadata": {},
   "outputs": [
    {
     "name": "stdout",
     "output_type": "stream",
     "text": [
      "[[0, 2, 3, 3, 4], [0, 1, 2, 2, 3], [0, 0, 1, 1, 3], [0, 0, 0, 1, 1], [0, 0, 0, 0, 0]]\n"
     ]
    },
    {
     "data": {
      "text/plain": [
       "4"
      ]
     },
     "execution_count": 176,
     "metadata": {},
     "output_type": "execute_result"
    }
   ],
   "source": [
    "Solution().longestPalindromeSubseq(\"bbbab\")"
   ]
  },
  {
   "cell_type": "code",
   "execution_count": 1,
   "metadata": {},
   "outputs": [
    {
     "name": "stdout",
     "output_type": "stream",
     "text": [
      "CPU times: user 17.3 ms, sys: 12.4 ms, total: 29.7 ms\n",
      "Wall time: 30.2 ms\n"
     ]
    }
   ],
   "source": [
    "import numpy as np\n",
    "arr = np.arange(1000000)\n",
    "%time for _ in range(10): my = arr ** 2 "
   ]
  },
  {
   "cell_type": "code",
   "execution_count": 12,
   "metadata": {},
   "outputs": [
    {
     "data": {
      "text/plain": [
       "[0, 1, 2, 3, 4, 5, 6, 7, 8, 9]"
      ]
     },
     "execution_count": 12,
     "metadata": {},
     "output_type": "execute_result"
    }
   ],
   "source": [
    "a = list(range(10))\n",
    "a\n",
    "\n",
    "b = a[5:8]\n",
    "b[0] = 0\n",
    "a\n"
   ]
  }
 ],
 "metadata": {
  "kernelspec": {
   "display_name": "Python 3",
   "language": "python",
   "name": "python3"
  },
  "language_info": {
   "codemirror_mode": {
    "name": "ipython",
    "version": 3
   },
   "file_extension": ".py",
   "mimetype": "text/x-python",
   "name": "python",
   "nbconvert_exporter": "python",
   "pygments_lexer": "ipython3",
   "version": "3.6.7"
  }
 },
 "nbformat": 4,
 "nbformat_minor": 2
}
