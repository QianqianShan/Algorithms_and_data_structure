{
 "cells": [
  {
   "cell_type": "markdown",
   "metadata": {},
   "source": [
    "## Data structure, interval, array, matrix"
   ]
  },
  {
   "cell_type": "markdown",
   "metadata": {},
   "source": [
    "41 - Maximum Subarray\n",
    "\n",
    "Given an array of integers, find a contiguous subarray which has the largest sum.\n",
    "\n",
    "Example: \n",
    "\n",
    "    Given the array [−2,2,−3,4,−1,2,1,−5,3], the contiguous subarray [4,−1,2,1] has the largest sum = 6.\n",
    "\n",
    "* Prefix sum"
   ]
  },
  {
   "cell_type": "code",
   "execution_count": 10,
   "metadata": {},
   "outputs": [],
   "source": [
    "# Python: use prefix sum \n",
    "# max_sum = prefix(j + 1) - min(prefix(x)) for x = 0, 1, ..., j+1\n",
    "import sys \n",
    "class Solution:\n",
    "    \"\"\"\n",
    "    @param nums: A list of integers\n",
    "    @return: A integer indicate the sum of max subarray\n",
    "    \"\"\"\n",
    "    def maxSubArray(self, nums):\n",
    "        prefix_sum = 0 \n",
    "        min_sum = 0\n",
    "        max_sum = -sys.maxsize \n",
    "        for num in nums:\n",
    "            prefix_sum += num \n",
    "            max_sum = max(max_sum, prefix_sum - min_sum)\n",
    "            min_sum = min(min_sum, prefix_sum)\n",
    "#         print(max_sum)\n",
    "#         print(min_sum)\n",
    "        return max_sum\n",
    "\n"
   ]
  },
  {
   "cell_type": "code",
   "execution_count": 2,
   "metadata": {},
   "outputs": [
    {
     "name": "stdout",
     "output_type": "stream",
     "text": [
      "9223372036854775807\n"
     ]
    }
   ],
   "source": [
    "import sys \n",
    "print(sys.maxsize)"
   ]
  },
  {
   "cell_type": "code",
   "execution_count": 11,
   "metadata": {},
   "outputs": [
    {
     "name": "stdout",
     "output_type": "stream",
     "text": [
      "6\n",
      "-3\n"
     ]
    },
    {
     "data": {
      "text/plain": [
       "6"
      ]
     },
     "execution_count": 11,
     "metadata": {},
     "output_type": "execute_result"
    }
   ],
   "source": [
    "Solution().maxSubArray([-2, 2,-3,4,-1,2,1,-5,3])"
   ]
  },
  {
   "cell_type": "markdown",
   "metadata": {},
   "source": [
    "138 - Subarray Sum\n",
    "\n",
    "Given an integer array, find a subarray where the sum of numbers is zero. Your code should return the index of the first number and the index of the last number.\n",
    "\n",
    "Input:  [-3, 1, 2, -3, 4]\n",
    "\n",
    "\tOutput: [0, 2] or [1, 3].\n",
    "    \n",
    "* Prefix sum, subarray "
   ]
  },
  {
   "cell_type": "code",
   "execution_count": 31,
   "metadata": {},
   "outputs": [],
   "source": [
    "# Use prefix_sum(j + 1) = A[0] + ... + A[j]\n",
    "class Solution:\n",
    "    \"\"\"\n",
    "    @param nums: A list of integers\n",
    "    @return: A list of integers includes the index of the first number and the index of the last number\n",
    "    \"\"\"\n",
    "    def subarraySum(self, nums):\n",
    "        # when len(nums) == 1\n",
    "        if len(nums) == 1 and nums == 0:\n",
    "            return [0, 0]\n",
    "            \n",
    "        prefix_sum = 0 \n",
    "        # hash table to record all prefix sums with key the sum, val the index \n",
    "        hash_table = {}\n",
    "        hash_table[0] = 0\n",
    "        for i in range(len(nums)):\n",
    "            prefix_sum += nums[i]\n",
    "            \n",
    "            # check if exists the same sum \n",
    "            if prefix_sum in hash_table:\n",
    "                return [hash_table[prefix_sum], i]\n",
    "             # add the current sum to hash table \n",
    "            hash_table[prefix_sum] = i + 1 \n",
    "            print(hash_table)\n",
    "        return [-1, -1]\n",
    "            \n"
   ]
  },
  {
   "cell_type": "code",
   "execution_count": 32,
   "metadata": {},
   "outputs": [
    {
     "name": "stdout",
     "output_type": "stream",
     "text": [
      "{0: 0, 1: 1}\n"
     ]
    },
    {
     "data": {
      "text/plain": [
       "[0, 1]"
      ]
     },
     "execution_count": 32,
     "metadata": {},
     "output_type": "execute_result"
    }
   ],
   "source": [
    "Solution().subarraySum([1, -1])"
   ]
  },
  {
   "cell_type": "markdown",
   "metadata": {},
   "source": [
    "944 - Maximum Submatrix\n",
    "\n",
    "Given an `n x n` matrix of positive and negative integers, find the submatrix with the largest possible sum.\n",
    "\n",
    "Input:  \n",
    "\n",
    "matrix = [\n",
    "\n",
    "    [1,3,-1],\n",
    "    \n",
    "    [2,3,-2],\n",
    "    \n",
    "    [-1,-2,-3]\n",
    "]\n",
    "\n",
    "Output: 9\n",
    "\n",
    "Explanation:\n",
    "\n",
    "the submatrix with the largest possible sum is:\n",
    "\n",
    "[\n",
    "\n",
    "    [1,3],\n",
    "    \n",
    "    [2,3]\n",
    "]\n"
   ]
  },
  {
   "cell_type": "code",
   "execution_count": 16,
   "metadata": {},
   "outputs": [],
   "source": [
    "# Python 1: sum col values together to convert the problem into a max subarray, loop through different col sums \n",
    "import sys \n",
    "\n",
    "class Solution:\n",
    "    \"\"\"\n",
    "    @param matrix: the given matrix\n",
    "    @return: the largest possible sum\n",
    "    \"\"\"\n",
    "    def maxSubmatrix(self, matrix):\n",
    "        if len(matrix) == 0 or len(matrix[0]) == 0 or matrix is None:\n",
    "            return 0\n",
    "        max_sum = -sys.maxsize\n",
    "        for i in range(len(matrix)):\n",
    "            # initialize col_sum every time when there is a new i \n",
    "            col_sum = [0 for _ in range(len(matrix[0]))]\n",
    "            for j in range(i, len(matrix)):\n",
    "                for k in range(len(matrix[0])):\n",
    "                    # col_sum are cumulative \n",
    "                    col_sum[k] += matrix[j][k]\n",
    "                print(col_sum)\n",
    "                max_sum = max(self.max_subarray(col_sum), max_sum)\n",
    "        return max_sum \n",
    "    \n",
    "    def max_subarray(self, nums):\n",
    "        max_sum = -sys.maxsize \n",
    "        min_sum = 0\n",
    "        prefix_sum = 0 \n",
    "        for num in nums:\n",
    "            prefix_sum += num\n",
    "            max_sum = max(max_sum, prefix_sum - min_sum)\n",
    "            min_sum = min(min_sum, prefix_sum)\n",
    "        return max_sum\n",
    "            \n"
   ]
  },
  {
   "cell_type": "code",
   "execution_count": 18,
   "metadata": {},
   "outputs": [
    {
     "name": "stdout",
     "output_type": "stream",
     "text": [
      "[1, 3, -1]\n",
      "[3, 6, -3]\n",
      "[2, 4, -6]\n",
      "[2, 3, -2]\n",
      "[1, 1, -5]\n",
      "[-1, -2, -3]\n"
     ]
    },
    {
     "data": {
      "text/plain": [
       "9"
      ]
     },
     "execution_count": 18,
     "metadata": {},
     "output_type": "execute_result"
    }
   ],
   "source": [
    "Solution().maxSubmatrix([\n",
    "    [1,3,-1],\n",
    "    [2,3,-2],\n",
    "    [-1,-2,-3]\n",
    "])\n",
    "\n"
   ]
  },
  {
   "cell_type": "code",
   "execution_count": 23,
   "metadata": {},
   "outputs": [
    {
     "data": {
      "text/plain": [
       "False"
      ]
     },
     "execution_count": 23,
     "metadata": {},
     "output_type": "execute_result"
    }
   ],
   "source": [
    "a = [[]]\n",
    "a\n",
    "len(a)\n",
    "len(a[0])\n",
    "a is None"
   ]
  },
  {
   "cell_type": "markdown",
   "metadata": {},
   "source": [
    "65 - Median of two Sorted Arrays\n",
    "\n",
    "There are two sorted arrays `A` and `B` of size `m` and `n` respectively. Find the median of the two sorted arrays.\n",
    "\n",
    "Example: \n",
    "\n",
    "Given `A=[1,2,3,4,5,6]` and `B=[2,3,4,5]`, the median is `3.5`.\n",
    "\n",
    "Given `A=[1,2,3]` and `B=[4,5]`, the median is `3`.\n",
    "\n",
    "The overall run time complexity should be `O(log (m+n))`.\n",
    "\n",
    "\n",
    "* Array, divide and conquer "
   ]
  },
  {
   "cell_type": "code",
   "execution_count": 46,
   "metadata": {},
   "outputs": [],
   "source": [
    "# Python 1: divide and conquer, find the general k-th element algorithm (k not necessarily the median element) \n",
    "# idea: to find the k-th element in two sorted array, \n",
    "#       1. compare the k/2-th element of each array and drop the first k/2 elements \n",
    "#          if its k/2 -th element is smaller (the k-th element must not in these dropped values)\n",
    "#       2. If one array doesn't have the k/2 th element, one can think its k/2 th element as infinity\n",
    "#          (the k-th element must still in the left arrays)\n",
    "\n",
    "import sys \n",
    "\n",
    "class Solution:\n",
    "    \"\"\"\n",
    "    @param: A: An integer array\n",
    "    @param: B: An integer array\n",
    "    @return: a double whose format is *.5 or *.0\n",
    "    \"\"\"\n",
    "    def findMedianSortedArrays(self, A, B):\n",
    "        # boundaries can be dealt with the following code \n",
    "        \n",
    "        # if both len(A) and len(B) are not zero \n",
    "        # if n is even\n",
    "        n = len(A) + len(B)\n",
    "        if n % 2 == 0:\n",
    "            return ( self.find_kth(A, 0, B, 0, n // 2) + self.find_kth(A, 0, B, 0, n // 2 + 1) ) / 2 \n",
    "        # else if n is odd \n",
    "        return self.find_kth(A, 0, B, 0, n // 2 + 1)\n",
    "    \n",
    "    def find_kth(self, A, start_a, B, start_b, k):\n",
    "        # return conditions \n",
    "        if (start_a >= len(A)):\n",
    "            return B[start_b + k - 1]\n",
    "        \n",
    "        if (start_b >= len(B)):\n",
    "            return A[start_a + k - 1]\n",
    "        \n",
    "        # \n",
    "        if k == 1:\n",
    "            # the smaller one is before the bigger one \n",
    "            return min(A[start_a], B[start_b])\n",
    "        \n",
    "        # recursion, no matter how the elements of two sorted arrays are smaller / bigger / mixed with each other\n",
    "        # the median must NOT in the first quarter of the longer array or the array with\n",
    "        # smaller first quarter value \n",
    "        half_k_A = A[start_a + k // 2 - 1] if start_a + k // 2 - 1 < len(A) else sys.maxsize\n",
    "        half_k_B = B[start_b + k // 2 - 1] if start_b + k // 2 - 1 < len(B) else sys.maxsize \n",
    "        \n",
    "        # compare, if the  k / 2 th element of A after start_a is smaller than ... of B,\n",
    "        # drop the first k / 2 elements  of A \n",
    "        if (half_k_A < half_k_B):\n",
    "            return self.find_kth(A, start_a + k // 2, B, start_b, k - k // 2)\n",
    "        else:\n",
    "            return self.find_kth(A, start_a, B, start_b + k // 2, k - k // 2)\n",
    "        \n",
    "    \n",
    "        \n",
    "            \n"
   ]
  },
  {
   "cell_type": "code",
   "execution_count": 47,
   "metadata": {},
   "outputs": [
    {
     "data": {
      "text/plain": [
       "5"
      ]
     },
     "execution_count": 47,
     "metadata": {},
     "output_type": "execute_result"
    }
   ],
   "source": [
    "Solution().findMedianSortedArrays([], [ 5])"
   ]
  },
  {
   "cell_type": "code",
   "execution_count": 82,
   "metadata": {},
   "outputs": [],
   "source": [
    "# Python 2: binary searach on answer \n",
    "\n",
    "class Solution:\n",
    "    \"\"\"\n",
    "    @param: A: An integer array\n",
    "    @param: B: An integer array\n",
    "    @return: a double whose format is *.5 or *.0\n",
    "    \"\"\"\n",
    "    def findMedianSortedArrays(self, A, B):\n",
    "        n = len(A) + len(B)\n",
    "        if n % 2 == 1:\n",
    "            return self.find_kth(A, B, n // 2 + 1)\n",
    "        return (self.find_kth(A, B, n // 2) + self.find_kth(A, B, n // 2 + 1)) / 2\n",
    "        \n",
    "        \n",
    "    def find_kth(self, A, B, k):\n",
    "        # symmetric cases \n",
    "        if len(B) == 0 and len(A) != 0:\n",
    "            A, B = B, A\n",
    "        if len(A) == 0 and len(B) != 0:\n",
    "            print('true')\n",
    "            return B[k - 1]\n",
    "        \n",
    "        lower = min(min(A), min(B))\n",
    "        upper = max(max(A), max(B))\n",
    "        \n",
    "        # while condition makes sure that lower and upper are next to each other at the end \n",
    "        while lower + 1 < upper: \n",
    "            # use integer divide to make sure lower and upper values are *.0 or *.5\n",
    "            mid = (lower + upper) // 2\n",
    "            # count of numbers smaller than mid in A and B \n",
    "            cnt1 = sum([1 if A[i] <= mid else 0 for i in range(len(A))])\n",
    "            cnt2 = sum([1 if B[i] <= mid else 0 for i in range(len(B))])\n",
    "        \n",
    "            if cnt1 + cnt2 < k:\n",
    "                lower = mid\n",
    "            else:\n",
    "                upper = mid\n",
    "            \n",
    "        # count again based on the final lower value \n",
    "        cnt1 = sum([1 if A[i] <= lower else 0 for i in range(len(A))])\n",
    "        cnt2 = sum([1 if B[i] <= lower else 0 for i in range(len(B))]) \n",
    "        \n",
    "        # if the total counts of values smaller than lower >= k, lower is the k th\n",
    "        if cnt1 + cnt2 >= k:\n",
    "            return lower \n",
    "        else:\n",
    "            return upper \n",
    "\n",
    "        "
   ]
  },
  {
   "cell_type": "code",
   "execution_count": 83,
   "metadata": {},
   "outputs": [
    {
     "data": {
      "text/plain": [
       "3.5"
      ]
     },
     "execution_count": 83,
     "metadata": {},
     "output_type": "execute_result"
    }
   ],
   "source": [
    "Solution().findMedianSortedArrays([3], [4])"
   ]
  },
  {
   "cell_type": "code",
   "execution_count": 102,
   "metadata": {},
   "outputs": [
    {
     "name": "stdout",
     "output_type": "stream",
     "text": [
      "A [1, 2, 3, 4]\n",
      "B [5, 6, 7, 8, 9]\n",
      "A [3, 4]\n",
      "B [5, 6, 7]\n",
      "A [4]\n",
      "B [5, 6]\n",
      "A [4]\n",
      "B [5]\n",
      "true\n",
      "[4]\n",
      "[5]\n"
     ]
    },
    {
     "data": {
      "text/plain": [
       "4.5"
      ]
     },
     "execution_count": 102,
     "metadata": {},
     "output_type": "execute_result"
    }
   ],
   "source": [
    "Solution().findMedianSortedArrays([1,2,3,4], [5,6,7,8,9])"
   ]
  },
  {
   "cell_type": "code",
   "execution_count": 105,
   "metadata": {},
   "outputs": [
    {
     "data": {
      "text/plain": [
       "[3, 4]"
      ]
     },
     "execution_count": 105,
     "metadata": {},
     "output_type": "execute_result"
    }
   ],
   "source": [
    "a = [1, 2, 3, 4, 5]\n",
    "a[-3:-1]"
   ]
  }
 ],
 "metadata": {
  "kernelspec": {
   "display_name": "Python 3",
   "language": "python",
   "name": "python3"
  },
  "language_info": {
   "codemirror_mode": {
    "name": "ipython",
    "version": 3
   },
   "file_extension": ".py",
   "mimetype": "text/x-python",
   "name": "python",
   "nbconvert_exporter": "python",
   "pygments_lexer": "ipython3",
   "version": "3.6.3"
  }
 },
 "nbformat": 4,
 "nbformat_minor": 2
}
