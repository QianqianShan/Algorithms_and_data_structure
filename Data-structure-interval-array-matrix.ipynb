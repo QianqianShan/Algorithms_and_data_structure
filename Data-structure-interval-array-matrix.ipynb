{
 "cells": [
  {
   "cell_type": "markdown",
   "metadata": {},
   "source": [
    "## Data structure, interval, array, matrix"
   ]
  },
  {
   "cell_type": "markdown",
   "metadata": {},
   "source": [
    "30 - Insert Interval\n",
    "\n",
    "Given a non-overlapping interval list which is sorted by start point.\n",
    "\n",
    "Insert a new interval into it, make sure the list is still in order and non-overlapping (merge intervals if necessary).\n",
    "\n",
    "\n",
    "Input:\n",
    "\n",
    "(2, 5) into [(1,2), (5,9)]\n",
    "\n",
    "Output:\n",
    "\n",
    "[(1,9)]\n",
    "\n",
    "\n",
    "* Interval "
   ]
  },
  {
   "cell_type": "code",
   "execution_count": 51,
   "metadata": {},
   "outputs": [],
   "source": [
    "# Python 1: define a sort in class Interval, compare the next interval to the current until there is no overlap\n",
    "\n",
    "# Definition of Interval.\n",
    "class Interval(object):\n",
    "    def __init__(self, start, end):\n",
    "        self.start = start\n",
    "        self.end = end\n",
    "    def __lt__(self, other):\n",
    "        return self.start < other.start \n",
    "\n",
    "class Solution:\n",
    "    \"\"\"\n",
    "    @param intervals: Sorted interval list.\n",
    "    @param newInterval: new interval.\n",
    "    @return: A new interval list.\n",
    "    \"\"\"\n",
    "    def insert(self, intervals, newInterval):\n",
    "        # insert newInterval to intervals ordered by their start values \n",
    "        intervals.append(newInterval)\n",
    "        intervals.sort()\n",
    "        for i in range(len(intervals)):\n",
    "            print('{}, {}'.format(intervals[i].start, intervals[i].end))\n",
    "        result = []\n",
    "        \n",
    "        i = 1 \n",
    "        cur_int = intervals[0]\n",
    "        while i < len(intervals):\n",
    "            next_int = intervals[i]\n",
    "            if cur_int.end < next_int.start:\n",
    "                result.append((cur_int.start, cur_int.end))\n",
    "                cur_int = next_int\n",
    "            else:\n",
    "                cur_int.end = max(next_int.end, cur_int.end)\n",
    "            i += 1\n",
    "        # append the last cur_int\n",
    "        result.append((cur_int.start, cur_int.end))\n",
    "        return result\n",
    "            \n",
    "\n",
    "\n",
    "            \n",
    "            \n",
    "        \n"
   ]
  },
  {
   "cell_type": "code",
   "execution_count": 50,
   "metadata": {},
   "outputs": [
    {
     "name": "stdout",
     "output_type": "stream",
     "text": [
      "1, 2\n",
      "2, 5\n",
      "3, 4\n",
      "5, 9\n",
      "10, 15\n",
      "10\n",
      "15\n"
     ]
    },
    {
     "data": {
      "text/plain": [
       "[(1, 9), (10, 15)]"
      ]
     },
     "execution_count": 50,
     "metadata": {},
     "output_type": "execute_result"
    }
   ],
   "source": [
    "Solution().insert( [Interval(1,2), Interval(5,9), Interval(3, 4), Interval(10, 15)], Interval(2, 5))"
   ]
  },
  {
   "cell_type": "code",
   "execution_count": 96,
   "metadata": {},
   "outputs": [],
   "source": [
    "# Python 2: don't use sort, compare each existing intervals with the newInterval  \n",
    "\n",
    "# Definition of Interval.\n",
    "class Interval(object):\n",
    "    def __init__(self, start, end):\n",
    "        self.start = start\n",
    "        self.end = end\n",
    "\n",
    "class Solution:\n",
    "    \"\"\"\n",
    "    @param intervals: Sorted interval list.\n",
    "    @param newInterval: new interval.\n",
    "    @return: A new interval list.\n",
    "    \"\"\"\n",
    "    def insert(self, intervals, newInterval):\n",
    "        \n",
    "        # first insert newInterval into intervals by its start value \n",
    "        \n",
    "        # consider three cases: \n",
    "        # 1. newInterval in the middle, list head, list tail\n",
    "        i = 0 \n",
    "        while i < len(intervals):\n",
    "            # insert in middle and beginning of intervals \n",
    "            if intervals[i].start > newInterval.start:\n",
    "                intervals.insert(i, newInterval)\n",
    "                break\n",
    "            i += 1\n",
    "            # insert in the end \n",
    "            if i == len(intervals):\n",
    "                intervals.insert(i, newInterval)\n",
    "                break\n",
    "        print('intervals')\n",
    "        for j in range(len(intervals)):\n",
    "            print('{}, {}'.format(intervals[j].start, intervals[j].end))\n",
    "            \n",
    "        result = []\n",
    "        cur_int = intervals[0]\n",
    "        i = 1\n",
    "        while i < len(intervals):\n",
    "            next_int = intervals[i]\n",
    "            if next_int.start > cur_int.end:\n",
    "                # append\n",
    "                # result.append(Interval(cur_int.start, cur_int.end))\n",
    "                result.append((cur_int.start, cur_int.end))\n",
    "                # update cur_int\n",
    "                cur_int = next_int\n",
    "            else:\n",
    "                # merge intervals \n",
    "                cur_int.start = min(cur_int.start, next_int.start)\n",
    "                cur_int.end = max(cur_int.end, next_int.end)\n",
    "            i += 1\n",
    "        # result.append(Interval(cur_int.start, cur_int.end))    \n",
    "        result.append((cur_int.start, cur_int.end))\n",
    "        return result\n"
   ]
  },
  {
   "cell_type": "code",
   "execution_count": 95,
   "metadata": {},
   "outputs": [
    {
     "name": "stdout",
     "output_type": "stream",
     "text": [
      "intervals\n",
      "2, 3\n",
      "5, 8\n"
     ]
    },
    {
     "data": {
      "text/plain": [
       "[(2, 3), (5, 8)]"
      ]
     },
     "execution_count": 95,
     "metadata": {},
     "output_type": "execute_result"
    }
   ],
   "source": [
    "Solution().insert( [Interval(2,3)], Interval(5, 8))"
   ]
  },
  {
   "cell_type": "markdown",
   "metadata": {},
   "source": [
    "839 - Merge Two Sorted Interval Lists\n",
    "\n",
    "Merge two sorted (ascending) lists of interval and return it as a new sorted list. The new sorted list should be made by splicing together the intervals of the two lists and sorted in ascending order.\n",
    "\n",
    "The intervals in the given list do not overlap.\n",
    "\n",
    "The intervals in different lists may overlap.\n",
    "\n",
    "\n",
    "Input: list1 = [(1,2),(3,4)] and list2 = [(2,3),(5,6)]\n",
    "\n",
    "Output: [(1,4),(5,6)]\n",
    "\n",
    "Explanation:\n",
    "\n",
    "(1,2),(2,3),(3,4) --> (1,4)\n",
    "\n",
    "(5,6) --> (5,6)\n",
    "\n",
    "* Interval"
   ]
  },
  {
   "cell_type": "code",
   "execution_count": 103,
   "metadata": {},
   "outputs": [],
   "source": [
    "\n",
    "class Interval(object):\n",
    "    def __init__(self, start, end):\n",
    "        self.start = start\n",
    "        self.end = end\n",
    "\n",
    "\n",
    "class Solution:\n",
    "    \"\"\"\n",
    "    @param list1: one of the given list\n",
    "    @param list2: another list\n",
    "    @return: the new sorted list of interval\n",
    "    \"\"\"\n",
    "    def mergeTwoInterval(self, list1, list2):\n",
    "    \n",
    "        results = []\n",
    "        \n",
    "        # when both lists are not empty \n",
    "        i, j = 0, 0\n",
    "        while i < len(list1) and j < len(list2):\n",
    "            # compare the current first element of two lists \n",
    "            if list1[i].start < list2[j].start:\n",
    "                # pop the one with smaller start value \n",
    "                self.merge(results, list1[i])\n",
    "                i += 1\n",
    "            else:\n",
    "                self.merge(results, list2[j])\n",
    "                j += 1\n",
    "\n",
    "            \n",
    "        # when list1 is not empty and list 2 is empty \n",
    "        while i < len(list1):\n",
    "            self.merge(results, list1[i])\n",
    "            i += 1\n",
    "            \n",
    "        while j < len(list2):\n",
    "            self.merge(results, list2[j])\n",
    "            j += 1\n",
    "        print('results')\n",
    "        for i in range(len(results)):\n",
    "            print('{}, {}'.format(results[i].start, results[i].end))    \n",
    "        return results \n",
    "    \n",
    "    \n",
    "    def merge(self, results, interval):\n",
    "        # when to append      \n",
    "        # 1. when results is empty \n",
    "        if len(results) == 0:\n",
    "            results.append(interval)\n",
    "            return\n",
    "        # 2. when interval has no overlap with the last interval in results \n",
    "        \n",
    "        if interval.start > results[-1].end:\n",
    "            results.append(interval)\n",
    "            return\n",
    "            \n",
    "        # when there is overlap, don't append, just update the last interval of results \n",
    "        results[-1].end = max(results[-1].end, interval.end)\n",
    "        return\n",
    "        \n",
    "        \n",
    "\n"
   ]
  },
  {
   "cell_type": "code",
   "execution_count": 104,
   "metadata": {},
   "outputs": [
    {
     "name": "stdout",
     "output_type": "stream",
     "text": [
      "results\n",
      "1, 4\n",
      "5, 6\n"
     ]
    },
    {
     "data": {
      "text/plain": [
       "[<__main__.Interval at 0x7f479c4bb630>, <__main__.Interval at 0x7f479c4bb358>]"
      ]
     },
     "execution_count": 104,
     "metadata": {},
     "output_type": "execute_result"
    }
   ],
   "source": [
    "Solution().mergeTwoInterval([Interval(1, 2), Interval(3, 4)], [Interval(2, 3), Interval(5, 6)])"
   ]
  },
  {
   "cell_type": "markdown",
   "metadata": {},
   "source": [
    "577 - Merge K Sorted Interval Lists\n",
    "\n",
    "Merge K sorted interval lists into one sorted interval list. You need to merge overlapping intervals too.\n",
    "\n",
    "\n",
    "Input: [\n",
    "  [(1,3),(4,7),(6,8)],\n",
    "  [(1,2),(9,10)]\n",
    "]\n",
    "    \n",
    "Output: [(1,3),(4,8),(9,10)]\n",
    "    \n",
    "* Interval, heap "
   ]
  },
  {
   "cell_type": "code",
   "execution_count": 70,
   "metadata": {},
   "outputs": [],
   "source": [
    "# Python 1: use heap, time O(N log K), space O(K)\n",
    "# pitfalls: \n",
    "# 1. location_index < len(intervals[interval_index]) - 1 \n",
    "# 2. in the heap tuple, put start value first then end value, put the indices at the last so heap can sort correctly\n",
    "# 3. empty interval lists \n",
    "\n",
    "class Interval(object):\n",
    "    def __init__(self, start, end):\n",
    "        self.start = start\n",
    "        self.end = end\n",
    "\n",
    "from heapq import heappush, heappop \n",
    "class Solution:\n",
    "    \"\"\"\n",
    "    @param intervals: the given k sorted interval lists\n",
    "    @return:  the new sorted interval list\n",
    "    \"\"\"\n",
    "    def mergeKSortedIntervalLists(self, intervals):\n",
    "        results = []\n",
    "        heap = []\n",
    "        for i in range(len(intervals)):\n",
    "            # only push when there are elements in the interval list \n",
    "            if len(intervals[i]) > 0:\n",
    "                heappush(heap, (intervals[i][0].start, intervals[i][0].end, i, 0))\n",
    "        print(heap)\n",
    "\n",
    "        while heap:\n",
    "            start, end, interval_index, location_index = heappop(heap)\n",
    "            \n",
    "            # push new elements \n",
    "            if location_index < len(intervals[interval_index]) - 1:\n",
    "                heappush(heap, (intervals[interval_index][location_index + 1].start, \\\n",
    "                                intervals[interval_index][location_index + 1].end, \\\n",
    "                               interval_index, location_index + 1))\n",
    "            # compare the start, end values with the last one in results, or append it if it's the first interval\n",
    "            if not results:\n",
    "                results.append(Interval(start, end))\n",
    "                \n",
    "            if results[-1].end >= start:\n",
    "                # the current start must be bigger then results[-1].start, so no need to update \n",
    "                results[-1].end = max(results[-1].end, end)\n",
    "            elif results[-1].end < start:\n",
    "                results.append(Interval(start, end))\n",
    "        return results\n",
    "                \n",
    "            \n"
   ]
  },
  {
   "cell_type": "code",
   "execution_count": 71,
   "metadata": {},
   "outputs": [
    {
     "name": "stdout",
     "output_type": "stream",
     "text": [
      "[(0, 0, 1, 2), (1, 0, 5, 6)]\n"
     ]
    },
    {
     "data": {
      "text/plain": [
       "[<__main__.Interval at 0x7f43484b17b8>,\n",
       " <__main__.Interval at 0x7f43484b1eb8>,\n",
       " <__main__.Interval at 0x7f43484cbcc0>]"
      ]
     },
     "execution_count": 71,
     "metadata": {},
     "output_type": "execute_result"
    }
   ],
   "source": [
    "Solution().mergeKSortedIntervalLists([[Interval(1, 2), Interval(3, 4)], [Interval(5, 6)]])"
   ]
  },
  {
   "cell_type": "code",
   "execution_count": 78,
   "metadata": {},
   "outputs": [],
   "source": [
    "# Python 2: sort all intervals first and then merge one by one \n",
    "\n",
    "class Interval(object):\n",
    "    def __init__(self, start, end):\n",
    "        self.start = start\n",
    "        self.end = end\n",
    "        \n",
    "class Solution:\n",
    "    \"\"\"\n",
    "    @param intervals: the given k sorted interval lists\n",
    "    @return:  the new sorted interval list\n",
    "    \"\"\"\n",
    "    def mergeKSortedIntervalLists(self, intervals):\n",
    "        all_int = []\n",
    "        results = []\n",
    "        # all intervals \n",
    "        for interval in intervals:\n",
    "            for item in interval: \n",
    "                all_int.append(item)\n",
    "        \n",
    "        # sort by start values \n",
    "        all_int = sorted(all_int, key = lambda x: x.start)\n",
    "        \n",
    "        if len(all_int) == 0:\n",
    "            return []\n",
    "        \n",
    "        results.append(all_int[0])\n",
    "        i = 1\n",
    "        while i < len(all_int):\n",
    "            cur_int = all_int[i]\n",
    "            if cur_int.start <= results[-1].end:\n",
    "                results[-1].end = max(cur_int.end, results[-1].end)\n",
    "            else: \n",
    "                results.append(cur_int)\n",
    "            i += 1\n",
    "        return results\n",
    "        "
   ]
  },
  {
   "cell_type": "code",
   "execution_count": 79,
   "metadata": {},
   "outputs": [
    {
     "data": {
      "text/plain": [
       "[<__main__.Interval at 0x7f43484cbfd0>,\n",
       " <__main__.Interval at 0x7f43484cba58>,\n",
       " <__main__.Interval at 0x7f43484cb710>]"
      ]
     },
     "execution_count": 79,
     "metadata": {},
     "output_type": "execute_result"
    }
   ],
   "source": [
    "Solution().mergeKSortedIntervalLists([[Interval(1, 2), Interval(3, 4)], [Interval(5, 6)]])"
   ]
  },
  {
   "cell_type": "markdown",
   "metadata": {},
   "source": [
    "64 - Merge Sorted Array\n",
    "\n",
    "Given two sorted integer arrays A and B, merge B into A as one sorted array.\n",
    "\n",
    "You may assume that A has enough space (size that is greater or equal to m + n) to hold additional elements from B. The number of elements initialized in A and B are m and n respectively.\n",
    "\n",
    "Example:\n",
    "\n",
    "A = [1, 2, 3, empty, empty], B = [4, 5]\n",
    "\n",
    "After merge, A will be filled as [1, 2, 3, 4, 5]\n",
    "\n",
    "* Array"
   ]
  },
  {
   "cell_type": "code",
   "execution_count": 1,
   "metadata": {},
   "outputs": [],
   "source": [
    "# Python 1: add B to A and sort \n",
    "class Solution:\n",
    "    \"\"\"\n",
    "    @param: A: sorted integer array A which has m elements, but size of A is m+n\n",
    "    @param: m: An integer\n",
    "    @param: B: sorted integer array B which has n elements\n",
    "    @param: n: An integer\n",
    "    @return: nothing\n",
    "    \"\"\"\n",
    "    def mergeSortedArray(self, A, m, B, n):\n",
    "        for i in range(m, m + n):\n",
    "            A[i] = B[i - m]\n",
    "        A.sort()\n",
    "        return A\n"
   ]
  },
  {
   "cell_type": "code",
   "execution_count": 30,
   "metadata": {},
   "outputs": [],
   "source": [
    "# Python 2: first save the non empty elements of A in a new array and then update A with values in B \n",
    "class Solution:\n",
    "    \"\"\"\n",
    "    @param: A: sorted integer array A which has m elements, but size of A is m+n\n",
    "    @param: m: An integer\n",
    "    @param: B: sorted integer array B which has n elements\n",
    "    @param: n: An integer\n",
    "    @return: nothing\n",
    "    \"\"\"\n",
    "    def mergeSortedArray(self, A, m, B, n):\n",
    "        # all non empty values of A \n",
    "        A_1 = A[:m]\n",
    "        \n",
    "        a_index, b_index = 0, 0\n",
    "        index = 0\n",
    "        \n",
    "        while a_index < m and b_index < n: \n",
    "            if A_1[a_index] < B[b_index]:\n",
    "                A[index] = A_1[a_index]\n",
    "                a_index += 1 \n",
    "            elif A_1[a_index] >= B[b_index]:\n",
    "                A[index] = B[b_index]\n",
    "                b_index += 1\n",
    "\n",
    "            index += 1 \n",
    "            \n",
    "        while a_index < m:\n",
    "            A[index] = A_1[a_index]\n",
    "            a_index += 1\n",
    "            index += 1 \n",
    "        while b_index < n: \n",
    "            A[index] = B[b_index]\n",
    "            b_index += 1\n",
    "            index += 1\n",
    "        return A "
   ]
  },
  {
   "cell_type": "code",
   "execution_count": 31,
   "metadata": {},
   "outputs": [
    {
     "data": {
      "text/plain": [
       "[1, 2, 3, 4, 5, 6]"
      ]
     },
     "execution_count": 31,
     "metadata": {},
     "output_type": "execute_result"
    }
   ],
   "source": [
    "Solution().mergeSortedArray([1,3,4,6, 0, 0], 4, [2, 5], 2)"
   ]
  },
  {
   "cell_type": "markdown",
   "metadata": {},
   "source": [
    "486 - Merge K Sorted Arrays\n",
    "\n",
    "Given k sorted integer arrays, merge them into one sorted array.\n",
    "\n",
    "* Array, heap \n"
   ]
  },
  {
   "cell_type": "code",
   "execution_count": 86,
   "metadata": {},
   "outputs": [],
   "source": [
    "from heapq import heappush, heappop \n",
    "\n",
    "class Solution:\n",
    "    \"\"\"\n",
    "    @param arrays: k sorted integer arrays\n",
    "    @return: a sorted array\n",
    "    \"\"\"\n",
    "    def mergekSortedArrays(self, arrays):\n",
    "        results = []\n",
    "        heap = []\n",
    "        # push the first element of each array into heap \n",
    "        for i in range(len(arrays)):\n",
    "            if len(arrays[i]) > 0:\n",
    "                heappush(heap, (arrays[i][0], i, 0))\n",
    "        print(heap)\n",
    "        \n",
    "        while heap:\n",
    "            cur_val, array_index, loc_index = heappop(heap)\n",
    "            results.append(cur_val)\n",
    "            # push another element from the same array of the poped value \n",
    "            if loc_index + 1 < len(arrays[array_index]):\n",
    "                heappush(heap, (arrays[array_index][loc_index + 1], array_index, loc_index + 1))\n",
    "        return results\n",
    "                \n",
    "                \n"
   ]
  },
  {
   "cell_type": "code",
   "execution_count": 87,
   "metadata": {},
   "outputs": [
    {
     "name": "stdout",
     "output_type": "stream",
     "text": [
      "[(0, 0, 0), (2, 0, 0), (1, 0, 0)]\n"
     ]
    },
    {
     "data": {
      "text/plain": [
       "[0, 1, 2, 3, 3, 3, 5, 5, 5, 7, 7, 7]"
      ]
     },
     "execution_count": 87,
     "metadata": {},
     "output_type": "execute_result"
    }
   ],
   "source": [
    "Solution().mergekSortedArrays([[1,3,5,7],[2,4,6],[0,8,9,10,11]])"
   ]
  },
  {
   "cell_type": "markdown",
   "metadata": {},
   "source": [
    "547 - Intersection of Two Arrays\n",
    "\n",
    "Given two arrays, write a function to compute their intersection.\n",
    "\n",
    "Each element in the result must be unique.\n",
    "\n",
    "The result can be in any order.\n",
    "\n",
    "Example: \n",
    "\n",
    "Input: nums1 = [1, 2, 2, 1], nums2 = [2, 2], \n",
    "\n",
    "Output: [2].\n",
    "\n",
    "* Array, two pointers, hash table, binary search "
   ]
  },
  {
   "cell_type": "code",
   "execution_count": 131,
   "metadata": {},
   "outputs": [],
   "source": [
    "# Python 1: whenever there is a new pair of equal element from two arrays, compare with existing ones \n",
    "#           to see if it has been added \n",
    "class Solution:\n",
    "    \"\"\"\n",
    "    @param nums1: an integer array\n",
    "    @param nums2: an integer array\n",
    "    @return: an integer array\n",
    "    \"\"\"\n",
    "    def intersection(self, nums1, nums2):\n",
    "        nums1.sort()\n",
    "        nums2.sort()\n",
    "        \n",
    "        results = [] \n",
    "        \n",
    "        # loop through all elements \n",
    "        i, j = 0, 0 \n",
    "        \n",
    "        # find common elements\n",
    "        while i < len(nums1) and j < len(nums2):\n",
    "#             # remove duplicates\n",
    "#             while i != 0 and nums1[1] == nums1[i - 1] and i < len(nums1) - 1:\n",
    "#                 i += 1 \n",
    "                \n",
    "#             while j != 0 and nums2[j] == nums2[j - 1] and j < len(nums2) - 1:\n",
    "#                 j += 1\n",
    "                \n",
    "            if nums1[i] < nums2[j]:\n",
    "                i += 1 \n",
    "            elif nums1[i] > nums2[j]:\n",
    "                j += 1 \n",
    "            else:\n",
    "                if not results:\n",
    "                    results.append(nums1[i])\n",
    "                if nums1[i] != results[-1]:\n",
    "                    results.append(nums1[i])\n",
    "                i += 1 \n",
    "                j += 1\n",
    "        \n",
    "        return results \n"
   ]
  },
  {
   "cell_type": "code",
   "execution_count": 134,
   "metadata": {},
   "outputs": [
    {
     "data": {
      "text/plain": [
       "[4, 6, 7]"
      ]
     },
     "execution_count": 134,
     "metadata": {},
     "output_type": "execute_result"
    }
   ],
   "source": [
    "Solution().intersection([4,7,9,7,6,7], [5,0,0,6,1,6,2,2,4, 7,7])"
   ]
  },
  {
   "cell_type": "code",
   "execution_count": 133,
   "metadata": {},
   "outputs": [],
   "source": [
    "# Python 2: use a while loop to make sure each unique element is used once in each array  \n",
    "class Solution:\n",
    "    \"\"\"\n",
    "    @param nums1: an integer array\n",
    "    @param nums2: an integer array\n",
    "    @return: an integer array\n",
    "    \"\"\"\n",
    "    def intersection(self, nums1, nums2):\n",
    "        nums1.sort()\n",
    "        nums2.sort()\n",
    "        \n",
    "        results = [] \n",
    "        \n",
    "        # loop through all elements \n",
    "        i, j = 0, 0 \n",
    "        \n",
    "        # find common elements\n",
    "        while i < len(nums1) and j < len(nums2):\n",
    "            \n",
    "            # remove duplicates\n",
    "            while i != 0 and nums1[1] == nums1[i - 1] and i < len(nums1) - 1:\n",
    "                i += 1 \n",
    "                \n",
    "            while j != 0 and nums2[j] == nums2[j - 1] and j < len(nums2) - 1:\n",
    "                j += 1\n",
    "                \n",
    "            # if the i / j indices are out of range after the while loop, break  \n",
    "            if i >= len(nums1) or j >= len(nums2):\n",
    "                break\n",
    "                \n",
    "            if nums1[i] < nums2[j]:\n",
    "                i += 1 \n",
    "            elif nums1[i] > nums2[j]:\n",
    "                j += 1 \n",
    "            else:\n",
    "                # if it's the first element \n",
    "                if not results:\n",
    "                    results.append(nums1[i])\n",
    "                # check if the number is already in results \n",
    "                if nums1[i] != results[-1]:\n",
    "                    results.append(nums1[i])\n",
    "                i += 1 \n",
    "                j += 1\n",
    "        \n",
    "        return results \n"
   ]
  },
  {
   "cell_type": "markdown",
   "metadata": {},
   "source": [
    "41 - Maximum Subarray\n",
    "\n",
    "Given an array of integers, find a contiguous subarray which has the largest sum.\n",
    "\n",
    "Example: \n",
    "\n",
    "    Given the array [−2,2,−3,4,−1,2,1,−5,3], the contiguous subarray [4,−1,2,1] has the largest sum = 6.\n",
    "\n",
    "* Prefix sum"
   ]
  },
  {
   "cell_type": "code",
   "execution_count": 10,
   "metadata": {},
   "outputs": [],
   "source": [
    "# Python: use prefix sum \n",
    "# max_sum = prefix(j + 1) - min(prefix(x)) for x = 0, 1, ..., j+1\n",
    "import sys \n",
    "class Solution:\n",
    "    \"\"\"\n",
    "    @param nums: A list of integers\n",
    "    @return: A integer indicate the sum of max subarray\n",
    "    \"\"\"\n",
    "    def maxSubArray(self, nums):\n",
    "        prefix_sum = 0 \n",
    "        min_sum = 0\n",
    "        max_sum = -sys.maxsize \n",
    "        for num in nums:\n",
    "            prefix_sum += num \n",
    "            max_sum = max(max_sum, prefix_sum - min_sum)\n",
    "            min_sum = min(min_sum, prefix_sum)\n",
    "#         print(max_sum)\n",
    "#         print(min_sum)\n",
    "        return max_sum\n",
    "\n"
   ]
  },
  {
   "cell_type": "code",
   "execution_count": 2,
   "metadata": {},
   "outputs": [
    {
     "name": "stdout",
     "output_type": "stream",
     "text": [
      "9223372036854775807\n"
     ]
    }
   ],
   "source": [
    "import sys \n",
    "print(sys.maxsize)"
   ]
  },
  {
   "cell_type": "code",
   "execution_count": 11,
   "metadata": {},
   "outputs": [
    {
     "name": "stdout",
     "output_type": "stream",
     "text": [
      "6\n",
      "-3\n"
     ]
    },
    {
     "data": {
      "text/plain": [
       "6"
      ]
     },
     "execution_count": 11,
     "metadata": {},
     "output_type": "execute_result"
    }
   ],
   "source": [
    "Solution().maxSubArray([-2, 2,-3,4,-1,2,1,-5,3])"
   ]
  },
  {
   "cell_type": "markdown",
   "metadata": {},
   "source": [
    "138 - Subarray Sum\n",
    "\n",
    "Given an integer array, find a subarray where the sum of numbers is zero. Your code should return the index of the first number and the index of the last number.\n",
    "\n",
    "Input:  [-3, 1, 2, -3, 4]\n",
    "\n",
    "\tOutput: [0, 2] or [1, 3].\n",
    "    \n",
    "* Prefix sum, subarray "
   ]
  },
  {
   "cell_type": "code",
   "execution_count": 31,
   "metadata": {},
   "outputs": [],
   "source": [
    "# Use prefix_sum(j + 1) = A[0] + ... + A[j]\n",
    "class Solution:\n",
    "    \"\"\"\n",
    "    @param nums: A list of integers\n",
    "    @return: A list of integers includes the index of the first number and the index of the last number\n",
    "    \"\"\"\n",
    "    def subarraySum(self, nums):\n",
    "        # when len(nums) == 1\n",
    "        if len(nums) == 1 and nums == 0:\n",
    "            return [0, 0]\n",
    "            \n",
    "        prefix_sum = 0 \n",
    "        # hash table to record all prefix sums with key the sum, val the index \n",
    "        hash_table = {}\n",
    "        hash_table[0] = 0\n",
    "        for i in range(len(nums)):\n",
    "            prefix_sum += nums[i]\n",
    "            \n",
    "            # check if exists the same sum \n",
    "            if prefix_sum in hash_table:\n",
    "                return [hash_table[prefix_sum], i]\n",
    "             # add the current sum to hash table \n",
    "            hash_table[prefix_sum] = i + 1 \n",
    "            print(hash_table)\n",
    "        return [-1, -1]\n",
    "            \n"
   ]
  },
  {
   "cell_type": "code",
   "execution_count": 32,
   "metadata": {},
   "outputs": [
    {
     "name": "stdout",
     "output_type": "stream",
     "text": [
      "{0: 0, 1: 1}\n"
     ]
    },
    {
     "data": {
      "text/plain": [
       "[0, 1]"
      ]
     },
     "execution_count": 32,
     "metadata": {},
     "output_type": "execute_result"
    }
   ],
   "source": [
    "Solution().subarraySum([1, -1])"
   ]
  },
  {
   "cell_type": "markdown",
   "metadata": {},
   "source": [
    "944 - Maximum Submatrix\n",
    "\n",
    "Given an `n x n` matrix of positive and negative integers, find the submatrix with the largest possible sum.\n",
    "\n",
    "Input:  \n",
    "\n",
    "matrix = [\n",
    "\n",
    "    [1,3,-1],\n",
    "    \n",
    "    [2,3,-2],\n",
    "    \n",
    "    [-1,-2,-3]\n",
    "]\n",
    "\n",
    "Output: 9\n",
    "\n",
    "Explanation:\n",
    "\n",
    "the submatrix with the largest possible sum is:\n",
    "\n",
    "[\n",
    "\n",
    "    [1,3],\n",
    "    \n",
    "    [2,3]\n",
    "]\n"
   ]
  },
  {
   "cell_type": "code",
   "execution_count": 16,
   "metadata": {},
   "outputs": [],
   "source": [
    "# Python 1: sum col values together to convert the problem into a max subarray, loop through different col sums \n",
    "import sys \n",
    "\n",
    "class Solution:\n",
    "    \"\"\"\n",
    "    @param matrix: the given matrix\n",
    "    @return: the largest possible sum\n",
    "    \"\"\"\n",
    "    def maxSubmatrix(self, matrix):\n",
    "        if len(matrix) == 0 or len(matrix[0]) == 0 or matrix is None:\n",
    "            return 0\n",
    "        max_sum = -sys.maxsize\n",
    "        for i in range(len(matrix)):\n",
    "            # initialize col_sum every time when there is a new i \n",
    "            col_sum = [0 for _ in range(len(matrix[0]))]\n",
    "            for j in range(i, len(matrix)):\n",
    "                for k in range(len(matrix[0])):\n",
    "                    # col_sum are cumulative \n",
    "                    col_sum[k] += matrix[j][k]\n",
    "                print(col_sum)\n",
    "                max_sum = max(self.max_subarray(col_sum), max_sum)\n",
    "        return max_sum \n",
    "    \n",
    "    def max_subarray(self, nums):\n",
    "        max_sum = -sys.maxsize \n",
    "        min_sum = 0\n",
    "        prefix_sum = 0 \n",
    "        for num in nums:\n",
    "            prefix_sum += num\n",
    "            max_sum = max(max_sum, prefix_sum - min_sum)\n",
    "            min_sum = min(min_sum, prefix_sum)\n",
    "        return max_sum\n",
    "            \n"
   ]
  },
  {
   "cell_type": "code",
   "execution_count": 18,
   "metadata": {},
   "outputs": [
    {
     "name": "stdout",
     "output_type": "stream",
     "text": [
      "[1, 3, -1]\n",
      "[3, 6, -3]\n",
      "[2, 4, -6]\n",
      "[2, 3, -2]\n",
      "[1, 1, -5]\n",
      "[-1, -2, -3]\n"
     ]
    },
    {
     "data": {
      "text/plain": [
       "9"
      ]
     },
     "execution_count": 18,
     "metadata": {},
     "output_type": "execute_result"
    }
   ],
   "source": [
    "Solution().maxSubmatrix([\n",
    "    [1,3,-1],\n",
    "    [2,3,-2],\n",
    "    [-1,-2,-3]\n",
    "])\n",
    "\n"
   ]
  },
  {
   "cell_type": "code",
   "execution_count": 23,
   "metadata": {},
   "outputs": [
    {
     "data": {
      "text/plain": [
       "False"
      ]
     },
     "execution_count": 23,
     "metadata": {},
     "output_type": "execute_result"
    }
   ],
   "source": [
    "a = [[]]\n",
    "a\n",
    "len(a)\n",
    "len(a[0])\n",
    "a is None"
   ]
  },
  {
   "cell_type": "markdown",
   "metadata": {},
   "source": [
    "65 - Median of two Sorted Arrays\n",
    "\n",
    "There are two sorted arrays `A` and `B` of size `m` and `n` respectively. Find the median of the two sorted arrays.\n",
    "\n",
    "Example: \n",
    "\n",
    "Given `A=[1,2,3,4,5,6]` and `B=[2,3,4,5]`, the median is `3.5`.\n",
    "\n",
    "Given `A=[1,2,3]` and `B=[4,5]`, the median is `3`.\n",
    "\n",
    "The overall run time complexity should be `O(log (m+n))`.\n",
    "\n",
    "\n",
    "* Array, divide and conquer "
   ]
  },
  {
   "cell_type": "code",
   "execution_count": 46,
   "metadata": {},
   "outputs": [],
   "source": [
    "# Python 1: divide and conquer, find the general k-th element algorithm (k not necessarily the median element) \n",
    "# idea: to find the k-th element in two sorted array, \n",
    "#       1. compare the k/2-th element of each array and drop the first k/2 elements \n",
    "#          if its k/2 -th element is smaller (the k-th element must not in these dropped values)\n",
    "#       2. If one array doesn't have the k/2 th element, one can think its k/2 th element as infinity\n",
    "#          (the k-th element must still in the left arrays)\n",
    "\n",
    "import sys \n",
    "\n",
    "class Solution:\n",
    "    \"\"\"\n",
    "    @param: A: An integer array\n",
    "    @param: B: An integer array\n",
    "    @return: a double whose format is *.5 or *.0\n",
    "    \"\"\"\n",
    "    def findMedianSortedArrays(self, A, B):\n",
    "        # boundaries can be dealt with the following code \n",
    "        \n",
    "        # if both len(A) and len(B) are not zero \n",
    "        # if n is even\n",
    "        n = len(A) + len(B)\n",
    "        if n % 2 == 0:\n",
    "            return ( self.find_kth(A, 0, B, 0, n // 2) + self.find_kth(A, 0, B, 0, n // 2 + 1) ) / 2 \n",
    "        # else if n is odd \n",
    "        return self.find_kth(A, 0, B, 0, n // 2 + 1)\n",
    "    \n",
    "    def find_kth(self, A, start_a, B, start_b, k):\n",
    "        # return conditions \n",
    "        if (start_a >= len(A)):\n",
    "            return B[start_b + k - 1]\n",
    "        \n",
    "        if (start_b >= len(B)):\n",
    "            return A[start_a + k - 1]\n",
    "        \n",
    "        # \n",
    "        if k == 1:\n",
    "            # the smaller one is before the bigger one \n",
    "            return min(A[start_a], B[start_b])\n",
    "        \n",
    "        # recursion, no matter how the elements of two sorted arrays are smaller / bigger / mixed with each other\n",
    "        # the median must NOT in the first quarter of the longer array or the array with\n",
    "        # smaller first quarter value \n",
    "        half_k_A = A[start_a + k // 2 - 1] if start_a + k // 2 - 1 < len(A) else sys.maxsize\n",
    "        half_k_B = B[start_b + k // 2 - 1] if start_b + k // 2 - 1 < len(B) else sys.maxsize \n",
    "        \n",
    "        # compare, if the  k / 2 th element of A after start_a is smaller than ... of B,\n",
    "        # drop the first k / 2 elements  of A \n",
    "        if (half_k_A < half_k_B):\n",
    "            return self.find_kth(A, start_a + k // 2, B, start_b, k - k // 2)\n",
    "        else:\n",
    "            return self.find_kth(A, start_a, B, start_b + k // 2, k - k // 2)\n",
    "        \n",
    "    \n",
    "        \n",
    "            \n"
   ]
  },
  {
   "cell_type": "code",
   "execution_count": 47,
   "metadata": {},
   "outputs": [
    {
     "data": {
      "text/plain": [
       "5"
      ]
     },
     "execution_count": 47,
     "metadata": {},
     "output_type": "execute_result"
    }
   ],
   "source": [
    "Solution().findMedianSortedArrays([], [ 5])"
   ]
  },
  {
   "cell_type": "code",
   "execution_count": 82,
   "metadata": {},
   "outputs": [],
   "source": [
    "# Python 2: binary searach on answer \n",
    "\n",
    "class Solution:\n",
    "    \"\"\"\n",
    "    @param: A: An integer array\n",
    "    @param: B: An integer array\n",
    "    @return: a double whose format is *.5 or *.0\n",
    "    \"\"\"\n",
    "    def findMedianSortedArrays(self, A, B):\n",
    "        n = len(A) + len(B)\n",
    "        if n % 2 == 1:\n",
    "            return self.find_kth(A, B, n // 2 + 1)\n",
    "        return (self.find_kth(A, B, n // 2) + self.find_kth(A, B, n // 2 + 1)) / 2\n",
    "        \n",
    "        \n",
    "    def find_kth(self, A, B, k):\n",
    "        # symmetric cases \n",
    "        if len(B) == 0 and len(A) != 0:\n",
    "            A, B = B, A\n",
    "        if len(A) == 0 and len(B) != 0:\n",
    "            print('true')\n",
    "            return B[k - 1]\n",
    "        \n",
    "        lower = min(min(A), min(B))\n",
    "        upper = max(max(A), max(B))\n",
    "        \n",
    "        # while condition makes sure that lower and upper are next to each other at the end \n",
    "        while lower + 1 < upper: \n",
    "            # use integer divide to make sure lower and upper values are *.0 or *.5\n",
    "            mid = (lower + upper) // 2\n",
    "            # count of numbers smaller than mid in A and B \n",
    "            cnt1 = sum([1 if A[i] <= mid else 0 for i in range(len(A))])\n",
    "            cnt2 = sum([1 if B[i] <= mid else 0 for i in range(len(B))])\n",
    "        \n",
    "            if cnt1 + cnt2 < k:\n",
    "                lower = mid\n",
    "            else:\n",
    "                upper = mid\n",
    "            \n",
    "        # count again based on the final lower value \n",
    "        cnt1 = sum([1 if A[i] <= lower else 0 for i in range(len(A))])\n",
    "        cnt2 = sum([1 if B[i] <= lower else 0 for i in range(len(B))]) \n",
    "        \n",
    "        # if the total counts of values smaller than lower >= k, lower is the k th\n",
    "        if cnt1 + cnt2 >= k:\n",
    "            return lower \n",
    "        else:\n",
    "            return upper \n",
    "\n",
    "        "
   ]
  },
  {
   "cell_type": "code",
   "execution_count": 83,
   "metadata": {},
   "outputs": [
    {
     "data": {
      "text/plain": [
       "3.5"
      ]
     },
     "execution_count": 83,
     "metadata": {},
     "output_type": "execute_result"
    }
   ],
   "source": [
    "Solution().findMedianSortedArrays([3], [4])"
   ]
  },
  {
   "cell_type": "code",
   "execution_count": 102,
   "metadata": {},
   "outputs": [
    {
     "name": "stdout",
     "output_type": "stream",
     "text": [
      "A [1, 2, 3, 4]\n",
      "B [5, 6, 7, 8, 9]\n",
      "A [3, 4]\n",
      "B [5, 6, 7]\n",
      "A [4]\n",
      "B [5, 6]\n",
      "A [4]\n",
      "B [5]\n",
      "true\n",
      "[4]\n",
      "[5]\n"
     ]
    },
    {
     "data": {
      "text/plain": [
       "4.5"
      ]
     },
     "execution_count": 102,
     "metadata": {},
     "output_type": "execute_result"
    }
   ],
   "source": [
    "Solution().findMedianSortedArrays([1,2,3,4], [5,6,7,8,9])"
   ]
  },
  {
   "cell_type": "code",
   "execution_count": 105,
   "metadata": {},
   "outputs": [
    {
     "data": {
      "text/plain": [
       "[3, 4]"
      ]
     },
     "execution_count": 105,
     "metadata": {},
     "output_type": "execute_result"
    }
   ],
   "source": [
    "a = [1, 2, 3, 4, 5]\n",
    "a[-3:-1]"
   ]
  }
 ],
 "metadata": {
  "kernelspec": {
   "display_name": "Python 3",
   "language": "python",
   "name": "python3"
  },
  "language_info": {
   "codemirror_mode": {
    "name": "ipython",
    "version": 3
   },
   "file_extension": ".py",
   "mimetype": "text/x-python",
   "name": "python",
   "nbconvert_exporter": "python",
   "pygments_lexer": "ipython3",
   "version": "3.6.7"
  }
 },
 "nbformat": 4,
 "nbformat_minor": 2
}
