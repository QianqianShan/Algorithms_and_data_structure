{
 "cells": [
  {
   "cell_type": "markdown",
   "metadata": {},
   "source": [
    "## Data structure, interval, array, matrix"
   ]
  },
  {
   "cell_type": "markdown",
   "metadata": {},
   "source": [
    "41 - Maximum Subarray\n",
    "\n",
    "Given an array of integers, find a contiguous subarray which has the largest sum.\n",
    "\n",
    "Example: \n",
    "\n",
    "    Given the array [−2,2,−3,4,−1,2,1,−5,3], the contiguous subarray [4,−1,2,1] has the largest sum = 6.\n",
    "\n",
    "* Prefix sum"
   ]
  },
  {
   "cell_type": "code",
   "execution_count": 10,
   "metadata": {},
   "outputs": [],
   "source": [
    "# Python: use prefix sum \n",
    "# max_sum = prefix(j + 1) - min(prefix(x)) for x = 0, 1, ..., j+1\n",
    "import sys \n",
    "class Solution:\n",
    "    \"\"\"\n",
    "    @param nums: A list of integers\n",
    "    @return: A integer indicate the sum of max subarray\n",
    "    \"\"\"\n",
    "    def maxSubArray(self, nums):\n",
    "        prefix_sum = 0 \n",
    "        min_sum = 0\n",
    "        max_sum = -sys.maxsize \n",
    "        for num in nums:\n",
    "            prefix_sum += num \n",
    "            max_sum = max(max_sum, prefix_sum - min_sum)\n",
    "            min_sum = min(min_sum, prefix_sum)\n",
    "#         print(max_sum)\n",
    "#         print(min_sum)\n",
    "        return max_sum\n",
    "\n"
   ]
  },
  {
   "cell_type": "code",
   "execution_count": 2,
   "metadata": {},
   "outputs": [
    {
     "name": "stdout",
     "output_type": "stream",
     "text": [
      "9223372036854775807\n"
     ]
    }
   ],
   "source": [
    "import sys \n",
    "print(sys.maxsize)"
   ]
  },
  {
   "cell_type": "code",
   "execution_count": 11,
   "metadata": {},
   "outputs": [
    {
     "name": "stdout",
     "output_type": "stream",
     "text": [
      "6\n",
      "-3\n"
     ]
    },
    {
     "data": {
      "text/plain": [
       "6"
      ]
     },
     "execution_count": 11,
     "metadata": {},
     "output_type": "execute_result"
    }
   ],
   "source": [
    "Solution().maxSubArray([-2, 2,-3,4,-1,2,1,-5,3])"
   ]
  },
  {
   "cell_type": "markdown",
   "metadata": {},
   "source": [
    "138 - Subarray Sum\n",
    "\n",
    "Given an integer array, find a subarray where the sum of numbers is zero. Your code should return the index of the first number and the index of the last number.\n",
    "\n",
    "Input:  [-3, 1, 2, -3, 4]\n",
    "\n",
    "\tOutput: [0, 2] or [1, 3].\n",
    "    \n",
    "* Prefix sum, subarray "
   ]
  },
  {
   "cell_type": "code",
   "execution_count": 31,
   "metadata": {},
   "outputs": [],
   "source": [
    "# Use prefix_sum(j + 1) = A[0] + ... + A[j]\n",
    "class Solution:\n",
    "    \"\"\"\n",
    "    @param nums: A list of integers\n",
    "    @return: A list of integers includes the index of the first number and the index of the last number\n",
    "    \"\"\"\n",
    "    def subarraySum(self, nums):\n",
    "        # when len(nums) == 1\n",
    "        if len(nums) == 1 and nums == 0:\n",
    "            return [0, 0]\n",
    "            \n",
    "        prefix_sum = 0 \n",
    "        # hash table to record all prefix sums with key the sum, val the index \n",
    "        hash_table = {}\n",
    "        hash_table[0] = 0\n",
    "        for i in range(len(nums)):\n",
    "            prefix_sum += nums[i]\n",
    "            \n",
    "            # check if exists the same sum \n",
    "            if prefix_sum in hash_table:\n",
    "                return [hash_table[prefix_sum], i]\n",
    "             # add the current sum to hash table \n",
    "            hash_table[prefix_sum] = i + 1 \n",
    "            print(hash_table)\n",
    "        return [-1, -1]\n",
    "            \n"
   ]
  },
  {
   "cell_type": "code",
   "execution_count": 32,
   "metadata": {},
   "outputs": [
    {
     "name": "stdout",
     "output_type": "stream",
     "text": [
      "{0: 0, 1: 1}\n"
     ]
    },
    {
     "data": {
      "text/plain": [
       "[0, 1]"
      ]
     },
     "execution_count": 32,
     "metadata": {},
     "output_type": "execute_result"
    }
   ],
   "source": [
    "Solution().subarraySum([1, -1])"
   ]
  }
 ],
 "metadata": {
  "kernelspec": {
   "display_name": "Python 3",
   "language": "python",
   "name": "python3"
  },
  "language_info": {
   "codemirror_mode": {
    "name": "ipython",
    "version": 3
   },
   "file_extension": ".py",
   "mimetype": "text/x-python",
   "name": "python",
   "nbconvert_exporter": "python",
   "pygments_lexer": "ipython3",
   "version": "3.6.3"
  }
 },
 "nbformat": 4,
 "nbformat_minor": 2
}
