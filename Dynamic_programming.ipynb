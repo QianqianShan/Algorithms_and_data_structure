{
 "cells": [
  {
   "cell_type": "markdown",
   "metadata": {},
   "source": [
    "## Dynamic programming\n",
    "\n",
    "* Backpack "
   ]
  },
  {
   "cell_type": "markdown",
   "metadata": {},
   "source": [
    "92 - Backpack\n",
    "\n",
    "Given `n` items with size `Ai`, an integer `m` denotes the size of a backpack. How full you can fill this backpack?\n",
    "\n",
    "You can not divide any item into small pieces.\n",
    "\n",
    "\n",
    "\n",
    "Example 1:\n",
    "    \n",
    "\tInput:  \n",
    "        \n",
    "        A = [3,4,8,5], backpack size m = 10\n",
    "        \n",
    "\tOutput:  9"
   ]
  },
  {
   "cell_type": "code",
   "execution_count": null,
   "metadata": {},
   "outputs": [],
   "source": [
    "class Solution:\n",
    "    \"\"\"\n",
    "    @param m: An integer m denotes the size of a backpack\n",
    "    @param A: Given n items with size A[i]\n",
    "    @return: The maximum size\n",
    "    \"\"\"\n",
    "    def backPack(self, m, A):\n",
    "        table = [[False] * (m + 1) for _ in range(len(A) + 1)]\n",
    "        \n",
    "        # put zero element with size no bigger than zero \n",
    "        table[0][0] = True\n",
    "        \n",
    "        # table[0][j] == False, loop through each element in A for each j = 1, ..., m\n",
    "        for i in range(1, len(A) + 1): \n",
    "            table[i][0] = True\n",
    "            for j in range(1, m + 1):\n",
    "                if j >= A[i - 1]:\n",
    "                    table[i][j] = table[i - 1][j] or table[i - 1][j - A[i - 1]]\n",
    "                else:\n",
    "                    table[i][j] = table[i - 1][j]\n",
    "                    \n",
    "        for j in range(m, -1, -1):\n",
    "            if table[len(A)][j]:\n",
    "                return j\n",
    "        return 0 \n"
   ]
  },
  {
   "cell_type": "code",
   "execution_count": 7,
   "metadata": {},
   "outputs": [],
   "source": [
    "class Solution:\n",
    "    \"\"\"\n",
    "    @param m: An integer m denotes the size of a backpack\n",
    "    @param A: Given n items with size A[i]\n",
    "    @return: The maximum size\n",
    "    \"\"\"\n",
    "    def backPack(self, m, A):\n",
    "        n = len(A)\n",
    "        table = [[0] * (m + 1) for _ in range(n + 1)]\n",
    "        \n",
    "        for i in range(n):\n",
    "            for j in range(1, m + 1):\n",
    "                table[i + 1][j] = table[i][j]\n",
    "                if j >= A[i]:\n",
    "                    table[i + 1][j] = max(table[i + 1][j], table[i][j - A[i]] + A[i])\n",
    "        return table[n][m]"
   ]
  },
  {
   "cell_type": "code",
   "execution_count": 8,
   "metadata": {},
   "outputs": [
    {
     "data": {
      "text/plain": [
       "9"
      ]
     },
     "execution_count": 8,
     "metadata": {},
     "output_type": "execute_result"
    }
   ],
   "source": [
    "Solution().backPack(10, [3, 4, 8, 5])"
   ]
  },
  {
   "cell_type": "code",
   "execution_count": 10,
   "metadata": {},
   "outputs": [],
   "source": [
    "# Python 2: use intervals "
   ]
  },
  {
   "cell_type": "code",
   "execution_count": null,
   "metadata": {},
   "outputs": [],
   "source": []
  },
  {
   "cell_type": "markdown",
   "metadata": {},
   "source": [
    "125 -  Backpack II\n",
    "\n",
    "Given `n` items with size `Ai` and value `Vi`, and a backpack with size `m`. What's the maximum value can you put into the backpack?\n",
    "\n",
    "Example: \n",
    "\n",
    "Given 4 items with size [2, 3, 5, 7] and value [1, 5, 2, 4], and a backpack with size 10. The maximum value is 9."
   ]
  },
  {
   "cell_type": "code",
   "execution_count": null,
   "metadata": {},
   "outputs": [],
   "source": [
    "class Solution:\n",
    "    \"\"\"\n",
    "    @param m: An integer m denotes the size of a backpack\n",
    "    @param A: Given n items with size A[i]\n",
    "    @param V: Given n items with value V[i]\n",
    "    @return: The maximum value\n",
    "    \"\"\"\n",
    "    def backPackII(self, m, A, V):\n",
    "        n = len(A)\n",
    "        table = [[0] * (m + 1) for _ in range(n + 1)]\n",
    "        \n",
    "        for i in range(n):\n",
    "            for j in range(m + 1):\n",
    "                table[i + 1][j] = table[i][j]\n",
    "                if j >= A[i]:\n",
    "                    table[i + 1][j] = max(table[i + 1][j], table[i][j - A[i]] + V[i])\n",
    "            \n",
    "        return table[n][m]\n"
   ]
  },
  {
   "cell_type": "code",
   "execution_count": null,
   "metadata": {},
   "outputs": [],
   "source": [
    "class Solution:\n",
    "    # @param m: An integer m denotes the size of a backpack\n",
    "    # @param A & V: Given n items with size A[i] and value V[i]\n",
    "    def backPackII(self, m, A, V):\n",
    "        table = [0 for i in range(m + 1)]\n",
    "        n = len(A)`\n",
    "        for i in range(n):\n",
    "            for j in range(m, A[i]-1, -1):\n",
    "                table[j] = max(table[j] , table[j - A[i]] + V[i])\n",
    "        return table[m]\n",
    "                "
   ]
  },
  {
   "cell_type": "code",
   "execution_count": null,
   "metadata": {},
   "outputs": [],
   "source": []
  }
 ],
 "metadata": {
  "kernelspec": {
   "display_name": "Python 3",
   "language": "python",
   "name": "python3"
  },
  "language_info": {
   "codemirror_mode": {
    "name": "ipython",
    "version": 3
   },
   "file_extension": ".py",
   "mimetype": "text/x-python",
   "name": "python",
   "nbconvert_exporter": "python",
   "pygments_lexer": "ipython3",
   "version": "3.6.7"
  }
 },
 "nbformat": 4,
 "nbformat_minor": 2
}
