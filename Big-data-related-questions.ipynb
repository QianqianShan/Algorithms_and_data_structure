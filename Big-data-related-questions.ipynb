{
 "cells": [
  {
   "cell_type": "markdown",
   "metadata": {},
   "source": [
    "## Big Data Questions "
   ]
  },
  {
   "cell_type": "markdown",
   "metadata": {},
   "source": [
    "* Top K problems"
   ]
  },
  {
   "cell_type": "markdown",
   "metadata": {},
   "source": [
    "544 - Top k Largest Numbers\n",
    "\n",
    "Given an integer array, find the top k largest numbers in it.\n",
    "\n",
    "Input: \n",
    "\n",
    "[3, 10, 1000, -99, 4, 100] and k = 3\n",
    "\n",
    "Output: \n",
    "\n",
    "[1000, 100, 10]\n",
    "    "
   ]
  },
  {
   "cell_type": "code",
   "execution_count": 4,
   "metadata": {},
   "outputs": [],
   "source": [
    "# Python 1: use partition, similar to quick select \n",
    "# move all elements bigger than a pivot to front, and check the pivot element location\n",
    "\n",
    "class Solution:\n",
    "    \"\"\"\n",
    "    @param nums: an integer array\n",
    "    @param k: An integer\n",
    "    @return: the top k largest numbers in array\n",
    "    \"\"\"\n",
    "    def topk(self, nums, k):\n",
    "        if len(nums) <= k:\n",
    "            return nums \n",
    "        results = set()\n",
    "        self.quick_select(nums, 0, len(nums) - 1, k, results)\n",
    "        results = list(results)\n",
    "        results.sort()\n",
    "        results.reverse()\n",
    "        return results\n",
    "    \n",
    "    def quick_select(self, nums, start, end, k, results):\n",
    "        if start >= end:\n",
    "            return \n",
    "        \n",
    "        left, right = start, end \n",
    "        pivot = nums[(start + end) // 2]\n",
    "        while left <= right:\n",
    "            while left <= right and nums[left] > pivot:\n",
    "                left += 1 \n",
    "            while left <= right and nums[right] < pivot:\n",
    "                right -= 1 \n",
    "            if left <= right:\n",
    "                nums[left], nums[right] = nums[right], nums[left]\n",
    "                left += 1 \n",
    "                right -= 1 \n",
    "        # now left >= right  \n",
    "        print('left', left)\n",
    "        print('right', right)\n",
    "        if k > left:\n",
    "            for i in range(0, right + 1):\n",
    "                results.add(nums[i])\n",
    "            self.quick_select(nums, left, end, k - right, results)\n",
    "        if k == left:\n",
    "            for i in range(0, right + 1):\n",
    "                results.add(nums[i])\n",
    "        if k < left:\n",
    "            self.quick_select(nums, start, right, k, results)\n",
    "    "
   ]
  },
  {
   "cell_type": "code",
   "execution_count": 3,
   "metadata": {},
   "outputs": [],
   "source": [
    "# Python 2: as in notebook: Data structure: stack, queue, hash and heap, use heap \n",
    "import heapq\n",
    "class Solution:\n",
    "    \"\"\"\n",
    "    @param nums: an integer array\n",
    "    @param k: An integer\n",
    "    @return: the top k largest numbers in array\n",
    "    \"\"\"\n",
    "    def topk(self, nums, k):\n",
    "        if len(nums) == 0:\n",
    "            return []\n",
    "        heap = []\n",
    "        for i in range(len(nums)):\n",
    "            heapq.heappush(heap, nums[i])\n",
    "            if len(heap) > k:\n",
    "                heapq.heappop(heap)\n",
    "        res = []\n",
    "        while len(heap) > 0:\n",
    "            res.append(heapq.heappop(heap))\n",
    "           # print(res)\n",
    "        res.reverse()\n",
    "        return res\n",
    "    "
   ]
  },
  {
   "cell_type": "markdown",
   "metadata": {},
   "source": [
    "471 - Top K Frequent Words\n",
    "\n",
    "Given a list of words and an integer `k`, return the top k frequent words in the list.\n",
    "\n",
    "Example: \n",
    "\n",
    "Input:\n",
    "\n",
    "  [\n",
    "    \"yes\", \"lint\", \"code\",\n",
    "    \n",
    "    \"yes\", \"code\", \"baby\",\n",
    "    \n",
    "    \"you\", \"baby\", \"chrome\",\n",
    "    \n",
    "    \"safari\", \"lint\", \"code\",\n",
    "    \n",
    "    \"body\", \"lint\", \"code\"\n",
    "  ]\n",
    "  \n",
    "  k = 3\n",
    "  \n",
    "Output: \n",
    "\n",
    "[\"code\", \"lint\", \"baby\"]\n",
    "\n",
    "* Hash table, heap \n"
   ]
  },
  {
   "cell_type": "code",
   "execution_count": null,
   "metadata": {},
   "outputs": [],
   "source": [
    "class Solution:\n",
    "    \"\"\"\n",
    "    @param words: an array of string\n",
    "    @param k: An integer\n",
    "    @return: an array of string\n",
    "    \"\"\"\n",
    "    def topKFrequentWords(self, words, k):\n"
   ]
  },
  {
   "cell_type": "code",
   "execution_count": null,
   "metadata": {},
   "outputs": [],
   "source": []
  },
  {
   "cell_type": "code",
   "execution_count": null,
   "metadata": {},
   "outputs": [],
   "source": [
    "471, 449 , 450 "
   ]
  }
 ],
 "metadata": {
  "kernelspec": {
   "display_name": "Python 3",
   "language": "python",
   "name": "python3"
  },
  "language_info": {
   "codemirror_mode": {
    "name": "ipython",
    "version": 3
   },
   "file_extension": ".py",
   "mimetype": "text/x-python",
   "name": "python",
   "nbconvert_exporter": "python",
   "pygments_lexer": "ipython3",
   "version": "3.6.7"
  }
 },
 "nbformat": 4,
 "nbformat_minor": 2
}
