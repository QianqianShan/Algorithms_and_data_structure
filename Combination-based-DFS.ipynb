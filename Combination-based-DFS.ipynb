{
 "cells": [
  {
   "cell_type": "markdown",
   "metadata": {},
   "source": [
    "## Combination-based DFS"
   ]
  },
  {
   "cell_type": "markdown",
   "metadata": {},
   "source": [
    "17 - Subsets\n",
    "\n",
    "Given a set of distinct integers, return all possible subsets.\n",
    "\n",
    "* DFS, recursion, iteration "
   ]
  },
  {
   "cell_type": "code",
   "execution_count": null,
   "metadata": {},
   "outputs": [],
   "source": [
    "Input: [1,2,3]\n",
    "Output:\n",
    "[\n",
    "  [3],\n",
    "  [1],\n",
    "  [2],\n",
    "  [1,2,3],\n",
    "  [1,3],\n",
    "  [2,3],\n",
    "  [1,2],\n",
    "  []\n",
    "]"
   ]
  },
  {
   "cell_type": "code",
   "execution_count": null,
   "metadata": {},
   "outputs": [],
   "source": [
    "# Java: use DFS with recursion, first sort the array to avoid (1, 2, 3) ~ (2, 1, 3) ~ (3, 1, 2)\n",
    "# at each level, choose to include or not include the next element to generate different subsets \n",
    "public class Solution {\n",
    "    /**\n",
    "     * @param nums: A set of numbers\n",
    "     * @return: A list of lists\n",
    "     */\n",
    "    public List<List<Integer>> subsets(int[] nums) {\n",
    "        List<List<Integer>> results = new ArrayList<>();\n",
    "        if (nums == null) {\n",
    "            return results;\n",
    "        }\n",
    "        \n",
    "        Arrays.sort(nums);\n",
    "        dfs(nums, 0, new ArrayList<Integer>(), results);\n",
    "        return results;\n",
    "    }\n",
    "    \n",
    "    private void dfs(int[] nums, int index, List<Integer> subset, List<List<Integer>> results) {\n",
    "        if (index == nums.length) {\n",
    "            results.add(new ArrayList<Integer> (subset)); // deep copy \n",
    "            return;\n",
    "        }\n",
    "        \n",
    "        // recursion \n",
    "        // if nums[index] is included \n",
    "        subset.add(nums[index]);\n",
    "        dfs(nums, index + 1, subset, results);\n",
    "        \n",
    "        \n",
    "        // if nums[index] not included \n",
    "        subset.remove(subset.size() - 1);\n",
    "        dfs(nums, index + 1, subset, results);\n",
    "    }\n",
    "}"
   ]
  },
  {
   "cell_type": "code",
   "execution_count": 39,
   "metadata": {},
   "outputs": [],
   "source": [
    "# Python, DFS recursion, at each level,\n",
    "# choose to include or not include the next element to generate different subsets \n",
    "class Solution:\n",
    "    \"\"\"\n",
    "    @param nums: A set of numbers\n",
    "    @return: A list of lists\n",
    "    \"\"\"\n",
    "    def subsets(self, nums):\n",
    "        results = []\n",
    "        if nums is None:\n",
    "            return []  # empty set \n",
    "        \n",
    "        nums.sort()\n",
    "        \n",
    "        self.dfs(nums, 0, [], results);\n",
    "        \n",
    "        return results\n",
    "    \n",
    "    def dfs(self, nums, index, subset, results):\n",
    "        # termination condition \n",
    "        if (index == len(nums)):\n",
    "            # index out of range, has checked all elements in the subset \n",
    "            results.append(list(subset))  # Note!!! use list() to make sure the subsets are correctly appended \n",
    "           # print('subset', subset)\n",
    "            print('results', results)\n",
    "            return \n",
    "        \n",
    "        # recursion \n",
    "        \n",
    "        # if the index element is included in subset \n",
    "        subset.append(nums[index])\n",
    "        \n",
    "        self.dfs(nums, index + 1, subset, results)\n",
    "        \n",
    "        \n",
    "        # if the index element is not included \n",
    "        subset.pop()\n",
    "        self.dfs(nums, index + 1, subset, results)\n",
    "        \n",
    "        \n",
    "        \n",
    "        \n"
   ]
  },
  {
   "cell_type": "code",
   "execution_count": 40,
   "metadata": {},
   "outputs": [
    {
     "name": "stdout",
     "output_type": "stream",
     "text": [
      "results [[1, 2]]\n",
      "results [[1, 2], [1]]\n",
      "results [[1, 2], [1], [2]]\n",
      "results [[1, 2], [1], [2], []]\n"
     ]
    },
    {
     "data": {
      "text/plain": [
       "[[1, 2], [1], [2], []]"
      ]
     },
     "execution_count": 40,
     "metadata": {},
     "output_type": "execute_result"
    }
   ],
   "source": [
    "p = Solution()\n",
    "p.subsets([1, 2])"
   ]
  },
  {
   "cell_type": "code",
   "execution_count": 92,
   "metadata": {},
   "outputs": [],
   "source": [
    "# Python 2: DFS, backtracking, first find what to add next, then find \n",
    "# what to add next to the selected one ... continue until nothing can \n",
    "# be found, backtrack\n",
    "\n",
    "class Solution:\n",
    "    \"\"\"\n",
    "    @param nums: A set of numbers\n",
    "    @return: A list of lists\n",
    "    \"\"\"\n",
    "    def subsets(self, nums):\n",
    "        if nums is None:\n",
    "            return []\n",
    "        # sort \n",
    "        nums.sort()\n",
    "        \n",
    "        results = []\n",
    "        # dfs with backtracking \n",
    "        self.dfs(nums, 0, [], results)\n",
    "        return results\n",
    "    \n",
    "    \n",
    "    def dfs(self, nums, index, subset, results):\n",
    "        # \n",
    "        results.append(list(subset))\n",
    "        \n",
    "        for i in range(index, len(nums)):\n",
    "            subset.append(nums[i])\n",
    "            self.dfs(nums, i + 1, subset, results)\n",
    "            subset.pop()  # back track \n",
    "        "
   ]
  },
  {
   "cell_type": "code",
   "execution_count": 94,
   "metadata": {},
   "outputs": [
    {
     "data": {
      "text/plain": [
       "[[], [1], [1, 2], [1, 2, 2], [1, 2], [2], [2, 2], [2]]"
      ]
     },
     "execution_count": 94,
     "metadata": {},
     "output_type": "execute_result"
    }
   ],
   "source": [
    "p = Solution()\n",
    "p.subsets([1, 2, 2])"
   ]
  },
  {
   "cell_type": "markdown",
   "metadata": {},
   "source": [
    "18 - Subsets II\n",
    "\n",
    "Given a collection of integers that might contain duplicates, nums, return all possible subsets (the power set).\n",
    "\n",
    "\n",
    "* DFS, backtracking, recursion\n"
   ]
  },
  {
   "cell_type": "code",
   "execution_count": null,
   "metadata": {},
   "outputs": [],
   "source": [
    "Input: [1,2,2]\n",
    "Output:\n",
    "[\n",
    "  [2],\n",
    "  [1],\n",
    "  [1,2,2],\n",
    "  [2,2],\n",
    "  [1,2],\n",
    "  []\n",
    "]"
   ]
  },
  {
   "cell_type": "code",
   "execution_count": 89,
   "metadata": {},
   "outputs": [],
   "source": [
    "class Solution:\n",
    "    \"\"\"\n",
    "    @param nums: A set of numbers.\n",
    "    @return: A list of lists. All valid subsets.\n",
    "    \"\"\"\n",
    "    def subsetsWithDup(self, nums):\n",
    "        if nums is None:\n",
    "            return []\n",
    "        nums.sort()\n",
    "        results = []\n",
    "        self.dfs(nums, 0, [], results)\n",
    "        return results \n",
    "    \n",
    "    \n",
    "    def dfs(self, nums, index, subset, results):\n",
    "        results.append(list(subset))\n",
    "        print('results', results)\n",
    "        \n",
    "        print('index', index)\n",
    "        for i in range(index, len(nums)):\n",
    "            print('i', i)\n",
    "            # tell if nums[i] has been added before (duplicated)\n",
    "            # key part!!!\n",
    "            # i > index is needed: for each iteration i, we only need to remove the second or higher \n",
    "            # duplicates: \n",
    "            # e.g., current subset is [1, 2], index starts from 2, \n",
    "            # if nums[2: ] = [2, 2, 3, 4, 5] and we skip nums[2] and nums[3] both\n",
    "            # (the case when there is no i > index condition), we will miss subsets\n",
    "            # [2, 2, 3], [2, 2, 3, 4]\n",
    "            \n",
    "            \n",
    "            # think from another way: \n",
    "            # if current subset is [1], at index position, we already updated our subset \n",
    "            # to [1, 2] for the next level dfs, if index + 1 position is again [2], then \n",
    "            # we will update the subset to [1, 2] again to produced duplicated subsets\n",
    "            if (i != 0 and nums[i] == nums[i - 1] and i > index):\n",
    "                continue\n",
    "            subset.append(nums[i])\n",
    "            self.dfs(nums, i + 1, subset, results)\n",
    "            subset.pop()\n",
    "        \n"
   ]
  },
  {
   "cell_type": "code",
   "execution_count": 91,
   "metadata": {},
   "outputs": [
    {
     "name": "stdout",
     "output_type": "stream",
     "text": [
      "results [[]]\n",
      "index 0\n",
      "i 0\n",
      "results [[], [2]]\n",
      "index 1\n",
      "i 1\n",
      "results [[], [2], [2, 2]]\n",
      "index 2\n",
      "i 1\n"
     ]
    },
    {
     "data": {
      "text/plain": [
       "[[], [2], [2, 2]]"
      ]
     },
     "execution_count": 91,
     "metadata": {},
     "output_type": "execute_result"
    }
   ],
   "source": [
    "p = Solution()\n",
    "p.subsetsWithDup([2, 2])"
   ]
  },
  {
   "cell_type": "markdown",
   "metadata": {},
   "source": [
    "152 - Combinations\n",
    "\n",
    "Given two integers n and k, return all possible combinations of k numbers out of 1 ... n.\n",
    "\n",
    "Example: \n",
    "\n",
    "Given n = 4 and k = 2, a solution is:\n",
    "\n",
    "[\n",
    "  [2,4],\n",
    "  [3,4],\n",
    "  [2,3],\n",
    "  [1,2],\n",
    "  [1,3],\n",
    "  [1,4]\n",
    "]\n",
    "\n",
    "\n",
    "* DFS, backtracking "
   ]
  },
  {
   "cell_type": "code",
   "execution_count": 115,
   "metadata": {},
   "outputs": [],
   "source": [
    "# Python: select all subsets that have length k \n",
    "class Solution:\n",
    "    \"\"\"\n",
    "    @param n: Given the range of numbers\n",
    "    @param k: Given the numbers of combinations\n",
    "    @return: All the combinations of k numbers out of 1..n\n",
    "    \"\"\"\n",
    "    def combine(self, n, k):\n",
    "        if n < k: \n",
    "            return []\n",
    "        results = []\n",
    "        self.dfs(n, k, [], results)\n",
    "        return results \n",
    "    \n",
    "    def dfs(self, n, k, selected_elements, results):\n",
    "        if (k == len(selected_elements)):\n",
    "            results.append(list(selected_elements))\n",
    "        \n",
    "        if len(selected_elements) == 0:\n",
    "            start_index = 1\n",
    "        else: \n",
    "            start_index = selected_elements[-1] + 1\n",
    "        for i in range(start_index, n + 1):\n",
    "            selected_elements.append(i)\n",
    "            self.dfs(n, k, selected_elements, results)\n",
    "            selected_elements.pop()\n",
    "        \n"
   ]
  },
  {
   "cell_type": "code",
   "execution_count": 117,
   "metadata": {},
   "outputs": [
    {
     "data": {
      "text/plain": [
       "[[1, 2], [1, 3], [2, 3]]"
      ]
     },
     "execution_count": 117,
     "metadata": {},
     "output_type": "execute_result"
    }
   ],
   "source": [
    "p = Solution()\n",
    "p.combine(3, 2)"
   ]
  },
  {
   "cell_type": "markdown",
   "metadata": {},
   "source": [
    "135 - Combination Sum\n",
    "\n",
    "\n",
    "Given a set of candidate numbers (`C`) and a target number (`T`), find all unique combinations in `C` where the candidate numbers sums to `T`.\n",
    "\n",
    "The same repeated number may be chosen from `C` unlimited number of times.\n",
    "\n",
    "All numbers (including target) will be positive integers.\n",
    "\n",
    "Elements in a combination (a1, a2, … , ak) must be in non-descending order. (ie, a1 ≤ a2 ≤ … ≤ ak).\n",
    "\n",
    "The solution set must not contain duplicate combinations.\n",
    "\n",
    "* backtracking, DFS\n"
   ]
  },
  {
   "cell_type": "code",
   "execution_count": null,
   "metadata": {},
   "outputs": [],
   "source": [
    "Given candidate set [2,3,6,7] and target 7, a solution set is:\n",
    "\n",
    "[7]\n",
    "\n",
    "[2, 2, 3]"
   ]
  },
  {
   "cell_type": "code",
   "execution_count": 153,
   "metadata": {},
   "outputs": [],
   "source": [
    "# Python 1: similar as before\n",
    "class Solution:\n",
    "    \"\"\"\n",
    "    @param candidates: A list of integers\n",
    "    @param target: An integer\n",
    "    @return: A list of lists of integers\n",
    "    \"\"\"\n",
    "    def combinationSum(self, candidates, target):\n",
    "        if len(candidates) == 0 or target == 0:\n",
    "            return [] # as all numbers are positive  (if target ==0, can only be empty set)\n",
    "\n",
    "        results = []\n",
    "        # sort the elements in candidates \n",
    "        candidates = sorted(list(candidates))\n",
    "        \n",
    "        self.dfs(candidates, target, 0, [], results)\n",
    "        return results\n",
    "    \n",
    "    \n",
    "    def dfs(self, candidates, target, start_index, subset,results):\n",
    "#         print('sum subset', sum(subset))\n",
    "        if sum(subset) == target:\n",
    "#             print('true')\n",
    "            # deep copy, needed!!!  \n",
    "            results.append(list(subset))\n",
    "        if sum(subset) > target:\n",
    "            return\n",
    "            \n",
    "        for i in range(start_index, len(candidates)):\n",
    "            # stop iteration if candidates[i] itself > target \n",
    "            if candidates[i] > target:\n",
    "                return\n",
    "            # remove duplicated elements \n",
    "            if (i != 0 and candidates[i] == candidates[i - 1] and i > start_index):\n",
    "                continue\n",
    "            subset.append(candidates[i])\n",
    "            self.dfs(candidates, target, i ,subset, results)  # start_index is i instead of i + 1\n",
    "            subset.pop()\n",
    "        \n"
   ]
  },
  {
   "cell_type": "code",
   "execution_count": 142,
   "metadata": {},
   "outputs": [
    {
     "name": "stdout",
     "output_type": "stream",
     "text": [
      "[1, 2, 3]\n"
     ]
    },
    {
     "data": {
      "text/plain": [
       "3"
      ]
     },
     "execution_count": 142,
     "metadata": {},
     "output_type": "execute_result"
    }
   ],
   "source": [
    "x = {3, 2, 1}\n",
    "x = sorted(list(x))\n",
    "print(x)\n",
    "type(x)\n",
    "x[2]"
   ]
  },
  {
   "cell_type": "code",
   "execution_count": 154,
   "metadata": {},
   "outputs": [
    {
     "data": {
      "text/plain": [
       "[[2, 3]]"
      ]
     },
     "execution_count": 154,
     "metadata": {},
     "output_type": "execute_result"
    }
   ],
   "source": [
    "p = Solution()\n",
    "p.combinationSum([2,2,3], 5)"
   ]
  },
  {
   "cell_type": "code",
   "execution_count": 165,
   "metadata": {},
   "outputs": [],
   "source": [
    "# Python 2, use dynamic target value for\n",
    "# 1. result append condition \n",
    "# 2. no need to add condition 'if sum(subset) > target      return' \n",
    "class Solution:\n",
    "    \"\"\"\n",
    "    @param candidates: A list of integers\n",
    "    @param target: An integer\n",
    "    @return: A list of lists of integers\n",
    "    \"\"\"\n",
    "    def combinationSum(self, candidates, target):\n",
    "        if len(candidates) == 0 or target == 0:\n",
    "            return [] # as all numbers are positive  (if target ==0, can only be empty set)\n",
    "\n",
    "        results = []\n",
    "        # remove duplicated elements from the very beginning as the iteration in dfs function \n",
    "        # can start from the elements iteself (already allow duplication for as many times)\n",
    "        candidates = set(candidates)\n",
    "        # sort the elements in candidates \n",
    "        candidates = sorted(list(candidates))\n",
    "        \n",
    "        self.dfs(candidates, target, 0, [], results)\n",
    "        return results\n",
    "    \n",
    "    def dfs(self, candidates, target, start_index, subset,results):\n",
    "#         print('sum subset', sum(subset))\n",
    "        if target == 0:\n",
    "#             print('true')\n",
    "            # deep copy, needed!!!  \n",
    "            results.append(list(subset))\n",
    "\n",
    "            \n",
    "        for i in range(start_index, len(candidates)):\n",
    "            # stop iteration if candidates[i] itself > target \n",
    "            if candidates[i] > target:\n",
    "                return\n",
    "            subset.append(candidates[i])\n",
    "            self.dfs(candidates, target - candidates[i], i ,subset, results)  # start_index is i instead of i + 1\n",
    "            subset.pop()\n",
    "        "
   ]
  },
  {
   "cell_type": "code",
   "execution_count": 166,
   "metadata": {},
   "outputs": [
    {
     "data": {
      "text/plain": [
       "[[2, 3]]"
      ]
     },
     "execution_count": 166,
     "metadata": {},
     "output_type": "execute_result"
    }
   ],
   "source": [
    "p = Solution()\n",
    "p.combinationSum([2,2,3], 5)"
   ]
  },
  {
   "cell_type": "markdown",
   "metadata": {},
   "source": [
    "153 - Combination Sum II\n",
    "\n",
    "Given a collection of candidate numbers (`C`) and a target number (`T`), find all unique combinations in `C` where the candidate numbers sums to `T`.\n",
    "\n",
    "Each number in `C` may only be used once in the combination.\n",
    "\n",
    "All numbers (including target) will be positive integers.\n",
    "\n",
    "Elements in a combination (a1, a2, … , ak) must be in non-descending order. (ie, a1 ≤ a2 ≤ … ≤ ak).\n",
    "\n",
    "The solution set must not contain duplicate combinations.\n",
    "\n",
    "* backtracking, DFS, duplicated elements "
   ]
  },
  {
   "cell_type": "code",
   "execution_count": null,
   "metadata": {},
   "outputs": [],
   "source": [
    "Given candidate set [10,1,6,7,2,1,5] and target 8,\n",
    "\n",
    "A solution set is:\n",
    "\n",
    "[\n",
    "  [1,7],\n",
    "  [1,2,5],\n",
    "  [2,6],\n",
    "  [1,1,6]\n",
    "]"
   ]
  },
  {
   "cell_type": "code",
   "execution_count": 216,
   "metadata": {},
   "outputs": [],
   "source": [
    "# Python: \n",
    "class Solution:\n",
    "    \"\"\"\n",
    "    @param num: Given the candidate numbers\n",
    "    @param target: Given the target number\n",
    "    @return: All the combinations that sum to target\n",
    "    \"\"\"\n",
    "    def combinationSum2(self, num, target):\n",
    "        if target == 0 or len(num) == 0:\n",
    "            return []\n",
    "        \n",
    "        # sort \n",
    "        num.sort()\n",
    "#         print(num)\n",
    "        \n",
    "        results = []\n",
    "        self.dfs(num, target, 0, [], results)\n",
    "        return results\n",
    "    \n",
    "    def dfs(self, num, target, start_index, subset, results):\n",
    "        if sum(subset) == target and subset == sorted(subset):\n",
    "          #  print('results', results)\n",
    "            results.append(list(subset))\n",
    "        if sum(subset) > target:\n",
    "            return \n",
    "            \n",
    "        for i in range(start_index, len(num)):\n",
    "            if num[i] > target:\n",
    "                return\n",
    "            if (i != 0 and num[i] == num[i - 1] and i > start_index):\n",
    "                continue\n",
    "            subset.append(num[i])\n",
    "            self.dfs(num, target, i + 1, subset, results)  # NOTE: it's i + 1 !!!!!\n",
    "#             print('start index', num[start_index])\n",
    "#             print('start index + 1', num[start_index + 1])\n",
    "            subset.pop()\n",
    "\n",
    "        \n",
    "   "
   ]
  },
  {
   "cell_type": "code",
   "execution_count": 217,
   "metadata": {},
   "outputs": [
    {
     "data": {
      "text/plain": [
       "[[5, 5, 5, 6, 7],\n",
       " [5, 5, 5, 13],\n",
       " [5, 5, 6, 6, 6],\n",
       " [5, 5, 6, 12],\n",
       " [5, 5, 7, 11],\n",
       " [5, 5, 9, 9],\n",
       " [5, 6, 6, 11],\n",
       " [5, 6, 17],\n",
       " [5, 7, 16],\n",
       " [5, 9, 14],\n",
       " [5, 11, 12],\n",
       " [5, 23],\n",
       " [6, 6, 7, 9],\n",
       " [6, 6, 16],\n",
       " [6, 9, 13],\n",
       " [6, 11, 11],\n",
       " [6, 22],\n",
       " [7, 9, 12],\n",
       " [7, 21],\n",
       " [9, 19],\n",
       " [11, 17],\n",
       " [12, 16],\n",
       " [14, 14],\n",
       " [28]]"
      ]
     },
     "execution_count": 217,
     "metadata": {},
     "output_type": "execute_result"
    }
   ],
   "source": [
    "p = Solution()\n",
    "p.combinationSum2([29,19,14,33,11,5,9,23,23,33,12,9,25,25,12,21,14,11,20,30,17,19,5,6,6,5,5,11,12,25,31,28,31,33,27,7,33,31,17,13,21,24,17,12,6,16,20,16,22,5], 28)"
   ]
  },
  {
   "cell_type": "markdown",
   "metadata": {},
   "source": [
    "680 - Split String\n",
    "\n",
    "Give a string, you can choose to split the string after one character or two adjacent characters, and make the string to be composed of only one character or two characters. Output all possible results.\n",
    "\n",
    "Input: \"123\"\n",
    "\n",
    "Output: [[\"1\",\"2\",\"3\"],[\"12\",\"3\"],[\"1\",\"23\"]]\n",
    "\n",
    "* DFS\n"
   ]
  },
  {
   "cell_type": "code",
   "execution_count": 224,
   "metadata": {},
   "outputs": [],
   "source": [
    "# Python 1: naive way: at each step, decide to add the next one or two characters in to the splited list \n",
    "\n",
    "class Solution:\n",
    "    \"\"\"\n",
    "    @param: : a string to be split\n",
    "    @return: all possible split string array\n",
    "    \"\"\"\n",
    "\n",
    "    def splitString(self, s):\n",
    "        if len(s) == 0:\n",
    "            return [[]]\n",
    "        results = []\n",
    "        self.dfs(s, 0, [], results)\n",
    "        return results \n",
    "    \n",
    "    def dfs(self, s, start_index, splited_str, results):\n",
    "        # append the one splitting way to results \n",
    "        if start_index == len(s):\n",
    "            results.append(list(splited_str))\n",
    "            \n",
    "            \n",
    "        if start_index <= len(s) - 1:\n",
    "            splited_str.append(s[start_index])\n",
    "            self.dfs(s, start_index + 1, splited_str, results)\n",
    "            splited_str.pop()\n",
    "        \n",
    "        if start_index <= len(s) - 2:\n",
    "            splited_str.append(s[start_index:(start_index + 2)])\n",
    "            self.dfs(s, start_index + 2, splited_str, results)\n",
    "            splited_str.pop()\n"
   ]
  },
  {
   "cell_type": "code",
   "execution_count": 218,
   "metadata": {},
   "outputs": [
    {
     "data": {
      "text/plain": [
       "5"
      ]
     },
     "execution_count": 218,
     "metadata": {},
     "output_type": "execute_result"
    }
   ],
   "source": [
    "x = 'sleep'\n",
    "len(x)"
   ]
  },
  {
   "cell_type": "code",
   "execution_count": 226,
   "metadata": {},
   "outputs": [
    {
     "data": {
      "text/plain": [
       "[['1', '2', '3'], ['1', '23'], ['12', '3']]"
      ]
     },
     "execution_count": 226,
     "metadata": {},
     "output_type": "execute_result"
    }
   ],
   "source": [
    "p = Solution()\n",
    "p.splitString('123')"
   ]
  },
  {
   "cell_type": "code",
   "execution_count": 227,
   "metadata": {},
   "outputs": [],
   "source": [
    "# Python 2: use more compact code (with a for loop in dfs function)\n",
    "class Solution:\n",
    "    \"\"\"\n",
    "    @param: : a string to be split\n",
    "    @return: all possible split string array\n",
    "    \"\"\"\n",
    "\n",
    "    def splitString(self, s):\n",
    "        if len(s) == 0:\n",
    "            return [[]]\n",
    "        results = []\n",
    "        self.dfs(s, 0, [], results)\n",
    "        return results \n",
    "    \n",
    "    def dfs(self, s, start_index, splited_str, results):\n",
    "        # append \n",
    "        if start_index == len(s):\n",
    "            results.append(list(splited_str))\n",
    "            \n",
    "            \n",
    "        for i in range(2):\n",
    "            if start_index <= len(s) - i:\n",
    "                splited_str.append(s[start_index:(start_index + i + 1)])\n",
    "                self.dfs(s, start_index + i + 1, splited_str, results)\n",
    "                splited_str.pop()\n"
   ]
  },
  {
   "cell_type": "markdown",
   "metadata": {},
   "source": [
    "136 - Palindrome Partitioning\n",
    "\n",
    "Given a string s, partition s such that every substring of the partition is a palindrome.\n",
    "\n",
    "Return all possible palindrome partitioning of s.\n",
    "\n",
    "Example: \n",
    "    \n",
    "Given s = \"aab\", return:\n",
    "\n",
    "[\n",
    "  [\"aa\",\"b\"],\n",
    "  [\"a\",\"a\",\"b\"]\n",
    "]\n",
    "\n",
    "* DFS, backtracking "
   ]
  },
  {
   "cell_type": "code",
   "execution_count": 242,
   "metadata": {},
   "outputs": [],
   "source": [
    "class Solution:\n",
    "    \"\"\"\n",
    "    @param: s: A string\n",
    "    @return: A list of lists of string\n",
    "    \"\"\"\n",
    "    def partition(self, s):\n",
    "        if len(s) ==0:\n",
    "            return [[]]\n",
    "        results = []\n",
    "        self.dfs(s, 0, [], results)\n",
    "        return results\n",
    "    \n",
    "    def dfs(self, s, start_index, splited_str, results):\n",
    "        # append when no more characters to be iterated \n",
    "        if start_index == len(s): \n",
    "            results.append(list(splited_str))\n",
    "        \n",
    "        for i in range(len(s) - start_index):\n",
    "            if start_index <= len(s) - i:\n",
    "                new_str = s[start_index:(start_index + i + 1)]\n",
    "#                 print('new str', new_str)\n",
    "            if self.is_palindrome(new_str):\n",
    "                splited_str.append(new_str)\n",
    "                self.dfs(s, start_index + i + 1, splited_str, results)\n",
    "                splited_str.pop()\n",
    "    def is_palindrome(self, s):\n",
    "        left, right = 0, len(s) - 1\n",
    "        while left < right:\n",
    "            if s[left] != s[right]:\n",
    "                return False\n",
    "            left += 1\n",
    "            right -= 1\n",
    "            \n",
    "        return True\n",
    "    "
   ]
  },
  {
   "cell_type": "code",
   "execution_count": 244,
   "metadata": {},
   "outputs": [
    {
     "data": {
      "text/plain": [
       "[['a']]"
      ]
     },
     "execution_count": 244,
     "metadata": {},
     "output_type": "execute_result"
    }
   ],
   "source": [
    "p = Solution()\n",
    "p.partition('a')"
   ]
  },
  {
   "cell_type": "markdown",
   "metadata": {},
   "source": [
    "192 - Wildcard Matching\n",
    "\n",
    "Implement wildcard pattern matching with support for '?' and '*'.\n",
    "\n",
    "`'?'` Matches any single character.\n",
    "\n",
    "`'*'` Matches any sequence of characters (including the empty sequence).\n",
    "\n",
    "The matching should cover the entire input string (not partial).\n",
    "\n",
    "Examples: \n",
    "    \n",
    "isMatch(\"aa\",\"a\") → false\n",
    "\n",
    "isMatch(\"aa\",\"aa\") → true\n",
    "\n",
    "isMatch(\"aaa\",\"aa\") → false\n",
    "\n",
    "isMatch(\"aa\", \"*\") → true\n",
    "\n",
    "isMatch(\"aa\", \"a*\") → true\n",
    "\n",
    "isMatch(\"ab\", \"?*\") → true\n",
    "\n",
    "isMatch(\"aab\", \"c*a*b\") → false\n",
    "\n",
    "\n",
    "* Backtracking, dynamic programming, DFS, memoization search\n"
   ]
  },
  {
   "cell_type": "code",
   "execution_count": null,
   "metadata": {},
   "outputs": [],
   "source": [
    "# Python 1: DFS \n",
    "class Solution:\n",
    "    \"\"\"\n",
    "    @param s: A string \n",
    "    @param p: A string includes \"?\" and \"*\"\n",
    "    @return: is Match?\n",
    "    \"\"\"\n",
    "    def isMatch(self, source, pattern):\n",
    "        return self.is_match_helper(source, 0, pattern, 0, {})\n",
    "    \n",
    "    def is_match_helper(self, source, i, pattern, j, memo):\n",
    "        # memoization\n",
    "        if (i, j) in memo:\n",
    "            return memo[(i, j)]\n",
    "        \n",
    "        # if  source is empty\n",
    "        if len(source) == i:\n",
    "            # every character in pattern should be \"*\"\n",
    "            for index in range(j, len(pattern)):\n",
    "                if pattern[index] != '*':\n",
    "                    return False\n",
    "            return True\n",
    "        \n",
    "        # length of two strings not the same, cannot be matched \n",
    "        if len(pattern) == j:\n",
    "            return False\n",
    "        \n",
    "        # discuss two cases: if pattern[j] is * or not \n",
    "        if pattern[j] != '*':\n",
    "            # the current character matches and the following characters match\n",
    "            matched = self.is_match_char(source[i], pattern[j]) and \n",
    "            self.is_match_helper(source, i + 1, pattern, j + 1, memo)\n",
    "        else: \n",
    "            # * matches one character of source or an empty character \n",
    "            matched = self.is_match_helper(source, i + 1, pattern, j, memo) or \n",
    "            self.is_match_helper(source, i, pattern, j + 1, memo)\n",
    "        # update memo[(i, j)]\n",
    "        memo[(i, j)] = matched \n",
    "        return matched \n",
    "    \n",
    "    def is_match_char(self, s, p):\n",
    "        return s == p or p == '?'  # deal with the ? case here "
   ]
  },
  {
   "cell_type": "code",
   "execution_count": null,
   "metadata": {},
   "outputs": [],
   "source": [
    "# Python 2: dynamic programming \n",
    "class Solution:\n",
    "    \"\"\"\n",
    "    @param s: A string\n",
    "    @param p: A string includes \"?\" and \"*\"\n",
    "    @return: A boolean\n",
    "    \"\"\"\n",
    "    def isMatch(self, s, p):\n",
    "        n = len(s)\n",
    "        m = len(p)\n",
    "        # f is (n + 1) lists of [False, False ..., False] of length (m + 1)\n",
    "        f = [[False] * (m + 1) for i in range(n + 1)]\n",
    "        \n",
    "        # initialize f[0][0] as True \n",
    "        f[0][0] = True\n",
    "        \n",
    "        # if source is empty, pattern contains only *\n",
    "        if n == 0 and p.count('*') == m:\n",
    "            return True\n",
    "        \n",
    "        # loop over all elements  \n",
    "        for i in range(0, n + 1):\n",
    "            for j in range(0, m + 1):\n",
    "                if i > 0 and j > 0:\n",
    "                    f[i][j] |= f[i-1][j-1] and (s[i-1] == p[j-1] or p[j - 1] in ['?', '*'])\n",
    "\n",
    "                if i > 0 and j > 0:\n",
    "                    f[i][j] |= f[i - 1][j] and p[j - 1] == '*'\n",
    "                    \n",
    "                # i = 0, j > 0, f[i][j] is initialized as False for any i, j except i = 0, j= 0 \n",
    "                if j > 0:\n",
    "                    f[i][j] |= f[i][j - 1] and p[j - 1] == '*'\n",
    "\n",
    "\n",
    "        return f[n][m]"
   ]
  },
  {
   "cell_type": "code",
   "execution_count": 246,
   "metadata": {},
   "outputs": [
    {
     "data": {
      "text/plain": [
       "[[False, False], [False, False], [False, False]]"
      ]
     },
     "execution_count": 246,
     "metadata": {},
     "output_type": "execute_result"
    }
   ],
   "source": [
    "[[False] * (1 + 1) for i in range(2 + 1)]"
   ]
  },
  {
   "cell_type": "markdown",
   "metadata": {},
   "source": [
    "154 -  Regular Expression Matching\n",
    "\n",
    "Implement regular expression matching with support for '.' and '*'.\n",
    "\n",
    "'.' Matches any single character.\n",
    "\n",
    "'*' Matches zero or more of the preceding element.\n",
    "\n",
    "The matching should cover the entire input string (not partial).\n",
    "\n",
    "\n",
    "The function prototype should be:\n",
    "\n",
    "`bool isMatch(string s, string p)`\n",
    "\n",
    "Examples: \n",
    "\n",
    "isMatch(\"aa\",\"a\") → false\n",
    "\n",
    "isMatch(\"aa\",\"aa\") → true\n",
    "\n",
    "isMatch(\"aaa\",\"aa\") → false\n",
    "\n",
    "isMatch(\"aa\", \"a*\") → true\n",
    "\n",
    "isMatch(\"aa\", \".*\") → true\n",
    "\n",
    "isMatch(\"ab\", \".*\") → true\n",
    "\n",
    "isMatch(\"aab\", \"c*a*b\") → true"
   ]
  },
  {
   "cell_type": "code",
   "execution_count": 249,
   "metadata": {},
   "outputs": [
    {
     "data": {
      "text/plain": [
       "False"
      ]
     },
     "execution_count": 249,
     "metadata": {},
     "output_type": "execute_result"
    }
   ],
   "source": [
    "f = False\n",
    "f |= True and False\n",
    "f"
   ]
  },
  {
   "cell_type": "markdown",
   "metadata": {},
   "source": [
    "582 - Word Break II\n",
    "\n",
    "\n",
    "Given a string `s` and a dictionary of words `dict`, add spaces in `s` to construct a sentence where each word is a valid dictionary word.\n",
    "\n",
    "Return all such possible sentences.\n",
    "\n",
    "Example\n",
    "\n",
    "Gieve s = leetcode,\n",
    "\n",
    "dict = [\"de\", \"ding\", \"co\", \"code\", \"leet\"].\n",
    "\n",
    "A solution is [\"leet code\", \"leet co de\"].\n"
   ]
  },
  {
   "cell_type": "code",
   "execution_count": 1,
   "metadata": {},
   "outputs": [],
   "source": [
    "class Solution:\n",
    "    \"\"\"\n",
    "    @param: s: A string\n",
    "    @param: wordDict: A set of words.\n",
    "    @return: All possible sentences.\n",
    "    \"\"\"\n",
    "    def wordBreak(self, s, wordDict):\n",
    "        if len(s) == 0:\n",
    "            return []\n",
    "        if len(wordDict) ==0 :\n",
    "            return []\n",
    "        \n",
    "        return self.dfs(s, wordDict, {})\n",
    "    \n",
    "    def dfs(self, s, wordDict, memo):\n",
    "        # if the partition of s has been computed before, pull the results directly\n",
    "        if s in memo:\n",
    "            return memo[s]\n",
    "            \n",
    "        partitions = []\n",
    "        \n",
    "        # split s \n",
    "        for i in range(0, len(s) - 1):\n",
    "            prefix = s[:(i + 1)]\n",
    "            if prefix not in wordDict:\n",
    "                continue\n",
    "            # partition the rest of the string \n",
    "            sub_partitions = self.dfs(s[(i + 1):], wordDict, memo)\n",
    "            # add the partitions of the rest of string \n",
    "            for partition in sub_partitions:\n",
    "                partitions.append(prefix + \" \" + partition)\n",
    "        # case when s itself is in the dictionary        \n",
    "        if s in wordDict:\n",
    "            partitions.append(s)\n",
    "            \n",
    "        memo[s] = partitions\n",
    "        return partitions"
   ]
  },
  {
   "cell_type": "code",
   "execution_count": 3,
   "metadata": {},
   "outputs": [
    {
     "data": {
      "text/plain": [
       "['leet co de', 'leet code', 'leetcode']"
      ]
     },
     "execution_count": 3,
     "metadata": {},
     "output_type": "execute_result"
    }
   ],
   "source": [
    "Solution().wordBreak('leetcode',  [\"de\", \"ding\", \"co\", \"code\", \"leet\", 'leetcode'])"
   ]
  },
  {
   "cell_type": "code",
   "execution_count": 6,
   "metadata": {},
   "outputs": [
    {
     "data": {
      "text/plain": [
       "False"
      ]
     },
     "execution_count": 6,
     "metadata": {},
     "output_type": "execute_result"
    }
   ],
   "source": [
    "a = [\"\"]\n",
    "len(a)\n",
    "a == ''"
   ]
  }
 ],
 "metadata": {
  "kernelspec": {
   "display_name": "Python 3",
   "language": "python",
   "name": "python3"
  },
  "language_info": {
   "codemirror_mode": {
    "name": "ipython",
    "version": 3
   },
   "file_extension": ".py",
   "mimetype": "text/x-python",
   "name": "python",
   "nbconvert_exporter": "python",
   "pygments_lexer": "ipython3",
   "version": "3.6.3"
  }
 },
 "nbformat": 4,
 "nbformat_minor": 2
}
