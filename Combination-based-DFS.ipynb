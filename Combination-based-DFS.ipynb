{
 "cells": [
  {
   "cell_type": "markdown",
   "metadata": {},
   "source": [
    "## Combination-based DFS"
   ]
  },
  {
   "cell_type": "markdown",
   "metadata": {},
   "source": [
    "17 - Subsets\n",
    "\n",
    "Given a set of distinct integers, return all possible subsets.\n",
    "\n",
    "* DFS, recursion, iteration "
   ]
  },
  {
   "cell_type": "code",
   "execution_count": null,
   "metadata": {},
   "outputs": [],
   "source": [
    "Input: [1,2,3]\n",
    "Output:\n",
    "[\n",
    "  [3],\n",
    "  [1],\n",
    "  [2],\n",
    "  [1,2,3],\n",
    "  [1,3],\n",
    "  [2,3],\n",
    "  [1,2],\n",
    "  []\n",
    "]"
   ]
  },
  {
   "cell_type": "code",
   "execution_count": 3,
   "metadata": {},
   "outputs": [],
   "source": [
    "# Python 2: DFS, backtracking, first find what to add next, then find \n",
    "# what to add next to the selected one ... continue until nothing can \n",
    "# be found, backtrack\n",
    "\n",
    "class Solution:\n",
    "    \"\"\"\n",
    "    @param nums: A set of numbers\n",
    "    @return: A list of lists\n",
    "    \"\"\"\n",
    "    def subsets(self, nums):\n",
    "        if not nums:\n",
    "            return [[]]\n",
    "        # sort the nums first \n",
    "        nums.sort()\n",
    "        results = []\n",
    "        self.dfs(0, [], nums, results)\n",
    "        return results \n",
    "        \n",
    "    def dfs(self, start_index, subset, nums, results):\n",
    "\n",
    "        results.append(list(subset))\n",
    "        \n",
    "        for i in range(start_index, len(nums)):\n",
    "            subset.append(nums[i])\n",
    "            self.dfs(i + 1, subset, nums, results)\n",
    "            subset.pop()\n",
    "        "
   ]
  },
  {
   "cell_type": "code",
   "execution_count": 5,
   "metadata": {},
   "outputs": [
    {
     "data": {
      "text/plain": [
       "[[], [1], [1, 2], [1, 2, 3], [1, 3], [2], [2, 3], [3]]"
      ]
     },
     "execution_count": 5,
     "metadata": {},
     "output_type": "execute_result"
    }
   ],
   "source": [
    "p = Solution()\n",
    "p.subsets([1, 2, 3])"
   ]
  },
  {
   "cell_type": "markdown",
   "metadata": {},
   "source": [
    "18 - Subsets II\n",
    "\n",
    "Given a collection of integers that might contain duplicates, nums, return all possible subsets (the power set).\n",
    "\n",
    "\n",
    "* DFS, backtracking, recursion\n"
   ]
  },
  {
   "cell_type": "code",
   "execution_count": null,
   "metadata": {},
   "outputs": [],
   "source": [
    "Input: [1,2,2]\n",
    "Output:\n",
    "[\n",
    "  [2],\n",
    "  [1],\n",
    "  [1,2,2],\n",
    "  [2,2],\n",
    "  [1,2],\n",
    "  []\n",
    "]"
   ]
  },
  {
   "cell_type": "code",
   "execution_count": 6,
   "metadata": {},
   "outputs": [],
   "source": [
    "class Solution:\n",
    "    \"\"\"\n",
    "    @param nums: A set of numbers.\n",
    "    @return: A list of lists. All valid subsets.\n",
    "    \"\"\"\n",
    "    def subsetsWithDup(self, nums):\n",
    "        if nums is None:\n",
    "            return []\n",
    "        nums.sort()\n",
    "        results = []\n",
    "        self.dfs(nums, 0, [], results)\n",
    "        return results \n",
    "    \n",
    "    \n",
    "    def dfs(self, nums, index, subset, results):\n",
    "        results.append(list(subset))\n",
    "        print('results', results)\n",
    "        \n",
    "        print('index', index)\n",
    "        for i in range(index, len(nums)):\n",
    "            print('i', i)\n",
    "            # tell if nums[i] has been added before (duplicated)\n",
    "            if i != 0 and nums[i] == nums[i - 1] and i > index:\n",
    "                continue\n",
    "            # dfs recursion \n",
    "            subset.append(nums[i])\n",
    "            self.dfs(nums, i + 1, subset, results)\n",
    "            subset.pop()\n",
    "        \n"
   ]
  },
  {
   "cell_type": "code",
   "execution_count": 7,
   "metadata": {},
   "outputs": [
    {
     "name": "stdout",
     "output_type": "stream",
     "text": [
      "results [[]]\n",
      "index 0\n",
      "i 0\n",
      "results [[], [2]]\n",
      "index 1\n",
      "i 1\n",
      "results [[], [2], [2, 2]]\n",
      "index 2\n",
      "i 1\n"
     ]
    },
    {
     "data": {
      "text/plain": [
       "[[], [2], [2, 2]]"
      ]
     },
     "execution_count": 7,
     "metadata": {},
     "output_type": "execute_result"
    }
   ],
   "source": [
    "p = Solution()\n",
    "p.subsetsWithDup([2, 2])"
   ]
  },
  {
   "cell_type": "markdown",
   "metadata": {},
   "source": [
    "152 - Combinations\n",
    "\n",
    "Given two integers n and k, return all possible combinations of k numbers out of 1 ... n.\n",
    "\n",
    "Example: \n",
    "\n",
    "Given n = 4 and k = 2, a solution is:\n",
    "\n",
    "[\n",
    "  [2,4],\n",
    "  [3,4],\n",
    "  [2,3],\n",
    "  [1,2],\n",
    "  [1,3],\n",
    "  [1,4]\n",
    "]\n",
    "\n",
    "\n",
    "* DFS, backtracking "
   ]
  },
  {
   "cell_type": "code",
   "execution_count": 1,
   "metadata": {},
   "outputs": [],
   "source": [
    "# Python: select all subsets that have length k \n",
    "class Solution:\n",
    "    \"\"\"\n",
    "    @param n: Given the range of numbers\n",
    "    @param k: Given the numbers of combinations\n",
    "    @return: All the combinations of k numbers out of 1..n\n",
    "    \"\"\"\n",
    "    def combine(self, n, k):\n",
    "        if n < k or not n:\n",
    "            return []\n",
    "        results = []\n",
    "        self.dfs(n, k, [], results)\n",
    "        return results \n",
    "        \n",
    "    def dfs(self, n, k, sub_str, results):\n",
    "        if len(sub_str) == k:\n",
    "            results.append(sub_str[:])\n",
    "            return \n",
    "        start_val = sub_str[-1] + 1 if len(sub_str) > 0 else 1 \n",
    "        for i in range(start_val, n + 1):\n",
    "            sub_str.append(i)\n",
    "            self.dfs(n, k, sub_str, results)\n",
    "            sub_str.pop()\n",
    "        \n"
   ]
  },
  {
   "cell_type": "code",
   "execution_count": 2,
   "metadata": {},
   "outputs": [
    {
     "data": {
      "text/plain": [
       "[[1, 2], [1, 3], [2, 3]]"
      ]
     },
     "execution_count": 2,
     "metadata": {},
     "output_type": "execute_result"
    }
   ],
   "source": [
    "p = Solution()\n",
    "p.combine(3, 2)"
   ]
  },
  {
   "cell_type": "markdown",
   "metadata": {},
   "source": [
    "135 - Combination Sum\n",
    "\n",
    "\n",
    "Given a set of candidate numbers (`C`) and a target number (`T`), find all unique combinations in `C` where the candidate numbers sums to `T`.\n",
    "\n",
    "The same repeated number may be chosen from `C` unlimited number of times.\n",
    "\n",
    "All numbers (including target) will be positive integers.\n",
    "\n",
    "Elements in a combination (a1, a2, … , ak) must be in non-descending order. (ie, a1 ≤ a2 ≤ … ≤ ak).\n",
    "\n",
    "The solution set must not contain duplicate combinations.\n",
    "\n",
    "* backtracking, DFS\n",
    "\n",
    "\n",
    "Example: \n",
    "\n",
    "Given candidate set [2,3,6,7] and target 7, a solution set is:\n",
    "\n",
    "[7]\n",
    "\n",
    "[2, 2, 3]\n"
   ]
  },
  {
   "cell_type": "code",
   "execution_count": 153,
   "metadata": {},
   "outputs": [],
   "source": [
    "# Python 1: add an extra constraint (target), start from i instead of i + 1 for dfs recursion \n",
    "#           as each element can be used repeated\n",
    "class Solution:\n",
    "    \"\"\"\n",
    "    @param candidates: A list of integers\n",
    "    @param target: An integer\n",
    "    @return: A list of lists of integers\n",
    "    \"\"\"\n",
    "    def combinationSum(self, candidates, target):\n",
    "        if len(candidates) == 0 or target == 0:\n",
    "            return [] # as all numbers are positive  (if target ==0, can only be empty set)\n",
    "\n",
    "        results = []\n",
    "        # sort the elements in candidates \n",
    "        candidates = sorted(list(candidates))\n",
    "        \n",
    "        self.dfs(candidates, target, 0, [], results)\n",
    "        return results\n",
    "    \n",
    "    \n",
    "    def dfs(self, candidates, target, start_index, subset,results):\n",
    "#         print('sum subset', sum(subset))\n",
    "        if sum(subset) == target:\n",
    "#             print('true')\n",
    "            # deep copy, needed!!!  \n",
    "            results.append(list(subset))\n",
    "        if sum(subset) > target:\n",
    "            return\n",
    "            \n",
    "        for i in range(start_index, len(candidates)):\n",
    "            # stop iteration if candidates[i] itself > target \n",
    "            if candidates[i] > target:\n",
    "                return\n",
    "            # remove duplicated elements \n",
    "            if i != 0 and candidates[i] == candidates[i - 1] and i > start_index:\n",
    "                continue\n",
    "            subset.append(candidates[i])\n",
    "            self.dfs(candidates, target, i ,subset, results)  # start_index is i instead of i + 1\n",
    "            subset.pop()\n",
    "        \n"
   ]
  },
  {
   "cell_type": "code",
   "execution_count": 142,
   "metadata": {},
   "outputs": [
    {
     "name": "stdout",
     "output_type": "stream",
     "text": [
      "[1, 2, 3]\n"
     ]
    },
    {
     "data": {
      "text/plain": [
       "3"
      ]
     },
     "execution_count": 142,
     "metadata": {},
     "output_type": "execute_result"
    }
   ],
   "source": [
    "x = {3, 2, 1}\n",
    "x = sorted(list(x))\n",
    "print(x)\n",
    "type(x)\n",
    "x[2]"
   ]
  },
  {
   "cell_type": "code",
   "execution_count": 154,
   "metadata": {},
   "outputs": [
    {
     "data": {
      "text/plain": [
       "[[2, 3]]"
      ]
     },
     "execution_count": 154,
     "metadata": {},
     "output_type": "execute_result"
    }
   ],
   "source": [
    "p = Solution()\n",
    "p.combinationSum([2,2,3], 5)"
   ]
  },
  {
   "cell_type": "code",
   "execution_count": null,
   "metadata": {},
   "outputs": [],
   "source": [
    "# Python 2:change the target value dynamically according to subset \n",
    "class Solution:\n",
    "    \"\"\"\n",
    "    @param candidates: A list of integers\n",
    "    @param target: An integer\n",
    "    @return: A list of lists of integers\n",
    "    \"\"\"\n",
    "    def combinationSum(self, candidates, target):\n",
    "        if not candidates or not target:\n",
    "            return []\n",
    "        \n",
    "        candidates.sort()\n",
    "        \n",
    "        results = []\n",
    "        self.dfs(candidates, 0, [], target, results)\n",
    "        return results \n",
    "        \n",
    "        \n",
    "    def dfs(self, candidates, start_index, subset, target, results):\n",
    "        if target == 0:\n",
    "            results.append(list(subset))\n",
    "        # a return condition \n",
    "        if target < 0:\n",
    "            return \n",
    " \n",
    "        for i in range(start_index, len(candidates)):\n",
    "            \n",
    "            if i != 0 and candidates[i] == candidates[i - 1] and i > start_index:\n",
    "                continue \n",
    "            \n",
    "            subset.append(candidates[i])\n",
    "            # print(subset)\n",
    "            # print('target', target - candidates[i])\n",
    "            self.dfs(candidates, i, subset, target - candidates[i], results)\n",
    "            subset.pop()\n",
    "        \n"
   ]
  },
  {
   "cell_type": "code",
   "execution_count": 165,
   "metadata": {},
   "outputs": [],
   "source": [
    "# Python 3, use dynamic target value \n",
    "# 1. result append condition \n",
    "# 2. no need to add condition 'if sum(subset) > target      return' \n",
    "class Solution:\n",
    "    \"\"\"\n",
    "    @param candidates: A list of integers\n",
    "    @param target: An integer\n",
    "    @return: A list of lists of integers\n",
    "    \"\"\"\n",
    "    def combinationSum(self, candidates, target):\n",
    "        if len(candidates) == 0 or target == 0:\n",
    "            return [] # as all numbers are positive  (if target ==0, can only be empty set)\n",
    "\n",
    "        results = []\n",
    "        # remove duplicated elements from the very beginning as the iteration in dfs function \n",
    "        # can start from the elements iteself (already allow duplication for as many times)\n",
    "        candidates = set(candidates)\n",
    "        # sort the elements in candidates \n",
    "        candidates = sorted(list(candidates))\n",
    "        \n",
    "        self.dfs(candidates, target, 0, [], results)\n",
    "        return results\n",
    "    \n",
    "    def dfs(self, candidates, target, start_index, subset,results):\n",
    "#         print('sum subset', sum(subset))\n",
    "        if target == 0:\n",
    "#             print('true')\n",
    "            # deep copy, needed!!!  \n",
    "            results.append(list(subset))\n",
    "\n",
    "            \n",
    "        for i in range(start_index, len(candidates)):\n",
    "            # stop iteration if candidates[i] itself > target, target could be < 0  \n",
    "            if candidates[i] > target:\n",
    "                return\n",
    "            subset.append(candidates[i])\n",
    "            self.dfs(candidates, target - candidates[i], i ,subset, results)  # start_index is i instead of i + 1\n",
    "            subset.pop()\n",
    "        "
   ]
  },
  {
   "cell_type": "code",
   "execution_count": 166,
   "metadata": {},
   "outputs": [
    {
     "data": {
      "text/plain": [
       "[[2, 3]]"
      ]
     },
     "execution_count": 166,
     "metadata": {},
     "output_type": "execute_result"
    }
   ],
   "source": [
    "p = Solution()\n",
    "p.combinationSum([2,2,3], 5)"
   ]
  },
  {
   "cell_type": "markdown",
   "metadata": {},
   "source": [
    "153 - Combination Sum II\n",
    "\n",
    "Given a collection of candidate numbers (`C`) and a target number (`T`), find all unique combinations in `C` where the candidate numbers sums to `T`.\n",
    "\n",
    "Each number in `C` may only be used once in the combination.\n",
    "\n",
    "All numbers (including target) will be positive integers.\n",
    "\n",
    "Elements in a combination (a1, a2, … , ak) must be in non-descending order. (ie, a1 ≤ a2 ≤ … ≤ ak).\n",
    "\n",
    "The solution set must not contain duplicate combinations.\n",
    "\n",
    "* backtracking, DFS, duplicated elements "
   ]
  },
  {
   "cell_type": "code",
   "execution_count": null,
   "metadata": {},
   "outputs": [],
   "source": [
    "Given candidate set [10,1,6,7,2,1,5] and target 8,\n",
    "\n",
    "A solution set is:\n",
    "\n",
    "[\n",
    "  [1,7],\n",
    "  [1,2,5],\n",
    "  [2,6],\n",
    "  [1,1,6]\n",
    "]"
   ]
  },
  {
   "cell_type": "code",
   "execution_count": 216,
   "metadata": {},
   "outputs": [],
   "source": [
    "# Python: \n",
    "class Solution:\n",
    "    \"\"\"\n",
    "    @param num: Given the candidate numbers\n",
    "    @param target: Given the target number\n",
    "    @return: All the combinations that sum to target\n",
    "    \"\"\"\n",
    "    def combinationSum2(self, num, target):\n",
    "        if target == 0 or len(num) == 0:\n",
    "            return []\n",
    "        \n",
    "        # sort \n",
    "        num.sort()\n",
    "        \n",
    "        results = []\n",
    "        self.dfs(num, target, 0, [], results)\n",
    "        return results\n",
    "    \n",
    "    def dfs(self, num, target, start_index, subset, results):\n",
    "        if sum(subset) == target and subset == sorted(subset):\n",
    "          #  print('results', results)\n",
    "            results.append(list(subset))\n",
    "        if sum(subset) > target:\n",
    "            return \n",
    "            \n",
    "        for i in range(start_index, len(num)):\n",
    "            if num[i] > target:\n",
    "                return\n",
    "            if i != 0 and num[i] == num[i - 1] and i > start_index:\n",
    "                continue\n",
    "            subset.append(num[i])\n",
    "            self.dfs(num, target, i + 1, subset, results)  # NOTE: it's i + 1 !!!!!\n",
    "#             print('start index', num[start_index])\n",
    "#             print('start index + 1', num[start_index + 1])\n",
    "            subset.pop()\n",
    "\n",
    "        \n",
    "   "
   ]
  },
  {
   "cell_type": "code",
   "execution_count": 217,
   "metadata": {},
   "outputs": [
    {
     "data": {
      "text/plain": [
       "[[5, 5, 5, 6, 7],\n",
       " [5, 5, 5, 13],\n",
       " [5, 5, 6, 6, 6],\n",
       " [5, 5, 6, 12],\n",
       " [5, 5, 7, 11],\n",
       " [5, 5, 9, 9],\n",
       " [5, 6, 6, 11],\n",
       " [5, 6, 17],\n",
       " [5, 7, 16],\n",
       " [5, 9, 14],\n",
       " [5, 11, 12],\n",
       " [5, 23],\n",
       " [6, 6, 7, 9],\n",
       " [6, 6, 16],\n",
       " [6, 9, 13],\n",
       " [6, 11, 11],\n",
       " [6, 22],\n",
       " [7, 9, 12],\n",
       " [7, 21],\n",
       " [9, 19],\n",
       " [11, 17],\n",
       " [12, 16],\n",
       " [14, 14],\n",
       " [28]]"
      ]
     },
     "execution_count": 217,
     "metadata": {},
     "output_type": "execute_result"
    }
   ],
   "source": [
    "p = Solution()\n",
    "p.combinationSum2([29,19,14,33,11,5,9,23,23,33,12,9,25,25,12,21,14,11,20,30,17,19,5,6,6,5,5,11,12,25,31,28,31,33,27,7,33,31,17,13,21,24,17,12,6,16,20,16,22,5], 28)"
   ]
  },
  {
   "cell_type": "markdown",
   "metadata": {},
   "source": [
    "89 - k Sum\n",
    "\n",
    "Given `n` distinct positive integers, integer `k` (`k <= n`) and a number target.\n",
    "\n",
    "Find `k` numbers where sum is target. Calculate how many solutions there are?\n",
    "\n",
    "Example: \n",
    "\n",
    "Input:\n",
    "List = [1,2,3,4]\n",
    "\n",
    "k = 2\n",
    "\n",
    "target = 5\n",
    "\n",
    "Output: 2\n",
    "\n",
    "Explanation: 1 + 4 = 2 + 3 = 5"
   ]
  },
  {
   "cell_type": "code",
   "execution_count": null,
   "metadata": {},
   "outputs": [],
   "source": [
    "# Python 1: dynamic programming \n",
    "class Solution:\n",
    "    \"\"\"\n",
    "    @param A: An integer array\n",
    "    @param k: A positive integer (k <= length(A))\n",
    "    @param target: An integer\n",
    "    @return: An integer\n",
    "    \"\"\"\n",
    "    def kSum(self, A, k, target):\n",
    "        if not A:\n",
    "            return 0 \n",
    "        n = len(A)\n",
    "        dp = [\n",
    "            [[0] * (target + 1) for _ in range(k + 1)],\n",
    "            [[0] * (target + 1) for _ in range(k + 1)],\n",
    "        ]\n",
    "        \n",
    "        # dp[i][j][s]\n",
    "        # 前 i 个数里挑出 j 个数，和为 s\n",
    "        dp[0][0][0] = 1\n",
    "        for i in range(1, n + 1):\n",
    "            dp[i % 2][0][0] = 1\n",
    "            for j in range(1, min(k + 1, i + 1)):\n",
    "                for s in range(1, target + 1):\n",
    "                    dp[i % 2][j][s] = dp[(i - 1) % 2][j][s]\n",
    "                    if s >= A[i - 1]:\n",
    "                        dp[i % 2][j][s] += dp[(i - 1) % 2][j - 1][s - A[i - 1]]\n",
    "                        \n",
    "        return dp[n % 2][k][target]\n"
   ]
  },
  {
   "cell_type": "code",
   "execution_count": null,
   "metadata": {},
   "outputs": [],
   "source": [
    "# Python 2: use count to record the number of unique combinations \n",
    "class Solution:\n",
    "    \"\"\"\n",
    "    @param A: An integer array\n",
    "    @param k: A positive integer (k <= length(A))\n",
    "    @param target: An integer\n",
    "    @return: An integer\n",
    "    \"\"\"\n",
    "    def kSum(self, A, k, target):\n",
    "        if not A:\n",
    "            return 0 \n",
    "        self.count = 0 \n",
    "        self.dfs(A, k, target, 0, [])\n",
    "        return self.count\n",
    "    \n",
    "    def dfs(self, A, k, target, start_index, subset):\n",
    "        if len(subset) == k and sum(subset) == target:\n",
    "            self.count += 1 \n",
    "        if len(subset) > k or sum(subset) > target:\n",
    "            return \n",
    "            \n",
    "        for i in range(start_index, len(A)):\n",
    "            subset.append(A[i])\n",
    "            self.dfs(A, k, target, i + 1, subset)\n",
    "            subset.pop()\n",
    "        return \n"
   ]
  },
  {
   "cell_type": "code",
   "execution_count": null,
   "metadata": {},
   "outputs": [],
   "source": [
    "# Python 3: use return a list of different combinations as well as count \n",
    "class Solution:\n",
    "    \"\"\"\n",
    "    @param A: An integer array\n",
    "    @param k: A positive integer (k <= length(A))\n",
    "    @param target: An integer\n",
    "    @return: An integer\n",
    "    \"\"\"\n",
    "    def kSum(self, A, k, target):\n",
    "        if not A:\n",
    "            return 0 \n",
    "        results = []\n",
    "        self.dfs(A, k, target, 0, [], results)\n",
    "        return len(results)\n",
    "    \n",
    "    def dfs(self, A, k, target, start_index, subset, results):\n",
    "        if len(subset) == k and sum(subset) == target:\n",
    "            results.append(list(subset))\n",
    "        if len(subset) > k or sum(subset) > target:\n",
    "            return \n",
    "            \n",
    "        for i in range(start_index, len(A)):\n",
    "            subset.append(A[i])\n",
    "            self.dfs(A, k, target, i + 1, subset, results)\n",
    "            subset.pop()\n",
    "        return \n"
   ]
  },
  {
   "cell_type": "markdown",
   "metadata": {},
   "source": [
    "90 - k Sum II\n",
    "\n",
    "Given `n` unique postive integers, number `k` (1<=k<=n) and target.\n",
    "\n",
    "Find all possible `k` integers where their sum is target."
   ]
  },
  {
   "cell_type": "code",
   "execution_count": null,
   "metadata": {},
   "outputs": [],
   "source": [
    "class Solution:\n",
    "    \"\"\"\n",
    "    @param: A: an integer array\n",
    "    @param: k: a postive integer <= length(A)\n",
    "    @param: targer: an integer\n",
    "    @return: A list of lists of integer\n",
    "    \"\"\"\n",
    "    def kSumII(self, A, k, target):\n",
    "        if not A:\n",
    "            return 0 \n",
    "        results = []\n",
    "        self.dfs(A, k, target, 0, [], results)\n",
    "        return results\n",
    "    \n",
    "    def dfs(self, A, k, target, start_index, subset, results):\n",
    "        if len(subset) == k and sum(subset) == target:\n",
    "            results.append(list(subset))\n",
    "        if len(subset) > k or sum(subset) > target:\n",
    "            return \n",
    "            \n",
    "        for i in range(start_index, len(A)):\n",
    "            subset.append(A[i])\n",
    "            self.dfs(A, k, target, i + 1, subset, results)\n",
    "            subset.pop()\n",
    "        return \n"
   ]
  },
  {
   "cell_type": "markdown",
   "metadata": {},
   "source": [
    "680 - Split String\n",
    "\n",
    "Give a string, you can choose to split the string after one character or two adjacent characters, and make the string to be composed of only one character or two characters. Output all possible results.\n",
    "\n",
    "Input: \"123\"\n",
    "\n",
    "Output: [[\"1\",\"2\",\"3\"],[\"12\",\"3\"],[\"1\",\"23\"]]\n",
    "\n",
    "* DFS\n"
   ]
  },
  {
   "cell_type": "code",
   "execution_count": 224,
   "metadata": {},
   "outputs": [],
   "source": [
    "# Python 1: naive way: at each step, decide to add the next one or two characters in to the splited list \n",
    "\n",
    "class Solution:\n",
    "    \"\"\"\n",
    "    @param: : a string to be split\n",
    "    @return: all possible split string array\n",
    "    \"\"\"\n",
    "\n",
    "    def splitString(self, s):\n",
    "        if len(s) == 0:\n",
    "            return [[]]\n",
    "        results = []\n",
    "        self.dfs(s, 0, [], results)\n",
    "        return results \n",
    "    \n",
    "    def dfs(self, s, start_index, splited_str, results):\n",
    "        # append the one splitting way to results \n",
    "        if start_index == len(s):\n",
    "            results.append(list(splited_str))\n",
    "            \n",
    "            \n",
    "        if start_index <= len(s) - 1:\n",
    "            splited_str.append(s[start_index])\n",
    "            self.dfs(s, start_index + 1, splited_str, results)\n",
    "            splited_str.pop()\n",
    "        \n",
    "        if start_index <= len(s) - 2:\n",
    "            splited_str.append(s[start_index:(start_index + 2)])\n",
    "            self.dfs(s, start_index + 2, splited_str, results)\n",
    "            splited_str.pop()\n"
   ]
  },
  {
   "cell_type": "code",
   "execution_count": 218,
   "metadata": {},
   "outputs": [
    {
     "data": {
      "text/plain": [
       "5"
      ]
     },
     "execution_count": 218,
     "metadata": {},
     "output_type": "execute_result"
    }
   ],
   "source": [
    "x = 'sleep'\n",
    "len(x)"
   ]
  },
  {
   "cell_type": "code",
   "execution_count": 226,
   "metadata": {},
   "outputs": [
    {
     "data": {
      "text/plain": [
       "[['1', '2', '3'], ['1', '23'], ['12', '3']]"
      ]
     },
     "execution_count": 226,
     "metadata": {},
     "output_type": "execute_result"
    }
   ],
   "source": [
    "p = Solution()\n",
    "p.splitString('123')"
   ]
  },
  {
   "cell_type": "code",
   "execution_count": 227,
   "metadata": {},
   "outputs": [],
   "source": [
    "# Python 2: use more compact code (with a for loop in dfs function)\n",
    "class Solution:\n",
    "    \"\"\"\n",
    "    @param: : a string to be split\n",
    "    @return: all possible split string array\n",
    "    \"\"\"\n",
    "\n",
    "    def splitString(self, s):\n",
    "        if len(s) == 0:\n",
    "            return [[]]\n",
    "        results = []\n",
    "        self.dfs(s, 0, [], results)\n",
    "        return results \n",
    "    \n",
    "    def dfs(self, s, start_index, splited_str, results):\n",
    "        # append \n",
    "        if start_index == len(s):\n",
    "            results.append(list(splited_str))\n",
    "            \n",
    "            \n",
    "        for i in range(2):\n",
    "            if start_index <= len(s) - i:\n",
    "                splited_str.append(s[start_index:(start_index + i + 1)])\n",
    "                self.dfs(s, start_index + i + 1, splited_str, results)\n",
    "                splited_str.pop()\n"
   ]
  },
  {
   "cell_type": "markdown",
   "metadata": {},
   "source": [
    "136 - Palindrome Partitioning\n",
    "\n",
    "Given a string s, partition s such that every substring of the partition is a palindrome.\n",
    "\n",
    "Return all possible palindrome partitioning of s.\n",
    "\n",
    "Example: \n",
    "    \n",
    "Given s = \"aab\", return:\n",
    "\n",
    "[\n",
    "  [\"aa\",\"b\"],\n",
    "  [\"a\",\"a\",\"b\"]\n",
    "]\n",
    "\n",
    "* DFS, backtracking "
   ]
  },
  {
   "cell_type": "markdown",
   "metadata": {},
   "source": [
    "搜索的时间复杂度：O(答案总数 * 构造每个答案的时间)\n",
    "\n",
    "举例：Subsets问题，求所有的子集。子集个数一共 2^n，每个集合的平均长度是 O(n) 的，所以时间复杂度为 O(n * 2^n)，同理 Permutations 问题的时间复杂度为：O(n * n!)\n",
    "\n",
    "动态规划的时间复杂度：O(状态总数 * 计算每个状态的时间复杂度)\n",
    "\n",
    "举例：triangle，数字三角形的最短路径，状态总数约 O(n^2) 个，计算每个状态的时间复杂度为 O(1)——就是求一下 min。所以总的时间复杂度为 O(n^2)\n",
    "\n",
    "用分治法解决二叉树问题的时间复杂度：O(二叉树节点个数 * 每个节点的计算时间)\n",
    "\n",
    "举例：二叉树最大深度。二叉树节点个数为 N，每个节点上的计算时间为 O(1)。总的时间复杂度为 O(N)\n",
    "\n",
    "https://www.jiuzhang.com/qa/2994/\n"
   ]
  },
  {
   "cell_type": "code",
   "execution_count": 242,
   "metadata": {},
   "outputs": [],
   "source": [
    "# dfs \n",
    "class Solution:\n",
    "    \"\"\"\n",
    "    @param: s: A string\n",
    "    @return: A list of lists of string\n",
    "    \"\"\"\n",
    "    def partition(self, s):\n",
    "        if not s:\n",
    "            return [[]]\n",
    "        results = []\n",
    "        self.dfs(s, 0, [], results)\n",
    "        return results \n",
    "        \n",
    "        \n",
    "    def dfs(self, s, start_index, sub_str, results):\n",
    "        # start_index indicates the current pointer position, if already iterated on all characters, return \n",
    "        if start_index == len(s):\n",
    "            results.append(sub_str[:])\n",
    "        \n",
    "        for i in range(len(s) - start_index):\n",
    "            new_str = s[start_index:(start_index + i + 1)]\n",
    "            # first tell if the new sub_str is palindrome, if yes, append it to continue to search\n",
    "            if self.is_palindrome(new_str):\n",
    "                sub_str.append(new_str)\n",
    "                self.dfs(s, start_index + i + 1, sub_str, results)\n",
    "                sub_str.pop()\n",
    "                \n",
    "    def is_palindrome(self, s):\n",
    "        if len(s) == 1:\n",
    "            return True \n",
    "        left, right = 0, len(s) - 1\n",
    "        while left < right:\n",
    "            if s[left] != s[right]:\n",
    "                return False \n",
    "            left += 1 \n",
    "            right -= 1 \n",
    "        return True \n",
    "    "
   ]
  },
  {
   "cell_type": "code",
   "execution_count": 244,
   "metadata": {},
   "outputs": [
    {
     "data": {
      "text/plain": [
       "[['a']]"
      ]
     },
     "execution_count": 244,
     "metadata": {},
     "output_type": "execute_result"
    }
   ],
   "source": [
    "p = Solution()\n",
    "p.partition('a')"
   ]
  },
  {
   "cell_type": "markdown",
   "metadata": {},
   "source": [
    "108 - Palindrome Partitioning II\n",
    "\n",
    "Given a string s, cut s into some substrings such that every substring is a palindrome.\n",
    "\n",
    "Return the minimum cuts needed for a palindrome partitioning of s.\n",
    "\n",
    "Example:\n",
    "    \n",
    "Input: \"aab\"\n",
    "    \n",
    "Output: 1\n",
    "    \n",
    "Explanation: Split \"aab\" once, into \"aa\" and \"b\", both palindrome."
   ]
  },
  {
   "cell_type": "code",
   "execution_count": null,
   "metadata": {},
   "outputs": [],
   "source": [
    "# Python: from tail to head, with i < j, first tell the cuts needed of string s[j:], \n",
    "# then tell if s[i:j+1] is palindrome or not, use this info to update cuts[i] (cuts\n",
    "# needed for string s[i:])\n",
    "class Solution:\n",
    "    \"\"\"\n",
    "    @param s: A string\n",
    "    @return: An integer\n",
    "    \"\"\"\n",
    "    def minCut(self, s):\n",
    "        n = len(s)\n",
    "        \n",
    "        cuts = []\n",
    "        table = [[False for x in range(n)] for x in range(n)]\n",
    "        \n",
    "        # initialize cuts \n",
    "        for i in range(n + 1):\n",
    "            cuts.append(n - 1 - i)\n",
    "        \n",
    "        # update table[i][j] if s[i:(j + 1)] is palindrome \n",
    "        for i in reversed(range(n)):\n",
    "            for j in range(i, n):\n",
    "                # s[i:j+1] is palindrome if s[(i+1):(j)] is palindrom and s[i] == s[j] or \n",
    "                # j - i = 0 , 1 so at most one character between i and j \n",
    "                if s[i] == s[j] and (j - i < 2 or table[i + 1][j - 1]):\n",
    "                    table[i][j] = True \n",
    "                    cuts[i] = min(cuts[i], cuts[j + 1] + 1)\n",
    "        return cuts[0]\n",
    "\n",
    "        \n",
    "        \n"
   ]
  },
  {
   "cell_type": "markdown",
   "metadata": {},
   "source": [
    "192 - Wildcard Matching\n",
    "\n",
    "Implement wildcard pattern matching with support for '?' and '*'.\n",
    "\n",
    "`'?'` Matches any single character.\n",
    "\n",
    "`'*'` Matches any sequence of characters (including the empty sequence).\n",
    "\n",
    "The matching should cover the entire input string (not partial).\n",
    "\n",
    "Examples: \n",
    "    \n",
    "isMatch(\"aa\",\"a\") → false\n",
    "\n",
    "isMatch(\"aa\",\"aa\") → true\n",
    "\n",
    "isMatch(\"aaa\",\"aa\") → false\n",
    "\n",
    "isMatch(\"aa\", \"*\") → true\n",
    "\n",
    "isMatch(\"aa\", \"a*\") → true\n",
    "\n",
    "isMatch(\"ab\", \"?*\") → true\n",
    "\n",
    "isMatch(\"aab\", \"c*a*b\") → false\n",
    "\n",
    "\n",
    "* Backtracking, dynamic programming, DFS, memoization search\n"
   ]
  },
  {
   "cell_type": "code",
   "execution_count": null,
   "metadata": {},
   "outputs": [],
   "source": [
    "# Python 1: DFS, O(n^2)  \n",
    "class Solution:\n",
    "    \"\"\"\n",
    "    @param s: A string \n",
    "    @param p: A string includes \"?\" and \"*\"\n",
    "    @return: is Match?\n",
    "    \"\"\"\n",
    "    def isMatch(self, source, pattern):\n",
    "        return self.is_match_helper(source, 0, pattern, 0, {})\n",
    "    \n",
    "    def is_match_helper(self, source, i, pattern, j, memo):\n",
    "        # memoization\n",
    "        if (i, j) in memo:\n",
    "            return memo[(i, j)]\n",
    "        \n",
    "        # if  source is empty\n",
    "        if len(source) == i:\n",
    "            # every character in pattern should be \"*\"\n",
    "            for index in range(j, len(pattern)):\n",
    "                if pattern[index] != '*':\n",
    "                    return False\n",
    "            return True\n",
    "        \n",
    "        # length of two strings not the same, cannot be matched \n",
    "        if len(pattern) == j:\n",
    "            return False\n",
    "        \n",
    "        # discuss two cases: if pattern[j] is * or not \n",
    "        if pattern[j] != '*':\n",
    "            # the current character matches and the following characters match\n",
    "            matched = self.is_match_char(source[i], pattern[j]) and \n",
    "            self.is_match_helper(source, i + 1, pattern, j + 1, memo)\n",
    "        else: \n",
    "            # * matches one character of source or an empty character \n",
    "            matched = self.is_match_helper(source, i + 1, pattern, j, memo) or \n",
    "            self.is_match_helper(source, i, pattern, j + 1, memo)\n",
    "        # update memo[(i, j)]\n",
    "        memo[(i, j)] = matched \n",
    "        return matched \n",
    "    \n",
    "    def is_match_char(self, s, p):\n",
    "        return s == p or p == '?'  # deal with the ? case here "
   ]
  },
  {
   "cell_type": "code",
   "execution_count": null,
   "metadata": {},
   "outputs": [],
   "source": [
    "# Python 2: dynamic programming \n",
    "class Solution:\n",
    "    \"\"\"\n",
    "    @param s: A string\n",
    "    @param p: A string includes \"?\" and \"*\"\n",
    "    @return: A boolean\n",
    "    \"\"\"\n",
    "    def isMatch(self, s, p):\n",
    "        n = len(s)\n",
    "        m = len(p)\n",
    "        # f is (n + 1) lists of [False, False ..., False] of length (m + 1)\n",
    "        f = [[False] * (m + 1) for i in range(n + 1)]\n",
    "        \n",
    "        # initialize f[0][0] as True \n",
    "        f[0][0] = True\n",
    "        \n",
    "        # if source is empty, pattern contains only *\n",
    "        if n == 0 and p.count('*') == m:\n",
    "            return True\n",
    "        \n",
    "        # loop over all elements  \n",
    "        for i in range(0, n + 1):\n",
    "            for j in range(0, m + 1):\n",
    "                if i > 0 and j > 0:\n",
    "                    f[i][j] |= f[i-1][j-1] and (s[i-1] == p[j-1] or p[j - 1] in ['?', '*'])\n",
    "\n",
    "                if i > 0 and j > 0:\n",
    "                    f[i][j] |= f[i - 1][j] and p[j - 1] == '*'\n",
    "                    \n",
    "                # i = 0, j > 0, f[i][j] is initialized as False for any i, j except i = 0, j= 0 \n",
    "                if j > 0:\n",
    "                    f[i][j] |= f[i][j - 1] and p[j - 1] == '*'\n",
    "\n",
    "\n",
    "        return f[n][m]"
   ]
  },
  {
   "cell_type": "code",
   "execution_count": 246,
   "metadata": {},
   "outputs": [
    {
     "data": {
      "text/plain": [
       "[[False, False], [False, False], [False, False]]"
      ]
     },
     "execution_count": 246,
     "metadata": {},
     "output_type": "execute_result"
    }
   ],
   "source": [
    "[[False] * (1 + 1) for i in range(2 + 1)]"
   ]
  },
  {
   "cell_type": "markdown",
   "metadata": {},
   "source": [
    "154 -  Regular Expression Matching\n",
    "\n",
    "Implement regular expression matching with support for '.' and '*'.\n",
    "\n",
    "'.' Matches any single character.\n",
    "\n",
    "'*' Matches zero or more of the preceding element.\n",
    "\n",
    "The matching should cover the entire input string (not partial).\n",
    "\n",
    "\n",
    "The function prototype should be:\n",
    "\n",
    "`bool isMatch(string s, string p)`\n",
    "\n",
    "Examples: \n",
    "\n",
    "isMatch(\"aa\",\"a\") → false\n",
    "\n",
    "isMatch(\"aa\",\"aa\") → true\n",
    "\n",
    "isMatch(\"aaa\",\"aa\") → false\n",
    "\n",
    "isMatch(\"aa\", \"a*\") → true\n",
    "\n",
    "isMatch(\"aa\", \".*\") → true\n",
    "\n",
    "isMatch(\"ab\", \".*\") → true\n",
    "\n",
    "isMatch(\"aab\", \"c*a*b\") → true"
   ]
  },
  {
   "cell_type": "code",
   "execution_count": 249,
   "metadata": {},
   "outputs": [
    {
     "data": {
      "text/plain": [
       "False"
      ]
     },
     "execution_count": 249,
     "metadata": {},
     "output_type": "execute_result"
    }
   ],
   "source": [
    "f = False\n",
    "f |= True and False\n",
    "f"
   ]
  },
  {
   "cell_type": "markdown",
   "metadata": {},
   "source": [
    "582 - Word Break II\n",
    "\n",
    "\n",
    "Given a string `s` and a dictionary of words `dict`, add spaces in `s` to construct a sentence where each word is a valid dictionary word.\n",
    "\n",
    "Return all such possible sentences.\n",
    "\n",
    "Example\n",
    "\n",
    "Gieve s = leetcode,\n",
    "\n",
    "dict = [\"de\", \"ding\", \"co\", \"code\", \"leet\"].\n",
    "\n",
    "A solution is [\"leet code\", \"leet co de\"].\n"
   ]
  },
  {
   "cell_type": "code",
   "execution_count": 1,
   "metadata": {},
   "outputs": [],
   "source": [
    "class Solution:\n",
    "    \"\"\"\n",
    "    @param: s: A string\n",
    "    @param: wordDict: A set of words.\n",
    "    @return: All possible sentences.\n",
    "    \"\"\"\n",
    "    def wordBreak(self, s, wordDict):\n",
    "        if len(s) == 0:\n",
    "            return []\n",
    "        if len(wordDict) ==0 :\n",
    "            return []\n",
    "        \n",
    "        return self.dfs(s, wordDict, {})\n",
    "    \n",
    "    def dfs(self, s, wordDict, memo):\n",
    "        # if the partition of s has been computed before, pull the results directly\n",
    "        if s in memo:\n",
    "            return memo[s]\n",
    "            \n",
    "        partitions = []\n",
    "        \n",
    "        # split s \n",
    "        for i in range(0, len(s) - 1):\n",
    "            prefix = s[:(i + 1)]\n",
    "            if prefix not in wordDict:\n",
    "                continue\n",
    "            # partition the rest of the string \n",
    "            sub_partitions = self.dfs(s[(i + 1):], wordDict, memo)\n",
    "            # add the partitions of the rest of string \n",
    "            for partition in sub_partitions:\n",
    "                partitions.append(prefix + \" \" + partition)\n",
    "        # case when s itself is in the dictionary        \n",
    "        if s in wordDict:\n",
    "            partitions.append(s)\n",
    "            \n",
    "        memo[s] = partitions\n",
    "        return partitions"
   ]
  },
  {
   "cell_type": "code",
   "execution_count": 3,
   "metadata": {},
   "outputs": [
    {
     "data": {
      "text/plain": [
       "['leet co de', 'leet code', 'leetcode']"
      ]
     },
     "execution_count": 3,
     "metadata": {},
     "output_type": "execute_result"
    }
   ],
   "source": [
    "Solution().wordBreak('leetcode',  [\"de\", \"ding\", \"co\", \"code\", \"leet\", 'leetcode'])"
   ]
  },
  {
   "cell_type": "code",
   "execution_count": 6,
   "metadata": {},
   "outputs": [
    {
     "data": {
      "text/plain": [
       "False"
      ]
     },
     "execution_count": 6,
     "metadata": {},
     "output_type": "execute_result"
    }
   ],
   "source": [
    "a = [\"\"]\n",
    "len(a)\n",
    "a == ''"
   ]
  },
  {
   "cell_type": "markdown",
   "metadata": {},
   "source": [
    "652 -  Factorization\n",
    "\n",
    "A non-negative numbers can be regarded as product of its factors.\n",
    "\n",
    "Write a function that takes an integer `n` and return all possible combinations of its factors.\n",
    "\n",
    "Elements in a combination `(a1, a2, … , ak)` must be in non-descending order. (ie, a1 ≤ a2 ≤ … ≤ ak).\n",
    "The solution set must not contain duplicate combination.\n",
    "\n",
    "Example: \n",
    "\n",
    "Input: 8\n",
    "\n",
    "Output: [[2,2,2],[2,4]]\n",
    "\n",
    "Explanation:\n",
    "\n",
    "8 = 2 x 2 x 2 = 2 x 4"
   ]
  },
  {
   "cell_type": "code",
   "execution_count": null,
   "metadata": {},
   "outputs": [],
   "source": [
    "class Solution:\n",
    "    \"\"\"\n",
    "    @param n: An integer\n",
    "    @return: a list of combination\n",
    "    \"\"\"\n",
    "    def getFactors(self, n):\n",
    "        if n <= 1:\n",
    "            return n \n",
    "        results = []\n",
    "        self.dfs(2, n, [], results)\n",
    "        return results \n",
    "        \n",
    "    def dfs(self, start, remain, factors, results):\n",
    "        # return when remain == 1 and factors list includes multiple values (not n itself) \n",
    "        if remain == 1 and len(factors) > 1:\n",
    "            results.append(list(factors))\n",
    "         \n",
    "        \n",
    "        for i in range(start, remain):\n",
    "            # iterate up to i**2 <= remain to make sure the list is ascending order \n",
    "            if i > remain / i:\n",
    "                break\n",
    "            if remain % i == 0:\n",
    "                factors.append(i)\n",
    "                self.dfs(i, remain // i, factors, results)\n",
    "                factors.pop()\n",
    "        # e.g., n = 8 --> dfs(2, 8) --> dfs(2, 4) --> dfs(2, 2), start == remain, but was excluded  from for loop\n",
    "        # e.g., n = 8 --> dfs(2, 8) --> dfs(2, 4) --> [2, 4]\n",
    "        if remain >= start:\n",
    "            factors.append(remain)\n",
    "            self.dfs(remain, 1, factors, results)\n",
    "            factors.pop()\n",
    "            "
   ]
  },
  {
   "cell_type": "markdown",
   "metadata": {},
   "source": [
    "427 - Generate Parentheses\n",
    "\n",
    "Given `n`, and there are `n` pairs of parentheses, write a function to generate all combinations of well-formed parentheses.\n",
    "\n",
    "Example: \n",
    "\n",
    "Input: 3\n",
    "\n",
    "Output: [\"((()))\", \"(()())\", \"(())()\", \"()(())\", \"()()()\"]"
   ]
  },
  {
   "cell_type": "code",
   "execution_count": null,
   "metadata": {},
   "outputs": [],
   "source": [
    "# Python 1: use dfs \n",
    "class Solution:\n",
    "    \"\"\"\n",
    "    @param n: n pairs\n",
    "    @return: All combinations of well-formed parentheses\n",
    "    \"\"\"\n",
    "    def generateParenthesis(self, n):\n",
    "        if not n or n == 0:\n",
    "            return []\n",
    "        results = []\n",
    "        self.dfs(n, [], results)\n",
    "        return results \n",
    "    \n",
    "    def dfs(self, n, subset, results):\n",
    "        \n",
    "        # number of left parentheses \n",
    "        left_num = sum([x == \"(\" for x in subset])\n",
    "        \n",
    "        # append to results if its a valid combination \n",
    "        if len(subset) == n * 2 and left_num == n:\n",
    "            results.append(\"\".join(subset))\n",
    "         \n",
    "        # invalid combination: # of left parentheses < # of right parentheses \n",
    "        if left_num < len(subset) - left_num:\n",
    "            return \n",
    "        \n",
    "        \n",
    "        # number of left parentheses should be smaller than n \n",
    "        if left_num <= n:\n",
    "            subset.append(\"(\")\n",
    "            self.dfs(n, subset, results)\n",
    "            subset.pop()\n",
    "        \n",
    "        # number of right parentheses should be smaller than n \n",
    "        if len(subset) - left_num <= n:\n",
    "            subset.append(\")\")\n",
    "            self.dfs(n, subset, results)\n",
    "            subset.pop()\n",
    "    "
   ]
  },
  {
   "cell_type": "code",
   "execution_count": null,
   "metadata": {},
   "outputs": [],
   "source": [
    "# Python 2: dfs in another way \n",
    "class Solution:\n",
    "    # @param an integer\n",
    "    # @return a list of string\n",
    "    # @draw a decision tree when n == 2, and you can understand it!\n",
    "    def generateParenthesis(self, n):\n",
    "        if n == 0:\n",
    "            return []\n",
    "        \n",
    "        results = []\n",
    "        self.dfs(n , n, \"\", results)\n",
    "        return results \n",
    "    \n",
    "    def dfs(self, left_num_need, right_num_need, subset, results):\n",
    "        if left_num_need > right_num_need:\n",
    "            return \n",
    "            \n",
    "        if left_num_need == 0 and right_num_need == 0:\n",
    "            results.append(str(subset))\n",
    "        \n",
    "        if left_num_need > 0:\n",
    "            self.dfs(left_num_need - 1, right_num_need, subset + \"(\", results)\n",
    "            \n",
    "        if right_num_need > 0:\n",
    "            self.dfs(left_num_need, right_num_need - 1, subset + \")\", results)\n",
    "        "
   ]
  },
  {
   "cell_type": "markdown",
   "metadata": {},
   "source": [
    "780 - Remove Invalid Parentheses\n",
    "\n",
    "Remove the minimum number of invalid parentheses in order to make the input string valid. Return all possible results.\n",
    "\n",
    "The input string may contain letters other than the parentheses ( and ).\n",
    "\n",
    "\n",
    "Example: \n",
    "\n",
    "Input:\n",
    "\"(a)())()\"\n",
    "\n",
    "Output:\n",
    " [\"(a)()()\", \"(a())()\"]\n",
    " \n",
    " Input:\n",
    "\")(\" \n",
    "\n",
    "Output:\n",
    " [\"\"]"
   ]
  },
  {
   "cell_type": "code",
   "execution_count": null,
   "metadata": {},
   "outputs": [],
   "source": [
    "class Solution:\n",
    "    def removeInvalidParentheses(self, s):\n",
    "        results = []\n",
    "        left, right = self.removed_counts(s)\n",
    "        self.dfs(s, left, right, 0, results)\n",
    "        return results\n",
    "        \n",
    "        \n",
    "    \n",
    "    def dfs(self, s, left, right, start, results):\n",
    "        if left == 0 and right == 0 and self.is_valid(s):\n",
    "            results.append(s)\n",
    "            return\n",
    "        \n",
    "        for i in range(start, len(s)):\n",
    "            # remove duplicates \n",
    "            if i > start and s[i] == s[i-1]:\n",
    "                continue\n",
    "            # remove illegal left parentheses \n",
    "            if s[i] == '(' and left > 0:\n",
    "                self.dfs(s[ :i]+s[i + 1: ], left - 1, right, i, results)\n",
    "            # remove illegal right parantheses \n",
    "            if s[i] == ')' and right > 0:\n",
    "                self.dfs(s[ :i]+s[i + 1:], left, right - 1, i, results)\n",
    "            # if s[i] is neither \"(\" nor \")\", jump to the next i loop \n",
    "                \n",
    "    # tell if all parentheses are legal \n",
    "    def is_valid(self, s):\n",
    "        left, right = self.removed_counts(s)\n",
    "        return left == 0 and right == 0 \n",
    "    \n",
    "    # count how many illegal left/right parentheses \n",
    "    # eg. ')(', illegal left and right parentheses are 1, 1 \n",
    "    def removed_counts(self, s):\n",
    "        left, right = 0, 0 \n",
    "        for char in s:\n",
    "            if char == \"(\":\n",
    "                left += 1 \n",
    "            if char == \")\":\n",
    "                if left > 0:\n",
    "                    left -= 1 \n",
    "                else:\n",
    "                    right += 1 \n",
    "        return left, right "
   ]
  }
 ],
 "metadata": {
  "kernelspec": {
   "display_name": "Python 3",
   "language": "python",
   "name": "python3"
  },
  "language_info": {
   "codemirror_mode": {
    "name": "ipython",
    "version": 3
   },
   "file_extension": ".py",
   "mimetype": "text/x-python",
   "name": "python",
   "nbconvert_exporter": "python",
   "pygments_lexer": "ipython3",
   "version": "3.6.7"
  }
 },
 "nbformat": 4,
 "nbformat_minor": 2
}
