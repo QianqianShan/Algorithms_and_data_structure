{
 "cells": [
  {
   "cell_type": "markdown",
   "metadata": {},
   "source": [
    "190 - Next Permutation II\n",
    "\n",
    "\n",
    "Implement next permutation, which rearranges numbers into the lexicographically next greater permutation of numbers.\n",
    "\n",
    "If such arrangement is not possible, it must rearrange it as the lowest possible order (ie, sorted in ascending order).\n",
    "\n",
    "\n",
    "Input:1,2,3\n",
    "    \n",
    "Output:1,3,2\n",
    "\n",
    "See https://en.wikipedia.org/wiki/Lexicographical_order and https://baike.baidu.com/item/%E5%AD%97%E5%85%B8%E5%BA%8F. \n",
    "\n",
    "\n",
    "* Permutation, DFS"
   ]
  },
  {
   "cell_type": "code",
   "execution_count": 296,
   "metadata": {},
   "outputs": [],
   "source": [
    "class Solution:\n",
    "    \"\"\"\n",
    "    @param nums: An array of integers\n",
    "    @return: nothing\n",
    "    \"\"\"\n",
    "    def nextPermutation(self, nums):\n",
    "        n = len(nums)\n",
    "        \n",
    "        if n <= 1:\n",
    "            return nums \n",
    "        \n",
    "        # from right to left of nums array, find the last element that is bigger than its left neighbor \n",
    "        i = n - 1\n",
    "        while i > 0 and nums[i] <= nums[i - 1]:\n",
    "            i -= 1 \n",
    "        print('i', i)\n",
    "        # from right to left, find the first element that is bigger than nums[i-1]\n",
    "        if i > 0: \n",
    "            j = n - 1\n",
    "            while nums[j] <= nums[i - 1]:\n",
    "                j -= 1\n",
    "            nums[i - 1], nums[j] = nums[j], nums[i - 1]\n",
    "        # reverse the array segment after right position \n",
    "        self.swap(nums, i , n - 1)\n",
    "        \n",
    "        return nums \n",
    "        \n",
    "    def swap(self, nums, left, right):\n",
    "        while left < right:\n",
    "            nums[left], nums[right] = nums[right], nums[left]\n",
    "            left += 1\n",
    "            right -= 1 \n",
    "            \n",
    "        \n",
    "        \n"
   ]
  },
  {
   "cell_type": "code",
   "execution_count": 299,
   "metadata": {},
   "outputs": [
    {
     "name": "stdout",
     "output_type": "stream",
     "text": [
      "i 1\n"
     ]
    },
    {
     "data": {
      "text/plain": [
       "[2, 1, 3]"
      ]
     },
     "execution_count": 299,
     "metadata": {},
     "output_type": "execute_result"
    }
   ],
   "source": [
    "p = Solution()\n",
    "p.nextPermutation([1, 3, 2])"
   ]
  },
  {
   "cell_type": "markdown",
   "metadata": {},
   "source": [
    "15 - Permutations\n",
    "\n",
    "Given a list of numbers, return all possible permutations.\n",
    "\n",
    "You can assume that there is no duplicate numbers in the list.\n",
    "\n",
    "* Permutation, DFS"
   ]
  },
  {
   "cell_type": "code",
   "execution_count": 306,
   "metadata": {},
   "outputs": [],
   "source": [
    "class Solution:\n",
    "    \"\"\"\n",
    "    @param: nums: A list of integers.\n",
    "    @return: A list of permutations.\n",
    "    \"\"\"\n",
    "    def permute(self, nums):\n",
    "        results = []\n",
    "        if nums is None:\n",
    "            return results \n",
    "        \n",
    "        self.dfs(nums, [False]*len(nums), [], results)\n",
    "        return results \n",
    "    \n",
    "    \n",
    "    def dfs(self, nums, visited, permutation, results):\n",
    "        # append \n",
    "        if (len(permutation) == len(nums)):\n",
    "            results.append(list(permutation))\n",
    "            \n",
    "        # recursion \n",
    "        for i in range(len(nums)):\n",
    "            if visited[i]:\n",
    "                continue \n",
    "            permutation.append(nums[i])\n",
    "            visited[i] = True \n",
    "            self.dfs(nums, visited, permutation, results)\n",
    "            visited[i] = False \n",
    "            permutation.pop()\n"
   ]
  },
  {
   "cell_type": "code",
   "execution_count": 307,
   "metadata": {},
   "outputs": [
    {
     "data": {
      "text/plain": [
       "[[1, 3, 2], [1, 2, 3], [3, 1, 2], [3, 2, 1], [2, 1, 3], [2, 3, 1]]"
      ]
     },
     "execution_count": 307,
     "metadata": {},
     "output_type": "execute_result"
    }
   ],
   "source": [
    "p = Solution()\n",
    "p.permute([1, 3, 2])"
   ]
  },
  {
   "cell_type": "markdown",
   "metadata": {},
   "source": [
    "16 - Permutations II\n",
    "\n",
    "Given a list of numbers with duplicate number in it. Find all unique permutations.\n",
    "\n",
    "Input: [1,2,2]\n",
    "    \n",
    "Output:\n",
    "[\n",
    "  [1,2,2],\n",
    "  [2,1,2],\n",
    "  [2,2,1]\n",
    "]\n",
    "\n",
    "\n",
    "* DFS, recursion"
   ]
  },
  {
   "cell_type": "code",
   "execution_count": 309,
   "metadata": {},
   "outputs": [],
   "source": [
    "class Solution:\n",
    "    \"\"\"\n",
    "    @param: nums: A list of integers.\n",
    "    @return: A list of permutations.\n",
    "    \"\"\"\n",
    "    def permuteUnique(self, nums):\n",
    "        results = []\n",
    "        if nums is None:\n",
    "            return results \n",
    "        # sort nums so the duplicated numbers (if any) are together\n",
    "        nums.sort()\n",
    "        # dfs \n",
    "        self.dfs(nums, [False]*len(nums), [], results)\n",
    "        return results \n",
    "    \n",
    "    \n",
    "    def dfs(self, nums, visited, permutation, results):\n",
    "        # append \n",
    "        if (len(permutation) == len(nums)):\n",
    "            results.append(list(permutation))\n",
    "            \n",
    "        # recursion \n",
    "        for i in range(len(nums)):\n",
    "            if visited[i]:\n",
    "                continue \n",
    "            # remove duplicates     \n",
    "            if i > 0 and nums[i] == nums[i - 1] and not visited[i - 1]: \n",
    "                continue\n",
    "            permutation.append(nums[i])\n",
    "            visited[i] = True \n",
    "            self.dfs(nums, visited, permutation, results)\n",
    "            visited[i] = False \n",
    "            permutation.pop()"
   ]
  },
  {
   "cell_type": "markdown",
   "metadata": {},
   "source": [
    "10 - String Permutation II\n",
    "\n",
    "Given a string, find all permutations of it without duplicates.\n",
    "\n",
    "* Permutation, DFS"
   ]
  },
  {
   "cell_type": "code",
   "execution_count": 12,
   "metadata": {},
   "outputs": [],
   "source": [
    "class Solution:\n",
    "    \"\"\"\n",
    "    @param str: A string\n",
    "    @return: all permutations\n",
    "    \"\"\"\n",
    "    def stringPermutation2(self, str):\n",
    "        if str is None:\n",
    "            return [[]]\n",
    "        results = []\n",
    "        str = sorted(list(str))\n",
    "        print(str)\n",
    "        self.dfs(str, [False] * len(str), [], results)\n",
    "        return results \n",
    "\n",
    "    def dfs(self, str, visited, permutation, results):\n",
    "        if len(permutation) == len(str):\n",
    "            results.append(''.join(permutation))\n",
    "            \n",
    "        # recursion \n",
    "        for i in range(len(str)):\n",
    "            if visited[i]:\n",
    "                continue \n",
    "            # remove duplicates \n",
    "            if (i > 0 and str[i] == str[i - 1] and not visited[i - 1]):\n",
    "                continue \n",
    "            permutation.append(str[i])\n",
    "            visited[i] = True \n",
    "            self.dfs(str, visited, permutation, results)\n",
    "            visited[i] = False \n",
    "            permutation.pop()\n",
    "            \n"
   ]
  },
  {
   "cell_type": "code",
   "execution_count": 13,
   "metadata": {},
   "outputs": [
    {
     "name": "stdout",
     "output_type": "stream",
     "text": [
      "['a', 'a', 'b', 'b']\n"
     ]
    },
    {
     "data": {
      "text/plain": [
       "['aabb', 'abab', 'abba', 'baab', 'baba', 'bbaa']"
      ]
     },
     "execution_count": 13,
     "metadata": {},
     "output_type": "execute_result"
    }
   ],
   "source": [
    "p = Solution()\n",
    "p.stringPermutation2('abab')"
   ]
  },
  {
   "cell_type": "markdown",
   "metadata": {},
   "source": [
    "425 - Letter Combinations of a Phone Number\n",
    "\n",
    "Given a digit string excluded '0' and '1', return all possible letter combinations that the number could represent.\n",
    "\n",
    "A mapping of digit to letters (just like on the telephone buttons) is given below.\n",
    "\n",
    "| 1 | 2 | 3 |\n",
    "|---|---|---|\n",
    "|---|ABC|DEF|\n",
    "| 4 | 5 | 6 |\n",
    "|GHI|JKL|MNO|\n",
    "| 7| 8 | 9 |\n",
    "|PQRS|TUV|WXYZ|\n",
    "\n",
    "\n",
    "Example: \n",
    "\n",
    "Input: \"23\"\n",
    "\n",
    "Output: [\"ad\", \"ae\", \"af\", \"bd\", \"be\", \"bf\", \"cd\", \"ce\", \"cf\"]\n",
    "\n",
    "\n",
    "* Backtracking, recursion"
   ]
  },
  {
   "cell_type": "code",
   "execution_count": 41,
   "metadata": {},
   "outputs": [],
   "source": [
    "letters_dict = {\n",
    "    '2':['a', 'b', 'c'], \n",
    "    '3':['d', 'e', 'f'],\n",
    "    '4':['g', 'h', 'i'],\n",
    "    '5':['j', 'k', 'l'],\n",
    "    '6':['m', 'n', 'o'],\n",
    "    '7':['p', 'q', 'r', 's'],\n",
    "    '8':['t', 'u', 'v'],\n",
    "    '9':['w', 'x','y','z']\n",
    "}\n",
    "\n",
    "class Solution:\n",
    "    \"\"\"\n",
    "    @param digits: A digital string\n",
    "    @return: all posible letter combinations\n",
    "    \"\"\"\n",
    "    def letterCombinations(self, digits):\n",
    "        if digits is None or len(digits) == 0:\n",
    "            return []\n",
    "        \n",
    "        results = []\n",
    "        self.dfs(digits, 0, \"\", results)\n",
    "        return results \n",
    "    \n",
    "    \n",
    "    def dfs(self, digits, index, permutation, results):\n",
    "        # append \n",
    "        if index == len(digits):\n",
    "            results.append(''.join(permutation))\n",
    "            return  # avoid unlimited running time \n",
    "        \n",
    "        \n",
    "        for letters in (letters_dict[digits[index]]):\n",
    "                # string can not use append, use + \n",
    "            self.dfs(digits, index + 1, permutation + letters, results)\n",
    "                \n",
    "    \n"
   ]
  },
  {
   "cell_type": "code",
   "execution_count": 42,
   "metadata": {},
   "outputs": [
    {
     "data": {
      "text/plain": [
       "['ad', 'ae', 'af', 'bd', 'be', 'bf', 'cd', 'ce', 'cf']"
      ]
     },
     "execution_count": 42,
     "metadata": {},
     "output_type": "execute_result"
    }
   ],
   "source": [
    "p = Solution()\n",
    "p.letterCombinations('23')"
   ]
  },
  {
   "cell_type": "markdown",
   "metadata": {},
   "source": [
    "33 - N-Queens\n",
    "\n",
    "The n-queens puzzle is the problem of placing `n` queens on an `n×n` chessboard such that no two queens attack each other.\n",
    "\n",
    "Given an integer `n`, return all distinct solutions to the n-queens puzzle.\n",
    "\n",
    "Each solution contains a distinct board configuration of the n-queens' placement, where 'Q' and '.'  indicate a queen and an empty space respectively."
   ]
  },
  {
   "cell_type": "code",
   "execution_count": null,
   "metadata": {},
   "outputs": [],
   "source": [
    "Input:4\n",
    "Output:\n",
    "[\n",
    "  // Solution 1\n",
    "  [\".Q..\",\n",
    "   \"...Q\",\n",
    "   \"Q...\",\n",
    "   \"..Q.\"\n",
    "  ],\n",
    "  // Solution 2\n",
    "  [\"..Q.\",\n",
    "   \"Q...\",\n",
    "   \"...Q\",\n",
    "   \".Q..\"\n",
    "  ]\n",
    "]\n"
   ]
  },
  {
   "cell_type": "code",
   "execution_count": 89,
   "metadata": {},
   "outputs": [],
   "source": [
    "# Python \n",
    "class Solution:\n",
    "    \"\"\"\n",
    "    @param: n: The number of queens\n",
    "    @return: All distinct solutions\n",
    "    \"\"\"\n",
    "    def solveNQueens(self, n):\n",
    "        if n is None:\n",
    "            return []\n",
    "        \n",
    "        results = []\n",
    "        self.search(n, [], results)\n",
    "        return results \n",
    "    \n",
    "    # locations = 1, 3, 2, 4 means that the queen is at the col 1 in first row, col 3 in second row ... \n",
    "    def search(self, n, locations, results):\n",
    "        row = len(locations)\n",
    "        # if the n-th queen location has been found \n",
    "        if row == n:\n",
    "#             print('results', locations)\n",
    "            results.append(self.draw_board(locations)) # convert the numerical locations to chessboard \n",
    "            return \n",
    "        # dfs, for each row, check col 1 - n to see if it's a valid one \n",
    "        for col in range(n):\n",
    "            if not self.is_valid(locations, row, col):\n",
    "                continue \n",
    "            # if valid \n",
    "            locations.append(col)\n",
    "            self.search(n, locations, results)\n",
    "            locations.pop()\n",
    "            \n",
    "    def is_valid(self, locations, row, col):\n",
    "        for prev_row, prev_col in enumerate(locations):\n",
    "            if prev_col == col:\n",
    "                return False\n",
    "            if prev_row - prev_col == row - col or prev_row + prev_col == row + col:\n",
    "                return False \n",
    "        return True \n",
    "        \n",
    "    def draw_board(self, locations):\n",
    "        n = len(locations)\n",
    "        board = []\n",
    "        for i in range(n):\n",
    "            cur_row = ['Q' if j == locations[i] else '.' for j in range(n)]\n",
    "            board.append(''.join(cur_row))  # convert the separate list elements into a single string\n",
    "        return board \n",
    "    "
   ]
  },
  {
   "cell_type": "code",
   "execution_count": 90,
   "metadata": {},
   "outputs": [
    {
     "data": {
      "text/plain": [
       "[['.Q..', '...Q', 'Q...', '..Q.'], ['..Q.', 'Q...', '...Q', '.Q..']]"
      ]
     },
     "execution_count": 90,
     "metadata": {},
     "output_type": "execute_result"
    }
   ],
   "source": [
    "p = Solution()\n",
    "p.solveNQueens(4)"
   ]
  },
  {
   "cell_type": "code",
   "execution_count": 56,
   "metadata": {},
   "outputs": [
    {
     "name": "stdout",
     "output_type": "stream",
     "text": [
      "r 0 c 1\n",
      "r 1 c 3\n",
      "r 2 c 0\n",
      "r 3 c 1\n"
     ]
    }
   ],
   "source": [
    "for r, c in enumerate([1, 3, 0, 1]):\n",
    "    print('r', r, 'c', c)"
   ]
  },
  {
   "cell_type": "code",
   "execution_count": 88,
   "metadata": {},
   "outputs": [
    {
     "data": {
      "text/plain": [
       "[[4]]"
      ]
     },
     "execution_count": 88,
     "metadata": {},
     "output_type": "execute_result"
    }
   ],
   "source": [
    "a = []\n",
    "a.append([4])\n",
    "a"
   ]
  },
  {
   "cell_type": "markdown",
   "metadata": {},
   "source": [
    "34 - N-Queens II\n",
    "\n",
    "Now, instead outputting board configurations, return the total number of distinct solutions.\n",
    "\n",
    "Example: \n",
    "\n",
    "Input: n=4\n",
    "\n",
    "Output: 2\n",
    "\n",
    "Explanation:\n",
    "\n",
    "\n",
    "* Recursion, DFS"
   ]
  },
  {
   "cell_type": "code",
   "execution_count": 108,
   "metadata": {},
   "outputs": [],
   "source": [
    "class Solution:\n",
    "    \"\"\"\n",
    "    @param: n: The number of queens\n",
    "    @return: All distinct solutions\n",
    "    \"\"\"\n",
    "    def totalNQueens(self, n):\n",
    "        if n is None:\n",
    "            return []\n",
    "        \n",
    "        self.count = 0\n",
    "        self.search(n, [])\n",
    "        return self.count \n",
    "    \n",
    "    # locations = 1, 3, 2, 4 means that the queen is at the col 1 in first row, col 3 in second row ... \n",
    "    def search(self, n, locations):\n",
    "        row = len(locations)\n",
    "        # if the n-th queen location has been found \n",
    "        if row == n:\n",
    "            self.count += 1\n",
    "#             print('locations', locations)\n",
    "            return # end of one recursion\n",
    "        \n",
    "        # dfs, for each row, check col 1 - n to see if it's a valid one \n",
    "        for col in range(n):\n",
    "            if not self.is_valid(locations, row, col):\n",
    "                continue \n",
    "            # if valid \n",
    "            locations.append(col)\n",
    "            self.search(n, locations)\n",
    "            locations.pop()\n",
    "            \n",
    "    def is_valid(self, locations, row, col):\n",
    "        for prev_row, prev_col in enumerate(locations):\n",
    "            if prev_col == col:\n",
    "                return False\n",
    "            if prev_row - prev_col == row - col or prev_row + prev_col == row + col:\n",
    "                return False \n",
    "        return True \n",
    "        \n",
    "    def draw_board(self, locations):\n",
    "        n = len(locations)\n",
    "        board = []\n",
    "        for i in range(n):\n",
    "            cur_row = ['Q' if j == locations[i] else '.' for j in range(n)]\n",
    "            board.append(''.join(cur_row))  # convert the separate list elements into a single string\n",
    "        return board \n",
    "    "
   ]
  },
  {
   "cell_type": "code",
   "execution_count": 110,
   "metadata": {},
   "outputs": [
    {
     "name": "stdout",
     "output_type": "stream",
     "text": [
      "locations [1, 3, 0, 2]\n",
      "locations [2, 0, 3, 1]\n"
     ]
    },
    {
     "data": {
      "text/plain": [
       "2"
      ]
     },
     "execution_count": 110,
     "metadata": {},
     "output_type": "execute_result"
    }
   ],
   "source": [
    "p = Solution()\n",
    "p.totalNQueens(4)"
   ]
  },
  {
   "cell_type": "markdown",
   "metadata": {},
   "source": [
    "829 - Word Pattern II\n",
    "\n",
    "Given a `pattern` and a string `str`, find if `str` follows the same pattern.\n",
    "\n",
    "Here `follow` means a full match, such that there is a bijection between a letter in pattern and a non-empty substring in `str`.(i.e if a corresponds to s, then b cannot correspond to s. For example, given pattern = \"ab\", str = \"ss\", return false.)\n",
    "\n",
    "Example: \n",
    "\n",
    "Given pattern = \"abab\", str = \"redblueredblue\", return true.\n",
    "\n",
    "Given pattern = \"aaaa\", str = \"asdasdasdasd\", return true.\n",
    "\n",
    "Given pattern = \"aabb\", str = \"xyzabcxzyabc\", return false.\n",
    "\n",
    "\n",
    "* Backtracking"
   ]
  },
  {
   "cell_type": "code",
   "execution_count": 151,
   "metadata": {},
   "outputs": [],
   "source": [
    "class Solution:\n",
    "    \"\"\"\n",
    "    @param pattern: a string,denote pattern string\n",
    "    @param str: a string, denote matching string\n",
    "    @return: a boolean\n",
    "    \"\"\"\n",
    "    def wordPatternMatch(self, pattern, string):\n",
    "        return self.is_match(pattern, string, {}, set())\n",
    "    \n",
    "    \n",
    "    def is_match(self, pattern, string, maps, used):\n",
    "        # important: when the input pattern is None, check if the string is consistent\n",
    "        \n",
    "        # note: not None == not False == not '' == not 0 == not [] == not {} == not () ~ False \n",
    "        # here pattern could be empty string, but empty string is not None \n",
    "        if not pattern:\n",
    "            print('pattern',pattern is None)\n",
    "            return not string  \n",
    "                      \n",
    "        # select a character in pattern and test for matched words in string \n",
    "        char = pattern[0]\n",
    "        \n",
    "        # preprocess, before iteration, make sure the char has been added to the maps (paired with a word)\n",
    "        if char in maps:\n",
    "            mapped_word = maps[char]\n",
    "            # if the string doesn't start with mapped_word, cannot be matched, return false \n",
    "            if not string.startswith(mapped_word):\n",
    "                return False\n",
    "            \n",
    "            # if they match, go directly to next step , no need to add the already added word to map\n",
    "            return self.is_match(pattern[1:], string[(len(mapped_word)):], maps, used)\n",
    "        \n",
    "        for i in range(len(string)):\n",
    "            cur_word = string[:(i + 1)]\n",
    "            \n",
    "            # the words has been used before \n",
    "            if cur_word in used:\n",
    "                continue\n",
    "\n",
    "            maps[char] = cur_word\n",
    "            used.add(cur_word) # cannot be paired with another character \n",
    "            if self.is_match(pattern[1:], string[(i + 1):], maps, used):\n",
    "                return True \n",
    "            # backtracking \n",
    "            used.remove(cur_word)\n",
    "            del maps[char]\n",
    "        return False \n",
    "            \n"
   ]
  },
  {
   "cell_type": "code",
   "execution_count": 152,
   "metadata": {},
   "outputs": [
    {
     "name": "stdout",
     "output_type": "stream",
     "text": [
      "pattern False\n",
      "pattern False\n",
      "pattern False\n",
      "pattern False\n",
      "pattern False\n",
      "pattern False\n"
     ]
    },
    {
     "data": {
      "text/plain": [
       "True"
      ]
     },
     "execution_count": 152,
     "metadata": {},
     "output_type": "execute_result"
    }
   ],
   "source": [
    "Solution().wordPatternMatch('ab', 'redblue')\n"
   ]
  },
  {
   "cell_type": "markdown",
   "metadata": {},
   "source": [
    "121 - Word Ladder II\n",
    "\n",
    "\n",
    "Given two words (start and end), and a dictionary, find all shortest transformation sequence(s) from start to end, such that:\n",
    "\n",
    "Only one letter can be changed at a time\n",
    "\n",
    "Each intermediate word must exist in the dictionary\n",
    "\n",
    "Example: \n",
    "\n",
    "Given:\n",
    "\n",
    "start = \"hit\"\n",
    "\n",
    "end = \"cog\"\n",
    "\n",
    "dict = [\"hot\",\"dot\",\"dog\",\"lot\",\"log\"]\n",
    "\n",
    "Return\n",
    "\n",
    "[\n",
    "  [\"hit\",\"hot\",\"dot\",\"dog\",\"cog\"],\n",
    "  \n",
    "  [\"hit\",\"hot\",\"lot\",\"log\",\"cog\"]\n",
    "]\n",
    "\n",
    "\n",
    "* All words have the same length.\n",
    "\n",
    "* All words contain only lowercase alphabetic characters.\n",
    "\n",
    "* BFS, DFS, backtracking \n"
   ]
  },
  {
   "cell_type": "code",
   "execution_count": 183,
   "metadata": {},
   "outputs": [],
   "source": [
    "### Python, first use BFS then use DFS\n",
    "\n",
    "# Note!!! use visited to mark the visited nodes in BFS\n",
    "\n",
    "from collections import deque\n",
    "\n",
    "class Solution:\n",
    "    \"\"\"\n",
    "    @param: start: a string\n",
    "    @param: end: a string\n",
    "    @param: dict: a set of string\n",
    "    @return: a list of lists of string\n",
    "    \"\"\"\n",
    "    def findLadders(self, start, end, dict):\n",
    "        # add start and end into the dictionary \n",
    "        dict.add(start)\n",
    "        dict.add(end)\n",
    "        \n",
    "        # first do the bfs from end to start to find the shortest paths\n",
    "        # distance is used to save \n",
    "        distance = {}\n",
    "        self.bfs(end, start, distance, dict)\n",
    "        print('distance', distance)\n",
    "        # dfs \n",
    "        results = []\n",
    "        self.dfs(start, end, distance, dict, [start], results)\n",
    "        return results \n",
    "    \n",
    "    def bfs(self, start, end, distance, dict):\n",
    "        # the start itself \n",
    "        distance[start] = 0\n",
    "        \n",
    "        # queue \n",
    "        queue = deque([start])\n",
    "        visited = set([start])\n",
    "        \n",
    "        while queue:\n",
    "            cur_word = queue.popleft()\n",
    "            for neighbor in self.get_next_words(cur_word, dict):\n",
    "                if neighbor in visited:\n",
    "                    continue\n",
    "                distance[neighbor] = distance[cur_word] + 1 \n",
    "                queue.append(neighbor)\n",
    "                visited.add(neighbor)\n",
    "        return distance \n",
    "                \n",
    "    def get_next_words(self, word, dict):\n",
    "        next_words = set() # to avoid duplication\n",
    "        for i in range(len(word)):\n",
    "            for char in 'abcdefghijklmnopqrstuvwxyz':\n",
    "                test_word = word[:i] + char + word[(i + 1):]\n",
    "                if test_word in dict:\n",
    "                    next_words.add(test_word)\n",
    "        # remove word itself \n",
    "        next_words.remove(word)\n",
    "        return next_words\n",
    "    \n",
    "    def dfs(self, start, end, distance, dict, path ,results):\n",
    "        # return statement \n",
    "        if path[-1] == end:\n",
    "            results.append(list(path))\n",
    "            return\n",
    "            \n",
    "#         next_words = [words for words in distance if distance[words] == distance[path[-1]] - 1]\n",
    "        next_words = self.get_next_words(path[-1], dict)\n",
    "        next_words = [words for words in next_words if distance[words] == distance[path[-1]] - 1]\n",
    "        print('cur words', path[-1])\n",
    "        print('next_words', next_words)\n",
    "        for word in next_words:\n",
    "            path.append(word)\n",
    "            self.dfs(word, end, distance, dict, path, results)\n",
    "            path.pop()\n",
    "        \n",
    "        "
   ]
  },
  {
   "cell_type": "code",
   "execution_count": 184,
   "metadata": {},
   "outputs": [
    {
     "name": "stdout",
     "output_type": "stream",
     "text": [
      "distance {'cog': 0, 'dog': 1, 'log': 1, 'dot': 2, 'lot': 2, 'hot': 3, 'hit': 4}\n",
      "cur words hit\n",
      "next_words ['hot']\n",
      "cur words hot\n",
      "next_words ['lot', 'dot']\n",
      "cur words lot\n",
      "next_words ['log']\n",
      "cur words log\n",
      "next_words ['cog']\n",
      "cur words dot\n",
      "next_words ['dog']\n",
      "cur words dog\n",
      "next_words ['cog']\n"
     ]
    },
    {
     "data": {
      "text/plain": [
       "[['hit', 'hot', 'lot', 'log', 'cog'], ['hit', 'hot', 'dot', 'dog', 'cog']]"
      ]
     },
     "execution_count": 184,
     "metadata": {},
     "output_type": "execute_result"
    }
   ],
   "source": [
    "Solution().findLadders('hit', 'cog', {\"hot\",\"dot\",\"dog\",\"lot\",\"log\"})\n",
    "# Solution().bfs('hit', 'dot',{},{\"hot\",\"dot\",\"dog\",\"lot\",\"log\"} )"
   ]
  },
  {
   "cell_type": "markdown",
   "metadata": {},
   "source": [
    "132 - Word Search II\n",
    "\n",
    "Given a matrix of lower alphabets and a dictionary. Find all words in the dictionary that can be found in the matrix. A word can start from any position in the matrix and go left/right/up/down to the adjacent position. One character only be used once in one word. No same word in dictionary\n",
    "\n",
    "* Trie, prefix tree"
   ]
  },
  {
   "cell_type": "markdown",
   "metadata": {},
   "source": [
    "Given matrix:\n",
    "\n",
    "doaf\n",
    "\n",
    "agai\n",
    "\n",
    "dcan\n",
    "\n",
    "and dictionary:\n",
    "\n",
    "{\"dog\", \"dad\", \"dgdg\", \"can\", \"again\"}\n",
    "\n",
    "return {\"dog\", \"dad\", \"can\", \"again\"}\n",
    "\n",
    "\n",
    "dog:\n",
    "\n",
    "doaf\n",
    "\n",
    "agai\n",
    "\n",
    "dcan\n",
    "\n",
    "\n",
    "dad:\n",
    "\n",
    "doaf\n",
    "\n",
    "agai\n",
    "\n",
    "dcan"
   ]
  },
  {
   "cell_type": "code",
   "execution_count": 256,
   "metadata": {},
   "outputs": [],
   "source": [
    "directions = [(0, -1), (0, 1), (1, 0), (-1, 0)]\n",
    "\n",
    "class Solution:\n",
    "    \"\"\"\n",
    "    @param board: A list of lists of character\n",
    "    @param words: A list of string\n",
    "    @return: A list of string\n",
    "    \"\"\"\n",
    "    def wordSearchII(self, board, words):\n",
    "        # special case \n",
    "        if board is None or len(board) == 0 or len(board[0]) == 0:\n",
    "            return []\n",
    "        # unique words / dictionary \n",
    "        word_set = set(words)\n",
    "        prefix_set = set()\n",
    "        # prefix \n",
    "        for word in word_set:\n",
    "            for i in range(len(word)):\n",
    "                prefix_set.add(word[:(i + 1)])\n",
    "        # results \n",
    "        results = set()\n",
    "        # start searching from every position \n",
    "        for i in range(len(board)):\n",
    "            for j in range(len(board[0])):\n",
    "                c = board[i][j]\n",
    "                self.search(board, i, j, board[i][j], word_set, prefix_set, set([(i, j)]), results)\n",
    "        return list(results)  # questions asks to return list instead of set \n",
    "    \n",
    "    def search(self, board, x, y, substr, word_set, prefix_set, visited, results):\n",
    "        # discuss two cases of substr \n",
    "        # if substr is not the same as any prefix, stop \n",
    "        if substr not in prefix_set:\n",
    "            return \n",
    "        \n",
    "        # if substr is in word_set\n",
    "        if substr in word_set:\n",
    "            results.add(str(substr))  # ?return ???\n",
    "        \n",
    "        # add neighbors characters \n",
    "        for delta_x, delta_y in directions:\n",
    "            new_x, new_y = x + delta_x, y + delta_y\n",
    "#             print(new_x, new_y)\n",
    "            # if the pair is valid and not visited \n",
    "            if not self.is_valid(board, new_x, new_y):\n",
    "                continue \n",
    "            if (new_x, new_y) in visited:\n",
    "                continue \n",
    "            \n",
    "            # dfs recursion \n",
    "            visited.add((new_x, new_y))\n",
    "#             print(substr)\n",
    "#             print('new x y', new_x, new_y)\n",
    "            self.search(board, new_x, new_y, substr + board[new_x][new_y], word_set, prefix_set, visited, results)\n",
    "            visited.remove((new_x, new_y))\n",
    "            \n",
    "    def is_valid(self, board, x, y):\n",
    "        return 0 <= x < len(board) and 0 <= y < len(board[0])\n"
   ]
  },
  {
   "cell_type": "code",
   "execution_count": 257,
   "metadata": {},
   "outputs": [
    {
     "data": {
      "text/plain": [
       "['dad', 'again', 'dog', 'can']"
      ]
     },
     "execution_count": 257,
     "metadata": {},
     "output_type": "execute_result"
    }
   ],
   "source": [
    "Solution().wordSearchII([\"doaf\",\"agai\",\"dcan\"], [\"dog\",\"dad\",\"dgdg\",\"can\",\"again\"])"
   ]
  },
  {
   "cell_type": "code",
   "execution_count": 251,
   "metadata": {},
   "outputs": [
    {
     "data": {
      "text/plain": [
       "'f'"
      ]
     },
     "execution_count": 251,
     "metadata": {},
     "output_type": "execute_result"
    }
   ],
   "source": [
    "a = [\"doaf\",\"agai\",\"dcan\"]\n",
    "len(a)\n",
    "a[0][3]"
   ]
  }
 ],
 "metadata": {
  "kernelspec": {
   "display_name": "Python 3",
   "language": "python",
   "name": "python3"
  },
  "language_info": {
   "codemirror_mode": {
    "name": "ipython",
    "version": 3
   },
   "file_extension": ".py",
   "mimetype": "text/x-python",
   "name": "python",
   "nbconvert_exporter": "python",
   "pygments_lexer": "ipython3",
   "version": "3.6.3"
  }
 },
 "nbformat": 4,
 "nbformat_minor": 2
}
