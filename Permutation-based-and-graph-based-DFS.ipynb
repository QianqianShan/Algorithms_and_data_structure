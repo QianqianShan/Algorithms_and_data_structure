{
 "cells": [
  {
   "cell_type": "markdown",
   "metadata": {},
   "source": [
    "190 - Next Permutation II\n",
    "\n",
    "\n",
    "Implement next permutation, which rearranges numbers into the lexicographically next greater permutation of numbers.\n",
    "\n",
    "If such arrangement is not possible, it must rearrange it as the lowest possible order (ie, sorted in ascending order).\n",
    "\n",
    "\n",
    "Input:1,2,3\n",
    "    \n",
    "Output:1,3,2\n",
    "\n",
    "See https://en.wikipedia.org/wiki/Lexicographical_order and https://baike.baidu.com/item/%E5%AD%97%E5%85%B8%E5%BA%8F. \n",
    "\n",
    "\n",
    "* Permutation, DFS"
   ]
  },
  {
   "cell_type": "code",
   "execution_count": 296,
   "metadata": {},
   "outputs": [],
   "source": [
    "class Solution:\n",
    "    \"\"\"\n",
    "    @param nums: An array of integers\n",
    "    @return: nothing\n",
    "    \"\"\"\n",
    "    def nextPermutation(self, nums):\n",
    "        n = len(nums)\n",
    "        \n",
    "        if n <= 1:\n",
    "            return nums \n",
    "        \n",
    "        # from right to left of nums array, find the last element that is bigger than its left neighbor \n",
    "        i = n - 1\n",
    "        while i > 0 and nums[i] <= nums[i - 1]:\n",
    "            i -= 1 \n",
    "        print('i', i)\n",
    "        # from right to left, find the first element that is bigger than nums[i-1]\n",
    "        if i > 0: \n",
    "            j = n - 1\n",
    "            while nums[j] <= nums[i - 1]:\n",
    "                j -= 1\n",
    "            nums[i - 1], nums[j] = nums[j], nums[i - 1]\n",
    "        # reverse the array segment after right position \n",
    "        self.swap(nums, i , n - 1)\n",
    "        \n",
    "        return nums \n",
    "        \n",
    "    def swap(self, nums, left, right):\n",
    "        while left < right:\n",
    "            nums[left], nums[right] = nums[right], nums[left]\n",
    "            left += 1\n",
    "            right -= 1 \n",
    "            \n",
    "        \n",
    "        \n"
   ]
  },
  {
   "cell_type": "code",
   "execution_count": 299,
   "metadata": {},
   "outputs": [
    {
     "name": "stdout",
     "output_type": "stream",
     "text": [
      "i 1\n"
     ]
    },
    {
     "data": {
      "text/plain": [
       "[2, 1, 3]"
      ]
     },
     "execution_count": 299,
     "metadata": {},
     "output_type": "execute_result"
    }
   ],
   "source": [
    "p = Solution()\n",
    "p.nextPermutation([1, 3, 2])"
   ]
  },
  {
   "cell_type": "markdown",
   "metadata": {},
   "source": [
    "15 - Permutations\n",
    "\n",
    "Given a list of numbers, return all possible permutations.\n",
    "\n",
    "You can assume that there is no duplicate numbers in the list.\n",
    "\n",
    "* Permutation, DFS"
   ]
  },
  {
   "cell_type": "code",
   "execution_count": 306,
   "metadata": {},
   "outputs": [],
   "source": [
    "class Solution:\n",
    "    \"\"\"\n",
    "    @param: nums: A list of integers.\n",
    "    @return: A list of permutations.\n",
    "    \"\"\"\n",
    "    def permute(self, nums):\n",
    "        results = []\n",
    "        if nums is None:\n",
    "            return results \n",
    "        \n",
    "        self.dfs(nums, [False]*len(nums), [], results)\n",
    "        return results \n",
    "    \n",
    "    \n",
    "    def dfs(self, nums, visited, permutation, results):\n",
    "        # append \n",
    "        if (len(permutation) == len(nums)):\n",
    "            results.append(list(permutation))\n",
    "            \n",
    "        # recursion \n",
    "        for i in range(len(nums)):\n",
    "            if visited[i]:\n",
    "                continue \n",
    "            permutation.append(nums[i])\n",
    "            visited[i] = True \n",
    "            self.dfs(nums, visited, permutation, results)\n",
    "            visited[i] = False \n",
    "            permutation.pop()\n"
   ]
  },
  {
   "cell_type": "code",
   "execution_count": 307,
   "metadata": {},
   "outputs": [
    {
     "data": {
      "text/plain": [
       "[[1, 3, 2], [1, 2, 3], [3, 1, 2], [3, 2, 1], [2, 1, 3], [2, 3, 1]]"
      ]
     },
     "execution_count": 307,
     "metadata": {},
     "output_type": "execute_result"
    }
   ],
   "source": [
    "p = Solution()\n",
    "p.permute([1, 3, 2])"
   ]
  },
  {
   "cell_type": "markdown",
   "metadata": {},
   "source": [
    "16 - Permutations II\n",
    "\n",
    "Given a list of numbers with duplicate number in it. Find all unique permutations.\n",
    "\n",
    "Input: [1,2,2]\n",
    "    \n",
    "Output:\n",
    "[\n",
    "  [1,2,2],\n",
    "  [2,1,2],\n",
    "  [2,2,1]\n",
    "]\n",
    "\n",
    "\n",
    "* DFS, recursion"
   ]
  },
  {
   "cell_type": "code",
   "execution_count": 309,
   "metadata": {},
   "outputs": [],
   "source": [
    "class Solution:\n",
    "    \"\"\"\n",
    "    @param: nums: A list of integers.\n",
    "    @return: A list of permutations.\n",
    "    \"\"\"\n",
    "    def permuteUnique(self, nums):\n",
    "        results = []\n",
    "        if nums is None:\n",
    "            return results \n",
    "        # sort nums so the duplicated numbers (if any) are together\n",
    "        nums.sort()\n",
    "        # dfs \n",
    "        self.dfs(nums, [False]*len(nums), [], results)\n",
    "        return results \n",
    "    \n",
    "    \n",
    "    def dfs(self, nums, visited, permutation, results):\n",
    "        # append \n",
    "        if (len(permutation) == len(nums)):\n",
    "            results.append(list(permutation))\n",
    "            \n",
    "        # recursion \n",
    "        for i in range(len(nums)):\n",
    "            if visited[i]:\n",
    "                continue \n",
    "            # remove duplicates     \n",
    "            if i > 0 and nums[i] == nums[i - 1] and not visited[i - 1]: \n",
    "                continue\n",
    "            permutation.append(nums[i])\n",
    "            visited[i] = True \n",
    "            self.dfs(nums, visited, permutation, results)\n",
    "            visited[i] = False \n",
    "            permutation.pop()"
   ]
  },
  {
   "cell_type": "markdown",
   "metadata": {},
   "source": [
    "10 - String Permutation II\n",
    "\n",
    "Given a string, find all permutations of it without duplicates.\n",
    "\n",
    "* Permutation, DFS"
   ]
  },
  {
   "cell_type": "code",
   "execution_count": 12,
   "metadata": {},
   "outputs": [],
   "source": [
    "class Solution:\n",
    "    \"\"\"\n",
    "    @param str: A string\n",
    "    @return: all permutations\n",
    "    \"\"\"\n",
    "    def stringPermutation2(self, str):\n",
    "        if str is None:\n",
    "            return [[]]\n",
    "        results = []\n",
    "        str = sorted(list(str))\n",
    "        print(str)\n",
    "        self.dfs(str, [False] * len(str), [], results)\n",
    "        return results \n",
    "\n",
    "    def dfs(self, str, visited, permutation, results):\n",
    "        if len(permutation) == len(str):\n",
    "            results.append(''.join(permutation))\n",
    "            \n",
    "        # recursion \n",
    "        for i in range(len(str)):\n",
    "            if visited[i]:\n",
    "                continue \n",
    "            # remove duplicates \n",
    "            if (i > 0 and str[i] == str[i - 1] and not visited[i - 1]):\n",
    "                continue \n",
    "            permutation.append(str[i])\n",
    "            visited[i] = True \n",
    "            self.dfs(str, visited, permutation, results)\n",
    "            visited[i] = False \n",
    "            permutation.pop()\n",
    "            \n"
   ]
  },
  {
   "cell_type": "code",
   "execution_count": 13,
   "metadata": {},
   "outputs": [
    {
     "name": "stdout",
     "output_type": "stream",
     "text": [
      "['a', 'a', 'b', 'b']\n"
     ]
    },
    {
     "data": {
      "text/plain": [
       "['aabb', 'abab', 'abba', 'baab', 'baba', 'bbaa']"
      ]
     },
     "execution_count": 13,
     "metadata": {},
     "output_type": "execute_result"
    }
   ],
   "source": [
    "p = Solution()\n",
    "p.stringPermutation2('abab')"
   ]
  },
  {
   "cell_type": "markdown",
   "metadata": {},
   "source": [
    "425 - Letter Combinations of a Phone Number\n",
    "\n",
    "Given a digit string excluded '0' and '1', return all possible letter combinations that the number could represent.\n",
    "\n",
    "A mapping of digit to letters (just like on the telephone buttons) is given below.\n",
    "\n",
    "| 1 | 2 | 3 |\n",
    "|---|---|---|\n",
    "|---|ABC|DEF|\n",
    "| 4 | 5 | 6 |\n",
    "|GHI|JKL|MNO|\n",
    "| 7| 8 | 9 |\n",
    "|PQRS|TUV|WXYZ|\n",
    "\n",
    "\n",
    "Example: \n",
    "\n",
    "Input: \"23\"\n",
    "\n",
    "Output: [\"ad\", \"ae\", \"af\", \"bd\", \"be\", \"bf\", \"cd\", \"ce\", \"cf\"]\n",
    "\n",
    "\n",
    "* Backtracking, recursion"
   ]
  },
  {
   "cell_type": "code",
   "execution_count": 41,
   "metadata": {},
   "outputs": [],
   "source": [
    "letters_dict = {\n",
    "    '2':['a', 'b', 'c'], \n",
    "    '3':['d', 'e', 'f'],\n",
    "    '4':['g', 'h', 'i'],\n",
    "    '5':['j', 'k', 'l'],\n",
    "    '6':['m', 'n', 'o'],\n",
    "    '7':['p', 'q', 'r', 's'],\n",
    "    '8':['t', 'u', 'v'],\n",
    "    '9':['w', 'x','y','z']\n",
    "}\n",
    "\n",
    "class Solution:\n",
    "    \"\"\"\n",
    "    @param digits: A digital string\n",
    "    @return: all posible letter combinations\n",
    "    \"\"\"\n",
    "    def letterCombinations(self, digits):\n",
    "        if digits is None or len(digits) == 0:\n",
    "            return []\n",
    "        \n",
    "        results = []\n",
    "        self.dfs(digits, 0, \"\", results)\n",
    "        return results \n",
    "    \n",
    "    \n",
    "    def dfs(self, digits, index, permutation, results):\n",
    "        # append \n",
    "        if index == len(digits):\n",
    "            results.append(''.join(permutation))\n",
    "            return  # avoid unlimited running time \n",
    "        \n",
    "        \n",
    "        for letters in (letters_dict[digits[index]]):\n",
    "                # string can not use append, use + \n",
    "            self.dfs(digits, index + 1, permutation + letters, results)\n",
    "                \n",
    "    \n"
   ]
  },
  {
   "cell_type": "code",
   "execution_count": 42,
   "metadata": {},
   "outputs": [
    {
     "data": {
      "text/plain": [
       "['ad', 'ae', 'af', 'bd', 'be', 'bf', 'cd', 'ce', 'cf']"
      ]
     },
     "execution_count": 42,
     "metadata": {},
     "output_type": "execute_result"
    }
   ],
   "source": [
    "p = Solution()\n",
    "p.letterCombinations('23')"
   ]
  },
  {
   "cell_type": "markdown",
   "metadata": {},
   "source": [
    "33 - N-Queens\n",
    "\n",
    "The n-queens puzzle is the problem of placing `n` queens on an `n×n` chessboard such that no two queens attack each other.\n",
    "\n",
    "Given an integer `n`, return all distinct solutions to the n-queens puzzle.\n",
    "\n",
    "Each solution contains a distinct board configuration of the n-queens' placement, where 'Q' and '.'  indicate a queen and an empty space respectively."
   ]
  },
  {
   "cell_type": "code",
   "execution_count": null,
   "metadata": {},
   "outputs": [],
   "source": [
    "Input:4\n",
    "Output:\n",
    "[\n",
    "  // Solution 1\n",
    "  [\".Q..\",\n",
    "   \"...Q\",\n",
    "   \"Q...\",\n",
    "   \"..Q.\"\n",
    "  ],\n",
    "  // Solution 2\n",
    "  [\"..Q.\",\n",
    "   \"Q...\",\n",
    "   \"...Q\",\n",
    "   \".Q..\"\n",
    "  ]\n",
    "]\n"
   ]
  },
  {
   "cell_type": "code",
   "execution_count": 89,
   "metadata": {},
   "outputs": [],
   "source": [
    "# Python \n",
    "class Solution:\n",
    "    \"\"\"\n",
    "    @param: n: The number of queens\n",
    "    @return: All distinct solutions\n",
    "    \"\"\"\n",
    "    def solveNQueens(self, n):\n",
    "        if n is None:\n",
    "            return []\n",
    "        \n",
    "        results = []\n",
    "        self.search(n, [], results)\n",
    "        return results \n",
    "    \n",
    "    # locations = 1, 3, 2, 4 means that the queen is at the col 1 in first row, col 3 in second row ... \n",
    "    def search(self, n, locations, results):\n",
    "        row = len(locations)\n",
    "        # if the n-th queen location has been found \n",
    "        if row == n:\n",
    "#             print('results', locations)\n",
    "            results.append(self.draw_board(locations)) # convert the numerical locations to chessboard \n",
    "            return \n",
    "        # dfs, for each row, check col 1 - n to see if it's a valid one \n",
    "        for col in range(n):\n",
    "            if not self.is_valid(locations, row, col):\n",
    "                continue \n",
    "            # if valid \n",
    "            locations.append(col)\n",
    "            self.search(n, locations, results)\n",
    "            locations.pop()\n",
    "            \n",
    "    def is_valid(self, locations, row, col):\n",
    "        for prev_row, prev_col in enumerate(locations):\n",
    "            if prev_col == col:\n",
    "                return False\n",
    "            if prev_row - prev_col == row - col or prev_row + prev_col == row + col:\n",
    "                return False \n",
    "        return True \n",
    "        \n",
    "    def draw_board(self, locations):\n",
    "        n = len(locations)\n",
    "        board = []\n",
    "        for i in range(n):\n",
    "            cur_row = ['Q' if j == locations[i] else '.' for j in range(n)]\n",
    "            board.append(''.join(cur_row))  # convert the separate list elements into a single string\n",
    "        return board \n",
    "    "
   ]
  },
  {
   "cell_type": "code",
   "execution_count": 90,
   "metadata": {},
   "outputs": [
    {
     "data": {
      "text/plain": [
       "[['.Q..', '...Q', 'Q...', '..Q.'], ['..Q.', 'Q...', '...Q', '.Q..']]"
      ]
     },
     "execution_count": 90,
     "metadata": {},
     "output_type": "execute_result"
    }
   ],
   "source": [
    "p = Solution()\n",
    "p.solveNQueens(4)"
   ]
  },
  {
   "cell_type": "code",
   "execution_count": 56,
   "metadata": {},
   "outputs": [
    {
     "name": "stdout",
     "output_type": "stream",
     "text": [
      "r 0 c 1\n",
      "r 1 c 3\n",
      "r 2 c 0\n",
      "r 3 c 1\n"
     ]
    }
   ],
   "source": [
    "for r, c in enumerate([1, 3, 0, 1]):\n",
    "    print('r', r, 'c', c)"
   ]
  },
  {
   "cell_type": "code",
   "execution_count": 88,
   "metadata": {},
   "outputs": [
    {
     "data": {
      "text/plain": [
       "[[4]]"
      ]
     },
     "execution_count": 88,
     "metadata": {},
     "output_type": "execute_result"
    }
   ],
   "source": [
    "a = []\n",
    "a.append([4])\n",
    "a"
   ]
  },
  {
   "cell_type": "markdown",
   "metadata": {},
   "source": [
    "34 - N-Queens II\n",
    "\n",
    "Now, instead outputting board configurations, return the total number of distinct solutions.\n",
    "\n",
    "Example: \n",
    "\n",
    "Input: n=4\n",
    "\n",
    "Output: 2\n",
    "\n",
    "Explanation:\n",
    "\n",
    "\n",
    "* Recursion, DFS"
   ]
  },
  {
   "cell_type": "code",
   "execution_count": 108,
   "metadata": {},
   "outputs": [],
   "source": [
    "class Solution:\n",
    "    \"\"\"\n",
    "    @param: n: The number of queens\n",
    "    @return: All distinct solutions\n",
    "    \"\"\"\n",
    "    def totalNQueens(self, n):\n",
    "        if n is None:\n",
    "            return []\n",
    "        \n",
    "        self.count = 0\n",
    "        self.search(n, [])\n",
    "        return self.count \n",
    "    \n",
    "    # locations = 1, 3, 2, 4 means that the queen is at the col 1 in first row, col 3 in second row ... \n",
    "    def search(self, n, locations):\n",
    "        row = len(locations)\n",
    "        # if the n-th queen location has been found \n",
    "        if row == n:\n",
    "            self.count += 1\n",
    "#             print('locations', locations)\n",
    "            return # end of one recursion\n",
    "        \n",
    "        # dfs, for each row, check col 1 - n to see if it's a valid one \n",
    "        for col in range(n):\n",
    "            if not self.is_valid(locations, row, col):\n",
    "                continue \n",
    "            # if valid \n",
    "            locations.append(col)\n",
    "            self.search(n, locations)\n",
    "            locations.pop()\n",
    "            \n",
    "    def is_valid(self, locations, row, col):\n",
    "        for prev_row, prev_col in enumerate(locations):\n",
    "            if prev_col == col:\n",
    "                return False\n",
    "            if prev_row - prev_col == row - col or prev_row + prev_col == row + col:\n",
    "                return False \n",
    "        return True \n",
    "        \n",
    "    def draw_board(self, locations):\n",
    "        n = len(locations)\n",
    "        board = []\n",
    "        for i in range(n):\n",
    "            cur_row = ['Q' if j == locations[i] else '.' for j in range(n)]\n",
    "            board.append(''.join(cur_row))  # convert the separate list elements into a single string\n",
    "        return board \n",
    "    "
   ]
  },
  {
   "cell_type": "code",
   "execution_count": 110,
   "metadata": {},
   "outputs": [
    {
     "name": "stdout",
     "output_type": "stream",
     "text": [
      "locations [1, 3, 0, 2]\n",
      "locations [2, 0, 3, 1]\n"
     ]
    },
    {
     "data": {
      "text/plain": [
       "2"
      ]
     },
     "execution_count": 110,
     "metadata": {},
     "output_type": "execute_result"
    }
   ],
   "source": [
    "p = Solution()\n",
    "p.totalNQueens(4)"
   ]
  }
 ],
 "metadata": {
  "kernelspec": {
   "display_name": "Python 3",
   "language": "python",
   "name": "python3"
  },
  "language_info": {
   "codemirror_mode": {
    "name": "ipython",
    "version": 3
   },
   "file_extension": ".py",
   "mimetype": "text/x-python",
   "name": "python",
   "nbconvert_exporter": "python",
   "pygments_lexer": "ipython3",
   "version": "3.6.3"
  }
 },
 "nbformat": 4,
 "nbformat_minor": 2
}
