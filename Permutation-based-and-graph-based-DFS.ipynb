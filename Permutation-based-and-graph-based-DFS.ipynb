{
 "cells": [
  {
   "cell_type": "markdown",
   "metadata": {},
   "source": [
    "190 - Next Permutation II\n",
    "\n",
    "\n",
    "Implement next permutation, which rearranges numbers into the lexicographically next greater permutation of numbers.\n",
    "\n",
    "If such arrangement is not possible, it must rearrange it as the lowest possible order (ie, sorted in ascending order).\n",
    "\n",
    "\n",
    "Input:1,2,3\n",
    "    \n",
    "Output:1,3,2\n",
    "\n",
    "See https://en.wikipedia.org/wiki/Lexicographical_order and https://baike.baidu.com/item/%E5%AD%97%E5%85%B8%E5%BA%8F. \n",
    "\n",
    "\n",
    "* Permutation, DFS"
   ]
  },
  {
   "cell_type": "code",
   "execution_count": 296,
   "metadata": {},
   "outputs": [],
   "source": [
    "class Solution:\n",
    "    \"\"\"\n",
    "    @param nums: An array of integers\n",
    "    @return: nothing\n",
    "    \"\"\"\n",
    "    def nextPermutation(self, nums):\n",
    "        n = len(nums)\n",
    "        \n",
    "        if n <= 1:\n",
    "            return nums \n",
    "        \n",
    "        # from right to left of nums array, find the last element that is bigger than its left neighbor \n",
    "        i = n - 1\n",
    "        while i > 0 and nums[i] <= nums[i - 1]:\n",
    "            i -= 1 \n",
    "        print('i', i)\n",
    "        # from right to left, find the first element that is bigger than nums[i-1]\n",
    "        if i > 0: \n",
    "            j = n - 1\n",
    "            while nums[j] <= nums[i - 1]:\n",
    "                j -= 1\n",
    "            nums[i - 1], nums[j] = nums[j], nums[i - 1]\n",
    "        # reverse the array segment after right position \n",
    "        self.swap(nums, i , n - 1)\n",
    "        \n",
    "        return nums \n",
    "        \n",
    "    def swap(self, nums, left, right):\n",
    "        while left < right:\n",
    "            nums[left], nums[right] = nums[right], nums[left]\n",
    "            left += 1\n",
    "            right -= 1 \n",
    "            \n",
    "        \n",
    "        \n"
   ]
  },
  {
   "cell_type": "code",
   "execution_count": 299,
   "metadata": {},
   "outputs": [
    {
     "name": "stdout",
     "output_type": "stream",
     "text": [
      "i 1\n"
     ]
    },
    {
     "data": {
      "text/plain": [
       "[2, 1, 3]"
      ]
     },
     "execution_count": 299,
     "metadata": {},
     "output_type": "execute_result"
    }
   ],
   "source": [
    "p = Solution()\n",
    "p.nextPermutation([1, 3, 2])"
   ]
  },
  {
   "cell_type": "markdown",
   "metadata": {},
   "source": [
    "15 - Permutations\n",
    "\n",
    "Given a list of numbers, return all possible permutations.\n",
    "\n",
    "You can assume that there is no duplicate numbers in the list.\n",
    "\n",
    "* Permutation, DFS"
   ]
  },
  {
   "cell_type": "code",
   "execution_count": 306,
   "metadata": {},
   "outputs": [],
   "source": [
    "class Solution:\n",
    "    \"\"\"\n",
    "    @param: nums: A list of integers.\n",
    "    @return: A list of permutations.\n",
    "    \"\"\"\n",
    "    def permute(self, nums):\n",
    "        results = []\n",
    "        if nums is None:\n",
    "            return results \n",
    "        \n",
    "        self.dfs(nums, [False]*len(nums), [], results)\n",
    "        return results \n",
    "    \n",
    "    \n",
    "    def dfs(self, nums, visited, permutation, results):\n",
    "        # append \n",
    "        if (len(permutation) == len(nums)):\n",
    "            results.append(list(permutation))\n",
    "            \n",
    "        # recursion \n",
    "        for i in range(len(nums)):\n",
    "            if visited[i]:\n",
    "                continue \n",
    "            permutation.append(nums[i])\n",
    "            visited[i] = True \n",
    "            self.dfs(nums, visited, permutation, results)\n",
    "            visited[i] = False \n",
    "            permutation.pop()\n"
   ]
  },
  {
   "cell_type": "code",
   "execution_count": 307,
   "metadata": {},
   "outputs": [
    {
     "data": {
      "text/plain": [
       "[[1, 3, 2], [1, 2, 3], [3, 1, 2], [3, 2, 1], [2, 1, 3], [2, 3, 1]]"
      ]
     },
     "execution_count": 307,
     "metadata": {},
     "output_type": "execute_result"
    }
   ],
   "source": [
    "p = Solution()\n",
    "p.permute([1, 3, 2])"
   ]
  },
  {
   "cell_type": "markdown",
   "metadata": {},
   "source": [
    "16 - Permutations II\n",
    "\n",
    "Given a list of numbers with duplicate number in it. Find all unique permutations.\n",
    "\n",
    "Input: [1,2,2]\n",
    "    \n",
    "Output:\n",
    "[\n",
    "  [1,2,2],\n",
    "  [2,1,2],\n",
    "  [2,2,1]\n",
    "]\n",
    "\n",
    "\n",
    "* DFS, recursion"
   ]
  },
  {
   "cell_type": "code",
   "execution_count": 309,
   "metadata": {},
   "outputs": [],
   "source": [
    "class Solution:\n",
    "    \"\"\"\n",
    "    @param: nums: A list of integers.\n",
    "    @return: A list of permutations.\n",
    "    \"\"\"\n",
    "    def permuteUnique(self, nums):\n",
    "        results = []\n",
    "        if nums is None:\n",
    "            return results \n",
    "        # sort nums so the duplicated numbers (if any) are together\n",
    "        nums.sort()\n",
    "        # dfs \n",
    "        self.dfs(nums, [False]*len(nums), [], results)\n",
    "        return results \n",
    "    \n",
    "    \n",
    "    def dfs(self, nums, visited, permutation, results):\n",
    "        # append \n",
    "        if (len(permutation) == len(nums)):\n",
    "            results.append(list(permutation))\n",
    "            \n",
    "        # recursion \n",
    "        for i in range(len(nums)):\n",
    "            if visited[i]:\n",
    "                continue \n",
    "            # remove duplicates     \n",
    "            if i > 0 and nums[i] == nums[i - 1] and not visited[i - 1]: \n",
    "                continue\n",
    "            permutation.append(nums[i])\n",
    "            visited[i] = True \n",
    "            self.dfs(nums, visited, permutation, results)\n",
    "            visited[i] = False \n",
    "            permutation.pop()"
   ]
  },
  {
   "cell_type": "markdown",
   "metadata": {},
   "source": [
    "10 - String Permutation II\n",
    "\n",
    "Given a string, find all permutations of it without duplicates.\n",
    "\n",
    "* Permutation, DFS"
   ]
  },
  {
   "cell_type": "code",
   "execution_count": null,
   "metadata": {},
   "outputs": [],
   "source": [
    "class Solution:\n",
    "    \"\"\"\n",
    "    @param str: A string\n",
    "    @return: all permutations\n",
    "    \"\"\"\n",
    "    def stringPermutation2(self, str):\n",
    "        if str is None:\n",
    "            return [[]]\n",
    "        results = []\n",
    "        self.dfs(str, [False] * len(str), [], results)\n",
    "        return results \n",
    "    \n",
    "    \n",
    "    def dfs(self, str, visited, permutation, results):\n",
    "        if len(permutation) == len(str):\n",
    "            results.append(''.join(permutation))\n",
    "            \n",
    "        # recursion \n",
    "        for i in range(len(str)):\n",
    "            if visited[i]:\n",
    "                continue \n",
    "            # remove duplicates \n",
    "            if (i > 0 and str[i] == str[i - 1] and not visited[i - 1]):\n",
    "                continue \n",
    "            permutation.append(str[i])\n",
    "            visited[i] = True \n",
    "            self.dfs(str, visited, permutation, results)\n",
    "            visited[i] = False \n",
    "            permutation.pop()\n",
    "            \n"
   ]
  },
  {
   "cell_type": "markdown",
   "metadata": {},
   "source": [
    "425 - Letter Combinations of a Phone Number\n",
    "\n",
    "Given a digit string excluded '0' and '1', return all possible letter combinations that the number could represent.\n",
    "\n",
    "A mapping of digit to letters (just like on the telephone buttons) is given below.\n",
    "\n",
    "| 1 | 2 | 3 |\n",
    "|---|---|---|\n",
    "|   |ABC|DEF|\n",
    "| 4 | 5 | 6 |\n",
    "|GHI|JKL|MNO|\n",
    "| 7| 8 | 9 |\n",
    "|PQRS|TUV|WXYZ|\n",
    "\n",
    "\n",
    "Example: \n",
    "\n",
    "Input: \"23\"\n",
    "\n",
    "Output: [\"ad\", \"ae\", \"af\", \"bd\", \"be\", \"bf\", \"cd\", \"ce\", \"cf\"]\n",
    "\n",
    "\n",
    "* Backtracking, recursion"
   ]
  },
  {
   "cell_type": "code",
   "execution_count": null,
   "metadata": {},
   "outputs": [],
   "source": []
  },
  {
   "cell_type": "code",
   "execution_count": null,
   "metadata": {},
   "outputs": [],
   "source": []
  }
 ],
 "metadata": {
  "kernelspec": {
   "display_name": "Python 3",
   "language": "python",
   "name": "python3"
  },
  "language_info": {
   "codemirror_mode": {
    "name": "ipython",
    "version": 3
   },
   "file_extension": ".py",
   "mimetype": "text/x-python",
   "name": "python",
   "nbconvert_exporter": "python",
   "pygments_lexer": "ipython3",
   "version": "3.6.3"
  }
 },
 "nbformat": 4,
 "nbformat_minor": 2
}
