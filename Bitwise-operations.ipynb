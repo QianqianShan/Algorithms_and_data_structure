{
 "cells": [
  {
   "cell_type": "markdown",
   "metadata": {},
   "source": [
    "## Bitwise Opearation\n",
    "\n",
    "Bitwise operations can usually perform faster computation. "
   ]
  },
  {
   "cell_type": "markdown",
   "metadata": {},
   "source": [
    "365 - Count 1 in Binary\n",
    "\n",
    "Count how many 1 in binary representation of a 32-bit integer.\n",
    "\n",
    "\n",
    "Input: 32\n",
    "\n",
    "Output: 1\n",
    "\n",
    "Explanation:\n",
    "\n",
    "32(100000), return 1."
   ]
  },
  {
   "cell_type": "code",
   "execution_count": 5,
   "metadata": {},
   "outputs": [
    {
     "data": {
      "text/plain": [
       "'101'"
      ]
     },
     "execution_count": 5,
     "metadata": {},
     "output_type": "execute_result"
    }
   ],
   "source": [
    "# bits representation of integer \n",
    "format(5, 'b')"
   ]
  },
  {
   "cell_type": "code",
   "execution_count": 8,
   "metadata": {},
   "outputs": [
    {
     "data": {
      "text/plain": [
       "'-101'"
      ]
     },
     "execution_count": 8,
     "metadata": {},
     "output_type": "execute_result"
    }
   ],
   "source": [
    "format(-5, 'b')"
   ]
  },
  {
   "cell_type": "code",
   "execution_count": 9,
   "metadata": {},
   "outputs": [
    {
     "data": {
      "text/plain": [
       "'100'"
      ]
     },
     "execution_count": 9,
     "metadata": {},
     "output_type": "execute_result"
    }
   ],
   "source": [
    "format(4, 'b')"
   ]
  },
  {
   "cell_type": "code",
   "execution_count": 13,
   "metadata": {},
   "outputs": [],
   "source": [
    "# Python 1: bitwise AND for each bit \n",
    "class Solution:\n",
    "    \"\"\"\n",
    "    @param: num: An integer\n",
    "    @return: An integer\n",
    "    \"\"\"\n",
    "    def countOnes(self, num):\n",
    "        count = 0 \n",
    "        # compare \n",
    "        for i in range(32):\n",
    "            if (num & 1 << i):\n",
    "                count += 1 \n",
    "        return count\n"
   ]
  },
  {
   "cell_type": "code",
   "execution_count": 15,
   "metadata": {},
   "outputs": [
    {
     "data": {
      "text/plain": [
       "32"
      ]
     },
     "execution_count": 15,
     "metadata": {},
     "output_type": "execute_result"
    }
   ],
   "source": [
    "Solution().countOnes(-1)"
   ]
  },
  {
   "cell_type": "code",
   "execution_count": 20,
   "metadata": {},
   "outputs": [],
   "source": [
    "# Python 2: use a property of bits representation of integeres: \n",
    "# e.g.: the rightmost 1 in a num was converted to 0, the 0's after this 1 becomes 1 for num - 1\n",
    "class Solution:\n",
    "    \"\"\"\n",
    "    @param: num: An integer\n",
    "    @return: An integer\n",
    "    \"\"\"\n",
    "    def countOnes(self, num):\n",
    "        # boundary: for num = -1, bits representation is 111111111....11111, first cut it to 32-bit \n",
    "        if num < 0:\n",
    "            num &= (1 << 32) - 1\n",
    "        print(format(num, 'b'))\n",
    "        count = 0 \n",
    "        while num != 0:\n",
    "            num &= num - 1\n",
    "            count += 1 \n",
    "        return count\n",
    "        "
   ]
  },
  {
   "cell_type": "code",
   "execution_count": 21,
   "metadata": {},
   "outputs": [
    {
     "name": "stdout",
     "output_type": "stream",
     "text": [
      "11111111111111111111111111111111\n"
     ]
    },
    {
     "data": {
      "text/plain": [
       "32"
      ]
     },
     "execution_count": 21,
     "metadata": {},
     "output_type": "execute_result"
    }
   ],
   "source": [
    "Solution().countOnes(-1)"
   ]
  }
 ],
 "metadata": {
  "kernelspec": {
   "display_name": "Python 3",
   "language": "python",
   "name": "python3"
  },
  "language_info": {
   "codemirror_mode": {
    "name": "ipython",
    "version": 3
   },
   "file_extension": ".py",
   "mimetype": "text/x-python",
   "name": "python",
   "nbconvert_exporter": "python",
   "pygments_lexer": "ipython3",
   "version": "3.6.7"
  }
 },
 "nbformat": 4,
 "nbformat_minor": 2
}
