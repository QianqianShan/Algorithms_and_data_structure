{
 "cells": [
  {
   "cell_type": "markdown",
   "metadata": {},
   "source": [
    "## Two Pointers Algorithm "
   ]
  },
  {
   "cell_type": "markdown",
   "metadata": {},
   "source": [
    "415 - Valid Palindrome\n",
    "\n",
    "Given a string, determine if it is a palindrome, considering only alphanumeric characters and ignoring cases.\n",
    "\n",
    "Input: \"A man, a plan, a canal: Panama\"\n",
    "\n",
    "Output: true\n",
    "\n",
    "Explanation: \"amanaplanacanalpanama\"\n",
    "\n",
    "* Two pointers \n"
   ]
  },
  {
   "cell_type": "code",
   "execution_count": null,
   "metadata": {},
   "outputs": [],
   "source": [
    "class Solution:\n",
    "    \"\"\"\n",
    "    @param s: A string\n",
    "    @return: Whether the string is a valid palindrome\n",
    "    \"\"\"\n",
    "    def isPalindrome(self, s):\n",
    "        # write your code here\n",
    "        left, right = 0, len(s) - 1 \n",
    "        while (left < right):\n",
    "            while (left < right and not s[left].isalpha() and not s[left].isdigit()):\n",
    "                left += 1 \n",
    "            while (left < right and not s[right].isalpha() and not s[right].isdigit()):\n",
    "                right -= 1 \n",
    "            if (s[left].lower() != s[right].lower()):\n",
    "                return False \n",
    "            # if the two characters are equal, move forward \n",
    "            left += 1 \n",
    "            right -= 1 \n",
    "        return True \n",
    "\n"
   ]
  },
  {
   "cell_type": "markdown",
   "metadata": {},
   "source": [
    "891 - Valid Palindrome II\n",
    "\n",
    "Given a non-empty string s, you may delete at most one character. Judge whether you can make it a palindrome.\n",
    "\n",
    "* Two pointers "
   ]
  },
  {
   "cell_type": "markdown",
   "metadata": {},
   "source": [
    "#### Idea: use two pointers from the two sides of the string, at the position where s[left] != s[right],  try to delete either s[left] or s[right] to see if the rest could be palindrome "
   ]
  },
  {
   "cell_type": "code",
   "execution_count": 24,
   "metadata": {},
   "outputs": [],
   "source": [
    "# Python 1: use a helper variable count to directly check if it's palindrome after deleting one element \n",
    "class Solution:\n",
    "    \"\"\"\n",
    "    @param s: a string\n",
    "    @return: nothing\n",
    "    \"\"\"\n",
    "    def validPalindrome(self, s):\n",
    "        # number of characters can be removed \n",
    "        count = 1 \n",
    "        left, right = 0, len(s) - 1 \n",
    "        # print(count)\n",
    "        while (left < right):\n",
    "            while (left < right and not s[left].isdigit() and not s[left].isalpha()):\n",
    "                left += 1 \n",
    "            while (left < right and not s[right].isdigit() and not s[right].isalpha()):\n",
    "                right -= 1 \n",
    "            while (count > 0 and s[left] != s[right]):\n",
    "                if (s[left + 1] == s[right]):\n",
    "                    left += 1 \n",
    "                    count -= 1 \n",
    "                elif (s[left] == s[right - 1]):\n",
    "                    right -= 1 \n",
    "                    count -= 1\n",
    "            if (count == 0 and s[left] != s[right]):\n",
    "                return False\n",
    "            left += 1\n",
    "            right -= 1\n",
    "            \n",
    "        return True \n"
   ]
  },
  {
   "cell_type": "code",
   "execution_count": 26,
   "metadata": {},
   "outputs": [
    {
     "data": {
      "text/plain": [
       "False"
      ]
     },
     "execution_count": 26,
     "metadata": {},
     "output_type": "execute_result"
    }
   ],
   "source": [
    "p = Solution()\n",
    "p.validPalindrome(\n",
    " \"ognfjhgbjhzkqhzadmgqbwqsktzqwjexqvzjsopolnmvnymbbzoofzbbmynvmnloposjzvqxejwqztksqwbqgmdazhqkzhjbghjfno\")\n",
    "# p.validPalindrome('aba')"
   ]
  },
  {
   "cell_type": "code",
   "execution_count": null,
   "metadata": {},
   "outputs": [],
   "source": [
    "# Python 2: split the problem into two parts, tell if it's palindrome and tell if the two characters at the pointer \n",
    "# locations are the same \n",
    "class Solution:\n",
    "    \"\"\"\n",
    "    @param s: a string\n",
    "    @return: nothing\n",
    "    \"\"\"\n",
    "    def validPalindrome(self, s):\n",
    "        left, right = 0, len(s) - 1\n",
    "        while left < right:\n",
    "            if s[left] != s[right]:\n",
    "                break\n",
    "            left += 1\n",
    "            right -= 1\n",
    "            \n",
    "        if left >= right:\n",
    "            return True\n",
    "            \n",
    "        return self.is_palindrome(s, left + 1, right) or self.is_palindrome(s, left, right - 1)\n",
    "\n",
    "    def is_palindrome(self, s, left, right):\n",
    "        while left < right:\n",
    "            if s[left] != s[right]:\n",
    "                return False\n",
    "            left += 1\n",
    "            right -= 1\n",
    "            \n",
    "        return True"
   ]
  },
  {
   "cell_type": "code",
   "execution_count": 42,
   "metadata": {},
   "outputs": [],
   "source": [
    "# My Python version: use the previous isPalindrome function and pass sliced string to it  \n",
    "class Solution:\n",
    "    \"\"\"\n",
    "    @param s: a string\n",
    "    @return: nothing\n",
    "    \"\"\"\n",
    "    def validPalindrome(self, s):\n",
    "        left, right = 0, len(s) - 1 \n",
    "        \n",
    "        # find the left and right positions where the two are not equal \n",
    "        # \n",
    "        while (left < right and s[left] == s[right]):\n",
    "            left += 1 \n",
    "            right -= 1 \n",
    "            #print('left', left)\n",
    "            #print('right', right)\n",
    "        if (left >= right):\n",
    "            return True \n",
    "        #print(s[left : (right - 1)])\n",
    "        #print(s[(left+1) : right])\n",
    "        \n",
    "        # note for string slicing, the element with index after : is NOT included \n",
    "        return self.isPalindrome(s[left : (right)]) or self.isPalindrome(s[(left+1) : (right + 1)]) # use brackets\n",
    "\n",
    "    def isPalindrome(self, s):\n",
    "        # write your code here\n",
    "        left, right = 0, len(s) - 1 \n",
    "        while (left < right):\n",
    "            while (left < right and not s[left].isalpha() and not s[left].isdigit()):\n",
    "                left += 1 \n",
    "            while (left < right and not s[right].isalpha() and not s[right].isdigit()):\n",
    "                right -= 1 \n",
    "            if (s[left].lower() != s[right].lower()):\n",
    "                return False \n",
    "            # if the two characters are equal, move forward \n",
    "            left += 1 \n",
    "            right -= 1 \n",
    "        return True \n"
   ]
  },
  {
   "cell_type": "code",
   "execution_count": 43,
   "metadata": {},
   "outputs": [
    {
     "data": {
      "text/plain": [
       "True"
      ]
     },
     "execution_count": 43,
     "metadata": {},
     "output_type": "execute_result"
    }
   ],
   "source": [
    "p = Solution()\n",
    "p.validPalindrome(\"abccbaa\")"
   ]
  },
  {
   "cell_type": "markdown",
   "metadata": {},
   "source": [
    "608 - Two Sum II - Input array is sorted\n",
    "\n",
    "Given an array of integers that is already sorted in ascending order, find two numbers such that they add up to a specific target number.\n",
    "\n",
    "The function twoSum should return indices of the two numbers such that they add up to the target, where index1 must be less than index2. Please note that your returned answers (both index1 and index2) are not zero-based.\n",
    "\n",
    "\n",
    "* Two pointers \n",
    "\n",
    "* Hash table "
   ]
  },
  {
   "cell_type": "code",
   "execution_count": 120,
   "metadata": {},
   "outputs": [],
   "source": [
    "# Python 1: two pointers \n",
    "class Solution:\n",
    "    \"\"\"\n",
    "    @param numbers: An array of Integer\n",
    "    @param target: target = numbers[index1] + numbers[index2]\n",
    "    @return: [index1, index2] (index1 < index2)\n",
    "    \"\"\"\n",
    "    def twoSum(self, numbers, target):\n",
    "        # first sort the numbers \n",
    "        # print(type(numbers))\n",
    "        if len(numbers) == 0:\n",
    "            return [-1, -1]\n",
    "        # two pointers \n",
    "        left, right = 0, len(numbers) - 1 \n",
    "        # not binary search, no mid value is going to be calculated, so don't have to use  left + 1 < right \n",
    "        while left < right:\n",
    "            if numbers[left] + numbers[right] > target:\n",
    "                right -= 1 \n",
    "            elif numbers[left] + numbers[right] < target:\n",
    "                left += 1 \n",
    "            else:\n",
    "                return [left + 1, right + 1] # index starts from 1 for this problem \n",
    "\n",
    "        # not found after the while loop \n",
    "        return [-1, -1]    \n",
    "        "
   ]
  },
  {
   "cell_type": "code",
   "execution_count": null,
   "metadata": {},
   "outputs": [],
   "source": [
    "# python 2: use while loops inside while loop\n",
    "class Solution:\n",
    "    \"\"\"\n",
    "    @param numbers: An array of Integer\n",
    "    @param target: target = numbers[index1] + numbers[index2]\n",
    "    @return: [index1, index2] (index1 < index2)\n",
    "    \"\"\"\n",
    "    def twoSum(self, numbers, target):\n",
    "        if not numbers:\n",
    "            return [-1, -1]\n",
    "\n",
    "        # two pointers\n",
    "        left, right = 0, len(numbers) - 1 \n",
    "        while left < right:\n",
    "            while left < right and numbers[left] + numbers[right] > target:\n",
    "                right -= 1 \n",
    "            while left < right and numbers[left] + numbers[right] < target:\n",
    "                left += 1 \n",
    "            if left < right and numbers[left] + numbers[right] == target:\n",
    "                return [left + 1, right + 1]\n",
    "\n",
    "        return [-1, -1]"
   ]
  },
  {
   "cell_type": "markdown",
   "metadata": {},
   "source": [
    "56 - Two Sum\n",
    "\n",
    "\n",
    "Given an array of integers, find two numbers such that they add up to a specific target number.\n",
    "\n",
    "The function twoSum should return indices of the two numbers such that they add up to the target, where index1 must be less than index2. Please note that your returned answers (both index1 and index2) are zero-based.\n",
    "\n",
    "* Two pointers : O(nlogn) + O(n)  (sort + traverse) \n",
    "\n",
    "* Hash table : O(n) time "
   ]
  },
  {
   "cell_type": "code",
   "execution_count": 12,
   "metadata": {},
   "outputs": [],
   "source": [
    "# Python 1: use hash table \n",
    "\n",
    "class Solution:\n",
    "    \"\"\"\n",
    "    @param numbers: An array of Integer\n",
    "    @param target: target = numbers[index1] + numbers[index2]\n",
    "    @return: [index1, index2] (index1 < index2)\n",
    "    \"\"\"\n",
    "    def twoSum(self, numbers, target):\n",
    "        if not numbers:\n",
    "            return [-1, -1]\n",
    "        # a dictionary to save location as key and value as val  \n",
    "        hash_table = {}\n",
    "        for i, num in enumerate(numbers): \n",
    "            # first tell if num + x = target with x already in hash table \n",
    "            if target - num in hash_table:\n",
    "                return [hash_table[target - num], i]\n",
    "            # add num, i pair to hash table, do it after the if condition to avoid cases like\n",
    "            # num + num = target \n",
    "            hash_table.setdefault(num, i)\n",
    "\n",
    "        return [-1, -1]\n",
    "            \n",
    "        \n",
    "            "
   ]
  },
  {
   "cell_type": "code",
   "execution_count": 13,
   "metadata": {},
   "outputs": [
    {
     "data": {
      "text/plain": [
       "[1, 2]"
      ]
     },
     "execution_count": 13,
     "metadata": {},
     "output_type": "execute_result"
    }
   ],
   "source": [
    "p = Solution()\n",
    "p.twoSum([1, 2, 7, 9], 9)"
   ]
  },
  {
   "cell_type": "code",
   "execution_count": 14,
   "metadata": {},
   "outputs": [
    {
     "data": {
      "text/plain": [
       "[0, 1]"
      ]
     },
     "execution_count": 14,
     "metadata": {},
     "output_type": "execute_result"
    }
   ],
   "source": [
    "p = Solution()\n",
    "p.twoSum([2,3], 5)"
   ]
  },
  {
   "cell_type": "code",
   "execution_count": null,
   "metadata": {},
   "outputs": [],
   "source": [
    "# Python 2: first sort then use two pointers, take special care for the case when two elements equal to each other \n",
    "#           and their sum == target \n",
    "\n",
    "class Solution:\n",
    "    \"\"\"\n",
    "    @param numbers: An array of Integer\n",
    "    @param target: target = numbers[index1] + numbers[index2]\n",
    "    @return: [index1, index2] (index1 < index2)\n",
    "    \"\"\"\n",
    "    def twoSum(self, numbers, target):\n",
    "        if not numbers:\n",
    "            return [-1, -1]\n",
    "        orig = numbers[:]\n",
    "        # sort \n",
    "        numbers.sort()\n",
    "        \n",
    "        # two pointers\n",
    "        left, right = 0, len(numbers) - 1 \n",
    "        while left < right:\n",
    "            while left < right and numbers[left] + numbers[right] > target:\n",
    "                right -= 1 \n",
    "            while left < right and numbers[left] + numbers[right] < target:\n",
    "                left += 1 \n",
    "            if left < right and numbers[left] + numbers[right] == target:\n",
    "                if numbers[left] == numbers[right]:\n",
    "                    return sorted([i for i, x in enumerate(orig) if x == numbers[left]])[:2]\n",
    "                return sorted([orig.index(numbers[left]), orig.index(numbers[right])])\n",
    "        return [-1, -1]\n",
    "                \n"
   ]
  },
  {
   "cell_type": "code",
   "execution_count": 27,
   "metadata": {},
   "outputs": [],
   "source": [
    "# Python 3: use two pointers \n",
    "# 1. sort the array \n",
    "# 2. two pointers from two sides of the array \n",
    "class Solution:\n",
    "    \"\"\"\n",
    "    @param numbers: An array of Integer\n",
    "    @param target: target = numbers[index1] + numbers[index2]\n",
    "    @return: [index1, index2] (index1 < index2)\n",
    "    \"\"\"\n",
    "    def twoSum(self, numbers, target):\n",
    "        # first sort the numbers \n",
    "        # print(type(numbers))\n",
    "        if (len(numbers) == 0):\n",
    "            return [-1, -1]\n",
    "       \n",
    "        # first save the old locations of each number \n",
    "        hash_table = {}\n",
    "        for i in range(len(numbers)):\n",
    "            hash_table[numbers[i]] = i\n",
    "        \n",
    "        # numbers = sorted(numbers)\n",
    "        orig_numbers = numbers[:] # do a full slice for a NEW object to avoid reference \n",
    "        print(orig_numbers)\n",
    "        \n",
    "         # sort\n",
    "        '''\n",
    "        Note that numbers.sort() will sort numbers internally and return a Nonetype, \n",
    "        so numbers = numbers.sort() will not be sorted numbers. \n",
    "        Use: \n",
    "        numbers.sort() \n",
    "        or \n",
    "        numbers = sorted(numbers)\n",
    "        '''\n",
    "        \n",
    "        numbers.sort()\n",
    "        # print(type(numbers))\n",
    "        # two pointers \n",
    "        left, right = 0, len(numbers) - 1 \n",
    "        # not binary search, no mid value is going to be calculated, so don't have to use  left + 1 < right \n",
    "        while (left < right):\n",
    "            if ((numbers[left] + numbers[right]) > target):\n",
    "                right -= 1 \n",
    "            elif ((numbers[left] + numbers[right]) < target):\n",
    "                left += 1 \n",
    "            else:\n",
    "                # in case of duplicated numbers that cannot be handled by hash table \n",
    "                if (numbers[left] == numbers[right]):\n",
    "                    return [x for x in range(len(orig_numbers)) if orig_numbers[x] == numbers[left]]\n",
    "                else:\n",
    "                    return sorted([hash_table[numbers[left]], hash_table[numbers[right]]])\n",
    "        # not found after the while loop \n",
    "        return [-1, -1]    \n",
    "        "
   ]
  },
  {
   "cell_type": "code",
   "execution_count": 30,
   "metadata": {},
   "outputs": [
    {
     "name": "stdout",
     "output_type": "stream",
     "text": [
      "[0, 4, 3, 0]\n",
      "0\n",
      "0\n",
      "tt\n"
     ]
    },
    {
     "data": {
      "text/plain": [
       "[0, 3]"
      ]
     },
     "execution_count": 30,
     "metadata": {},
     "output_type": "execute_result"
    }
   ],
   "source": [
    "p = Solution()\n",
    "p.twoSum([0,4,3,0], 0)"
   ]
  },
  {
   "cell_type": "markdown",
   "metadata": {},
   "source": [
    "607 - Two Sum III - Data structure design\n",
    "\n",
    "Design and implement a TwoSum class. It should support the following operations: add and find.\n",
    "\n",
    "`add` - Add the number to an internal data structure.\n",
    "\n",
    "`find` - Find if there exists any pair of numbers which sum is equal to the value.\n",
    "\n",
    "Example:\n",
    "\n",
    "add(1); add(3); add(5);\n",
    "\n",
    "find(4) // return true\n",
    "\n",
    "find(7) // return false\n",
    "\n",
    "* Data structure design , hash table\n",
    "\n",
    "* Think about which one uses more frequently, `add` or `find`, then consider the complexity for designing "
   ]
  },
  {
   "cell_type": "code",
   "execution_count": 94,
   "metadata": {},
   "outputs": [
    {
     "name": "stdout",
     "output_type": "stream",
     "text": [
      "new\n",
      "old\n"
     ]
    }
   ],
   "source": [
    "# dictionary basics \n",
    "a = {\"new\":1, \"old\":2}\n",
    "for num in a:\n",
    "    print(num)\n"
   ]
  },
  {
   "cell_type": "code",
   "execution_count": 10,
   "metadata": {},
   "outputs": [],
   "source": [
    "# Python \n",
    "class TwoSum:\n",
    "    \"\"\"\n",
    "    @param number: An integer\n",
    "    @return: nothing\n",
    "    \"\"\"\n",
    "    def __init__(self):\n",
    "        self.count = {} # initialize a dictionary to save the nums and their counts, can also use a set \n",
    "        \n",
    "    def add(self, number):\n",
    "        self.count.setdefault(number, 0)\n",
    "        self.count[number] += 1 \n",
    "#         if number not in self.count:\n",
    "#             self.count[number] = 1\n",
    "#         else:\n",
    "#             self.count[number] += 1 \n",
    "        \n",
    "\n",
    "    \"\"\"\n",
    "    @param value: An integer\n",
    "    @return: Find if there exists any pair of numbers which sum is equal to the value.\n",
    "    \"\"\"\n",
    "    def find(self, value):\n",
    "        # use hash map, make sure to look for PAIRS of data  \n",
    "        for i in self.count:\n",
    "            if value - i in self.count and (value - i != i or self.count[i] > 1):\n",
    "                print(i)\n",
    "                return True \n",
    "        return False"
   ]
  },
  {
   "cell_type": "code",
   "execution_count": 11,
   "metadata": {},
   "outputs": [
    {
     "name": "stdout",
     "output_type": "stream",
     "text": [
      "{2: 1, 3: 1}\n",
      "False\n",
      "2\n",
      "3\n"
     ]
    },
    {
     "data": {
      "text/plain": [
       "{2: 1, 3: 2}"
      ]
     },
     "execution_count": 11,
     "metadata": {},
     "output_type": "execute_result"
    }
   ],
   "source": [
    "p = TwoSum();\n",
    "p.add(2)\n",
    "p.add(3)\n",
    "print(p.count)\n",
    "print(p.find(4))\n",
    "p.find(5)\n",
    "p.find(6)\n",
    "p.add(3)\n",
    "p.find(6)\n",
    "p.count"
   ]
  },
  {
   "cell_type": "markdown",
   "metadata": {},
   "source": [
    "587 - Two Sum - Unique pairs\n",
    "\n",
    "Given an array of integers, find how many unique pairs in the array such that their sum is equal to a specific target number. Please return the number of pairs. For example,\n",
    "\n",
    "Input: nums = [1,1,2,45,46,46], target = 47 \n",
    "\n",
    "Output: 2\n",
    "\n",
    "Explanation:\n",
    "\n",
    "1 + 46 = 47\n",
    "\n",
    "2 + 45 = 47\n",
    "\n",
    "\n",
    "* Hash table, two pointers"
   ]
  },
  {
   "cell_type": "code",
   "execution_count": 147,
   "metadata": {},
   "outputs": [],
   "source": [
    "# Hash table \n",
    "class Solution:\n",
    "    \"\"\"\n",
    "    @param nums: an array of integer\n",
    "    @param target: An integer\n",
    "    @return: An integer\n",
    "    \"\"\"\n",
    "    def twoSum6(self, nums, target):\n",
    "        # create a dictionary to save the nums values and their frequency \n",
    "        hash_table = {}\n",
    "        \n",
    "        # record the number of unique pairs \n",
    "        count = 0\n",
    "        for i in range(len(nums)):\n",
    "            if nums[i] not in hash_table:\n",
    "                hash_table[nums[i]] = 1 \n",
    "            else:\n",
    "                hash_table[nums[i]] += 1 \n",
    "        print('hash', hash_table)\n",
    "        \n",
    "        # count the unique pairs, once found a pair, record it and set the pair's frequency to 0 to avoid \n",
    "        # repeated count \n",
    "        for num in hash_table:\n",
    "            if ((target - num in hash_table) and target - num != num and hash_table[num] > 0 and \n",
    "                hash_table[target - num] > 0):\n",
    "                count += 1\n",
    "                hash_table[num]  = 0 \n",
    "                hash_table[target - num] = 0\n",
    "            # the case when one number * 2 == target and the number happens to appear at least twice \n",
    "            elif (target - num in hash_table and ((target - num) == num) and hash_table[num] > 1):\n",
    "                count += 1 \n",
    "                # print('equal')\n",
    "        return count \n",
    "            \n"
   ]
  },
  {
   "cell_type": "code",
   "execution_count": 148,
   "metadata": {},
   "outputs": [
    {
     "name": "stdout",
     "output_type": "stream",
     "text": [
      "hash {7: 1, 11: 2, 1: 1, 2: 1, 3: 1, 4: 1}\n"
     ]
    },
    {
     "data": {
      "text/plain": [
       "1"
      ]
     },
     "execution_count": 148,
     "metadata": {},
     "output_type": "execute_result"
    }
   ],
   "source": [
    "p = Solution()\n",
    "p.twoSum6([7,11,11,1,2,3,4], 22)\n",
    "# p.twoSum6([1,1,2,45,46,46], 47)"
   ]
  },
  {
   "cell_type": "code",
   "execution_count": 161,
   "metadata": {},
   "outputs": [],
   "source": [
    "# Python 2: Two pointers\n",
    "# 1. sort \n",
    "# 2. search \n",
    "class Solution:\n",
    "    \"\"\"\n",
    "    @param nums: an array of integer\n",
    "    @param target: An integer\n",
    "    @return: An integer\n",
    "    \"\"\"\n",
    "    def twoSum6(self, nums, target):\n",
    "        if (len(nums) == 0):\n",
    "            return 0 \n",
    "        count = 0 \n",
    "        nums.sort()\n",
    "        left, right = 0, len(nums) - 1 \n",
    "        while (left < right):\n",
    "            if (nums[left] + nums[right] == target):\n",
    "                count += 1 \n",
    "                # avoid cases such as [11, 11, 11, 11] for target = 22\n",
    "                # move to the closet to center location which equals nums[left] or nums[right] \n",
    "                while (left < right and nums[right] == nums[right - 1]):\n",
    "                    right -= 1 \n",
    "                while (left < right and nums[left] == nums[left + 1]):\n",
    "                    left += 1\n",
    "                                # move to the next possible set \n",
    "                left += 1 \n",
    "                right -= 1\n",
    "            elif (nums[left] + nums[right] > target):\n",
    "                right -= 1\n",
    "            elif (nums[left] + nums[right] < target):\n",
    "                left += 1\n",
    "        return count \n",
    "            \n",
    "          \n",
    "        "
   ]
  },
  {
   "cell_type": "code",
   "execution_count": 162,
   "metadata": {},
   "outputs": [
    {
     "data": {
      "text/plain": [
       "2"
      ]
     },
     "execution_count": 162,
     "metadata": {},
     "output_type": "execute_result"
    }
   ],
   "source": [
    "p = Solution()\n",
    "p.twoSum6([7,11,11,11, 11,1,2,3,4], 22)\n",
    "p.twoSum6([1,1,2,45,46,46], 47)\n",
    "\n",
    "\n"
   ]
  },
  {
   "cell_type": "markdown",
   "metadata": {},
   "source": [
    "610 - Two Sum - Difference equals to target\n",
    "\n",
    "Given an array of integers, find two numbers that their difference equals to a target value.\n",
    "\n",
    "Index1 must be less than index2. Please note that your returned answers (both index1 and index2) are NOT zero-based.\n",
    "\n",
    "* Two pointers, hash table "
   ]
  },
  {
   "cell_type": "markdown",
   "metadata": {},
   "source": [
    "#### Idea: use two pointers in sorted array "
   ]
  },
  {
   "cell_type": "code",
   "execution_count": 47,
   "metadata": {},
   "outputs": [],
   "source": [
    "# Python 1: \n",
    "# 1. two pointers \n",
    "# 2. save the original numbers location info and then sort \n",
    "class Solution:\n",
    "    \"\"\"\n",
    "    @param nums: an array of Integer\n",
    "    @param target: an integer\n",
    "    @return: [index1 + 1, index2 + 1] (index1 < index2)\n",
    "    \"\"\"\n",
    "    def twoSum7(self, nums, target):\n",
    "        # special case \n",
    "        if (len(nums) == 0 or len(nums) == 1):\n",
    "            return []\n",
    "        # in case target is negative \n",
    "        target = abs(target)\n",
    "        # sort \n",
    "        orig_nums = nums[:]\n",
    "        nums.sort()\n",
    "        fast = 1 # fast pointer starts from the second location \n",
    "        for slow in range(len(nums)): \n",
    "            # note fast is NOT reset to a number next to slow (saves a lot time)\n",
    "            while (fast < len(nums) - 1) and (nums[fast] - nums[slow] < target):\n",
    "                fast += 1 \n",
    "            if (nums[fast] - nums[slow] == target):\n",
    "                if (target != 0):\n",
    "                    return sorted([[x for x in range(len(nums)) if orig_nums[x] == nums[slow]][0] + 1, \n",
    "                              [x for x in range(len(nums)) if orig_nums[x] == nums[fast]][0] + 1])\n",
    "                elif (target ==0) and fast != slow:\n",
    "                    return sorted([[x for x in range(len(nums)) if orig_nums[x] == nums[slow]][0] + 1, \n",
    "                              [x for x in range(len(nums)) if orig_nums[x] == nums[fast]][1] + 1])\n",
    "        return [-1, -1]\n"
   ]
  },
  {
   "cell_type": "code",
   "execution_count": 48,
   "metadata": {},
   "outputs": [
    {
     "data": {
      "text/plain": [
       "[1, 3]"
      ]
     },
     "execution_count": 48,
     "metadata": {},
     "output_type": "execute_result"
    }
   ],
   "source": [
    "p = Solution()\n",
    "p.twoSum7([2,7,15,24], 5)\n",
    "p.twoSum7([1, 0, 1], 0)\n",
    "\n",
    "# nums = [1, 2, 3, 4, 5, 5]\n",
    "# [x for x in range(len(nums)) if nums[x] == 5][0]  + 1"
   ]
  },
  {
   "cell_type": "code",
   "execution_count": 49,
   "metadata": {},
   "outputs": [
    {
     "data": {
      "text/plain": [
       "[(1, 0), (5, 1), (3, 2), (6, 3), (9, 4), (7, 5), (8, 6)]"
      ]
     },
     "execution_count": 49,
     "metadata": {},
     "output_type": "execute_result"
    }
   ],
   "source": [
    "nums = [1, 5, 3, 6, 9, 7, 8]\n",
    "new = [(num, i) for i, num in enumerate(nums)]\n",
    "new"
   ]
  },
  {
   "cell_type": "code",
   "execution_count": null,
   "metadata": {},
   "outputs": [],
   "source": [
    "#Python solution: created \n",
    "# use  nums = [(num, i) for i, num in enumerate(nums)] to save nums location info \n",
    "\n",
    "class Solution:\n",
    "    \"\"\"\n",
    "    @param nums {int[]} n array of Integer\n",
    "    @param target {int} an integer\n",
    "    @return {int[]} [index1 + 1, index2 + 1] (index1 < index2)\n",
    "    \"\"\"\n",
    "    def twoSum7(self, nums, target):\n",
    "        # Write your code here\n",
    "        nums = [(num, i) for i, num in enumerate(nums)]\n",
    "        target = abs(target)    \n",
    "        n, indexs = len(nums), []\n",
    "    \n",
    "        nums = sorted(nums, key=lambda x: x[0])\n",
    "\n",
    "        j = 0\n",
    "        for i in range(n):\n",
    "            if i == j:\n",
    "                j += 1\n",
    "            while j < n and nums[j][0] - nums[i][0] < target:\n",
    "                j += 1\n",
    "            if j < n and nums[j][0] - nums[i][0] == target:\n",
    "                indexs = [nums[i][1] + 1, nums[j][1] + 1]\n",
    "\n",
    "        if indexs[0] > indexs[1]:\n",
    "            indexs[0], indexs[1] = indexs[1], indexs[0]\n",
    "\n",
    "        return indexs"
   ]
  },
  {
   "cell_type": "markdown",
   "metadata": {},
   "source": [
    "57 - 3Sum three sum \n",
    "\n",
    "Given an array S of n integers, are there elements a, b, c in S such that a + b + c = 0? Find all unique triplets in the array which gives the sum of zero.\n",
    "\n",
    "Example: \n",
    "\n",
    "Input:[-1,0,1,2,-1,-4]\n",
    "\n",
    "\n",
    "Output:\t[[-1, 0, 1],[-1, -1, 2]]\n",
    "\n",
    "\n",
    "\n",
    "* Two pointers "
   ]
  },
  {
   "cell_type": "markdown",
   "metadata": {},
   "source": [
    "#### Idea: loop through one variable and see (a + b = target = -c)\n"
   ]
  },
  {
   "cell_type": "code",
   "execution_count": 222,
   "metadata": {},
   "outputs": [],
   "source": [
    "# Python: use two pointers \n",
    "\n",
    "class Solution:\n",
    "    \"\"\"\n",
    "    @param numbers: Give an array numbers of n integer\n",
    "    @return: Find all unique triplets in the array which gives the sum of zero.\n",
    "    \"\"\"\n",
    "    def threeSum(self, numbers):\n",
    "        if (len(numbers) < 3):\n",
    "            return []\n",
    "        res = []\n",
    "        numbers.sort()\n",
    "        for i in range(len(numbers)):\n",
    "            if (numbers[i] == numbers[i - 1]) and i > 0:  # when i = 0, i - 1 = -1 \n",
    "                continue\n",
    "            target = -numbers[i]\n",
    "            \n",
    "            # newNumbers must exclude the previous looped target value:\n",
    "            # for each pair that satifies a + b = -c, there must be another pair that \n",
    "            # satisfies a + c = -b (when -b is the new target), repeated\n",
    "            newNumbers = numbers[(i + 1):]\n",
    "            goodList = self.twoSum6(newNumbers, target)\n",
    "            # append the numbers together if there are any returned lists from twoSum6 function \n",
    "            if (len(goodList) > 0):\n",
    "                for j in range(len(goodList)):\n",
    "                    res.append([numbers[i]] + goodList[j])\n",
    "        return res\n",
    "    # nums is already sorted in the above function \n",
    "    def twoSum6(self, nums, target):\n",
    "        res = []\n",
    "        left, right = 0, len(nums) - 1 \n",
    "        while (left < right):\n",
    "            if (nums[left] + nums[right] == target):\n",
    "                res.append([nums[left], nums[right]])\n",
    "                # avoid cases such as [11, 11, 11, 11] for target = 22\n",
    "                # move to the closet to center location which equals nums[left] or nums[right] \n",
    "                while (left < right and nums[right] == nums[right - 1]):\n",
    "                    right -= 1 \n",
    "                while (left < right and nums[left] == nums[left + 1]):\n",
    "                    left += 1\n",
    "                                # move to the next possible set \n",
    "                left += 1 \n",
    "                right -= 1\n",
    "            elif (nums[left] + nums[right] > target):\n",
    "                right -= 1\n",
    "            elif (nums[left] + nums[right] < target):\n",
    "                left += 1\n",
    "        return res\n",
    "            \n",
    "        \n",
    "        \n",
    "        "
   ]
  },
  {
   "cell_type": "code",
   "execution_count": 223,
   "metadata": {},
   "outputs": [
    {
     "data": {
      "text/plain": [
       "[[-1, -1, 2], [-1, 0, 1]]"
      ]
     },
     "execution_count": 223,
     "metadata": {},
     "output_type": "execute_result"
    }
   ],
   "source": [
    "p = Solution()\n",
    "p.threeSum([-1,0,1,2,-1,-4])"
   ]
  },
  {
   "cell_type": "code",
   "execution_count": 208,
   "metadata": {},
   "outputs": [
    {
     "data": {
      "text/plain": [
       "0"
      ]
     },
     "execution_count": 208,
     "metadata": {},
     "output_type": "execute_result"
    }
   ],
   "source": [
    "len([])"
   ]
  },
  {
   "cell_type": "markdown",
   "metadata": {},
   "source": [
    "521 - Remove Duplicate Numbers in Array\n",
    "\n",
    "Given an array of integers, remove the duplicate numbers in it.\n",
    "\n",
    "You should:\n",
    "\n",
    "Do it in place in the array.\n",
    "\n",
    "Move the unique numbers to the front of the array.\n",
    "\n",
    "Return the total number of the unique numbers.\n",
    "\n",
    "Example:\n",
    "\n",
    "Input:\n",
    "\n",
    "nums = [1,3,1,4,4,2]\n",
    "\n",
    "Output:\n",
    "\n",
    "[1,3,4,2,?,?]\n",
    "\n",
    "* Two pointers \n"
   ]
  },
  {
   "cell_type": "code",
   "execution_count": 51,
   "metadata": {},
   "outputs": [],
   "source": [
    "# Python : O(nlog n) for sort, O(1) space \n",
    "class Solution:\n",
    "    \"\"\"\n",
    "    @param nums: an array of integers\n",
    "    @return: the number of unique integers\n",
    "    \"\"\"\n",
    "    def deduplication(self, nums):\n",
    "        if(len(nums) == 0):\n",
    "            return 0 \n",
    "        nums.sort()\n",
    "        slow = 0\n",
    "        for fast in range(len(nums) - 1):\n",
    "            if (nums[fast + 1] != nums[fast]):\n",
    "                slow += 1 \n",
    "                nums[slow] = nums[fast + 1]\n",
    "                fast += 1 \n",
    "            fast += 1\n",
    "            # print(nums)\n",
    "        return slow + 1   "
   ]
  },
  {
   "cell_type": "code",
   "execution_count": 56,
   "metadata": {},
   "outputs": [
    {
     "data": {
      "text/plain": [
       "4"
      ]
     },
     "execution_count": 56,
     "metadata": {},
     "output_type": "execute_result"
    }
   ],
   "source": [
    "p = Solution()\n",
    "p.deduplication([1,3,1,4,4,2])\n",
    "# p.deduplication([1])"
   ]
  },
  {
   "cell_type": "code",
   "execution_count": 55,
   "metadata": {},
   "outputs": [],
   "source": [
    "# Python 2: \n",
    "# O(n) time, O(n) space\n",
    "class Solution:\n",
    "    \"\"\"\n",
    "    @param nums: an array of integers\n",
    "    @return: the number of unique integers\n",
    "    \"\"\"\n",
    "    def deduplication(self, nums):\n",
    "        if(len(nums) == 0):\n",
    "            return 0 \n",
    "        hash_set = set()\n",
    "        count = 0  \n",
    "        for i in range(len(nums)):\n",
    "            if nums[i] not in hash_set:\n",
    "                hash_set.add(nums[i])\n",
    "                nums[count] = nums[i]\n",
    "                count += 1 \n",
    "                \n",
    "        return count # return count instead of count + 1 as count here is the real count instead of index \n",
    "                "
   ]
  },
  {
   "cell_type": "markdown",
   "metadata": {},
   "source": [
    "604 - Window Sum\n",
    "\n",
    "Given an array of n integers, and a moving window(size k), move the window at each iteration from the start of the array, find the sum of the element inside the window at each moving.\n",
    "\n",
    "Input：array = [1,2,7,8,5], k = 3\n",
    "\n",
    "Output：[10,17,20]\n",
    "\n",
    "Explanation：\n",
    "\n",
    "1 + 2 + 7 = 10\n",
    "\n",
    "2 + 7 + 8 = 17\n",
    "\n",
    "7 + 8 + 5 = 20\n",
    "\n",
    "* Two pointers "
   ]
  },
  {
   "cell_type": "code",
   "execution_count": 80,
   "metadata": {},
   "outputs": [],
   "source": [
    "# Python 1: sliding window \n",
    "# 1. compute the window sum for the first time \n",
    "# 2. Add a following value and remove the first value to obtain the window sum for next position \n",
    "class Solution:\n",
    "    \"\"\"\n",
    "    @param nums: a list of integers.\n",
    "    @param k: length of window.\n",
    "    @return: the sum of the element inside the window at each moving.\n",
    "    \"\"\"\n",
    "    def winSum(self, nums, k):\n",
    "        if (k <= 0):\n",
    "            return []\n",
    "        if (len(nums) < k):\n",
    "            return []\n",
    "        # initialize a list \n",
    "        res = [0] * (len(nums) - k + 1)\n",
    "        # the first element \n",
    "        res[0] = sum(nums[0:k])\n",
    "        for i in range(1, len(nums) - k + 1):\n",
    "            res[i] = res[i - 1] + nums[i + k - 1] - nums[i -1]\n",
    "        return res \n",
    "       "
   ]
  },
  {
   "cell_type": "code",
   "execution_count": 83,
   "metadata": {},
   "outputs": [
    {
     "data": {
      "text/plain": [
       "[10, 16, 16]"
      ]
     },
     "execution_count": 83,
     "metadata": {},
     "output_type": "execute_result"
    }
   ],
   "source": [
    "p = Solution()\n",
    "p.winSum([1,2,7,7,2], 3)\n",
    "# p.winSum([], 0)"
   ]
  },
  {
   "cell_type": "code",
   "execution_count": 1,
   "metadata": {},
   "outputs": [],
   "source": [
    "# brute force: too slow \n",
    "class Solution:\n",
    "    \"\"\"\n",
    "    @param nums: a list of integers.\n",
    "    @param k: length of window.\n",
    "    @return: the sum of the element inside the window at each moving.\n",
    "    \"\"\"\n",
    "    def winSum(self, nums, k):\n",
    "        if (k <= 0):\n",
    "            return []\n",
    "        if (len(nums) < k):\n",
    "            return []\n",
    "        slow, fast = 0, k\n",
    "        res = [] # save results \n",
    "        while (fast <= len(nums)):\n",
    "            res.append(sum(nums[slow:(fast)])) \n",
    "            slow += 1 \n",
    "            fast += 1\n",
    "        return res \n",
    "        \n"
   ]
  },
  {
   "cell_type": "code",
   "execution_count": 2,
   "metadata": {},
   "outputs": [
    {
     "data": {
      "text/plain": [
       "[]"
      ]
     },
     "execution_count": 2,
     "metadata": {},
     "output_type": "execute_result"
    }
   ],
   "source": [
    "p = Solution()\n",
    "p.winSum([1,2,7,7,2], 3)\n",
    "p.winSum([], 0)"
   ]
  },
  {
   "cell_type": "markdown",
   "metadata": {},
   "source": [
    "228 -  Middle of Linked List\n",
    "\n",
    "Find the middle node of a linked list.\n",
    "\n",
    "* Linked list, data stream \n",
    "\n",
    "* Traverse ONLY one time , O(n/2)\n"
   ]
  },
  {
   "cell_type": "code",
   "execution_count": 3,
   "metadata": {},
   "outputs": [],
   "source": [
    "# Python \n",
    "# use two pointers: the slow pointer moves one step each time and the fast pointer moves two steps each time \n",
    "\n",
    "\"\"\"\n",
    "Definition of ListNode\n",
    "class ListNode(object):\n",
    "    def __init__(self, val, next=None):\n",
    "        self.val = val\n",
    "        self.next = next\n",
    "\"\"\"\n",
    "\n",
    "class Solution:\n",
    "    \"\"\"\n",
    "    @param head: the head of linked list.\n",
    "    @return: a middle node of the linked list\n",
    "    \"\"\"\n",
    "    def middleNode(self, head):\n",
    "        \n",
    "        # special case \n",
    "        if head is None:\n",
    "            return None \n",
    "        # initialization \n",
    "        slow = head \n",
    "        fast = slow.next \n",
    "        \n",
    "        # traverse using fast pointer \n",
    "        while fast is not None and fast.next is not None:\n",
    "            # so the pointer can jump two nodes each time \n",
    "            slow = slow.next \n",
    "            fast = fast.next.next \n",
    "        return slow \n",
    "        "
   ]
  },
  {
   "cell_type": "markdown",
   "metadata": {},
   "source": [
    "539 - Move Zeroes\n",
    "\n",
    "Given an array nums, write a function to move all 0's to the end of it while maintaining the relative order of the non-zero elements.\n",
    "\n",
    "* Two pointers\n"
   ]
  },
  {
   "cell_type": "code",
   "execution_count": 114,
   "metadata": {},
   "outputs": [],
   "source": [
    "# Use two pointers \n",
    "# slow moves together with fast only when elements non zero\n",
    "# slow stops at the position with 0 until it swaps with fast \n",
    "# fast loops to the last element \n",
    "class Solution:\n",
    "    \"\"\"\n",
    "    @param nums: an integer array\n",
    "    @return: nothing\n",
    "    \"\"\"\n",
    "    def moveZeroes(self, nums):\n",
    "        slow, fast = 0, 0\n",
    "        while fast < len(nums): # loop through all values \n",
    "            if (nums[fast] != 0):\n",
    "                nums[slow], nums[fast] = nums[fast], nums[slow]\n",
    "                slow += 1 \n",
    "               #  print(nums)\n",
    "            fast += 1 \n",
    "        return nums"
   ]
  },
  {
   "cell_type": "code",
   "execution_count": 115,
   "metadata": {},
   "outputs": [
    {
     "data": {
      "text/plain": [
       "[-1, 2, -3, 4, 1, -2, 1, 0, 0, 0, 0]"
      ]
     },
     "execution_count": 115,
     "metadata": {},
     "output_type": "execute_result"
    }
   ],
   "source": [
    "# [0,1,0,3,12]\n",
    "p = Solution()\n",
    "p.moveZeroes([5,4,3,2,1])\n",
    "# p.moveZeroes([0,1,0,3,12])\n",
    "p.moveZeroes([-1,2,-3,4,0,1,0,-2,0,0,1])\n"
   ]
  },
  {
   "cell_type": "markdown",
   "metadata": {},
   "source": [
    "463 - Sort Integers\n",
    "\n",
    "Given an integer array, sort it in ascending order. Use selection sort, bubble sort, insertion sort or any O(n2) algorithm.\n",
    "\n",
    "* Sort, merge sort, quick sort  \n",
    "\n"
   ]
  },
  {
   "cell_type": "code",
   "execution_count": null,
   "metadata": {},
   "outputs": [],
   "source": [
    "# Python 1: standard \n",
    "class Solution:\n",
    "    # @param {int[]} A an integer array\n",
    "    # @return nothing\n",
    "    def sortIntegers(self, A):\n",
    "        # Write your code here\n",
    "        A.sort()\n",
    "        \n",
    "# 选择排序\n",
    "class Solution:\n",
    "    # @param {int[]} A an integer array\n",
    "    # @return nothing\n",
    "    def sortIntegers(self, A):\n",
    "        # Write your code here\n",
    "        for i in range(0, len(A)):\n",
    "            t = i\n",
    "            for j in range(i + 1, len(A)):\n",
    "                if A[j] < A[t]:\n",
    "                    t = j\n",
    "            A[i], A[t] = A[t], A[i]\n",
    "\n",
    "# 插入排序\n",
    "class Solution:\n",
    "    # @param {int[]} A an integer array\n",
    "    # @return nothing\n",
    "    def sortIntegers(self, A):\n",
    "        # Write your code here\n",
    "        for i in range(1, len(A)):\n",
    "            for j in range(i - 1, 0, -1):\n",
    "                if A[i] > A[j]:\n",
    "                    A[i], A[j] = A[j], A[i]\n",
    "                else: \n",
    "                    break\n",
    "        \n",
    "# 冒泡排序\n",
    "class Solution:\n",
    "    # @param {int[]} A an integer array\n",
    "    # @return nothing\n",
    "    def sortIntegers(self, A):\n",
    "        # Write your code here\n",
    "        for i in range(0, len(A) - 1):\n",
    "            for j in range(0, len(A) - 1):\n",
    "                if A[j] > A[j + 1]:\n",
    "                    A[j], A[j + 1] = A[j + 1], A[j]"
   ]
  },
  {
   "cell_type": "code",
   "execution_count": 85,
   "metadata": {},
   "outputs": [],
   "source": [
    "# Python 2: Merge sort \n",
    "class Solution:\n",
    "    \"\"\"\n",
    "    @param A: an integer array\n",
    "    @return: nothing\n",
    "    \"\"\"\n",
    "    def sortIntegers(self, A):\n",
    "        if (len(A) == 0):\n",
    "            return \n",
    "        \n",
    "        # a list to save sorted values \n",
    "        result = [0] * len(A)\n",
    "        self.mergeSort(A, 0, len(A) - 1, result)\n",
    "        return result\n",
    "    \n",
    "    def mergeSort(self, A, start, end, result):\n",
    "        if (start >= end):\n",
    "            return \n",
    "        self.mergeSort(A, start, (start + end)//2, result)\n",
    "        self.mergeSort(A, (start + end)//2 + 1, end, result)\n",
    "        self.merge(A, start, end, result)\n",
    "        \n",
    "    def merge(self, A, start, end, result):\n",
    "        mid = (start + end) // 2\n",
    "        # initialization \n",
    "        leftIndex = start\n",
    "        rightIndex = mid + 1 \n",
    "        index = start  # index of result \n",
    "        \n",
    "        # only when both leftIndex and rightIndex are smaller than their \n",
    "        # upper limit, the comparison can be done without errors on index range\n",
    "        while (leftIndex <= mid and rightIndex <= end):\n",
    "            if (A[leftIndex] < A[rightIndex]):\n",
    "                result[index] = A[leftIndex]\n",
    "                leftIndex += 1 \n",
    "            else: \n",
    "                result[index] = A[rightIndex]\n",
    "                rightIndex += 1 \n",
    "            index += 1 \n",
    "                \n",
    "        # add the (possible) rest of results back, only one while statement will be executed \n",
    "        while(leftIndex <= mid):\n",
    "            result[index] = A[leftIndex]\n",
    "            index += 1\n",
    "            leftIndex += 1\n",
    "        while (rightIndex <= end):\n",
    "            result[index] = A[rightIndex]\n",
    "            index += 1\n",
    "            rightIndex += 1\n",
    "            \n",
    "        # copy result to A \n",
    "        for i in range(start, end + 1):\n",
    "            A[i] = result[i]\n",
    "        \n"
   ]
  },
  {
   "cell_type": "code",
   "execution_count": 84,
   "metadata": {},
   "outputs": [
    {
     "data": {
      "text/plain": [
       "[1, 2, 3, 4, 5]"
      ]
     },
     "execution_count": 84,
     "metadata": {},
     "output_type": "execute_result"
    }
   ],
   "source": [
    "p = Solution()\n",
    "p.sortIntegers([3,2,1,4,5])\n"
   ]
  },
  {
   "cell_type": "markdown",
   "metadata": {},
   "source": [
    "31 - Partition Array\n",
    "\n",
    "Given an array nums of integers and an int k, partition the array (i.e move the elements in \"nums\") such that:\n",
    "\n",
    "All elements < k are moved to the left\n",
    "\n",
    "All elements >= k are moved to the right\n",
    "\n",
    "Return the partitioning index, i.e the first index i nums[i] >= k.\n",
    "\n",
    "Example:\n",
    "\n",
    "Input:\n",
    "\n",
    "[3,2,2,1],2\n",
    "\n",
    "Output:1\n",
    "\n",
    "Explanation:\n",
    "\n",
    "the real array is[1,2,2,3].So return 1\n",
    "\n",
    "* Two pointers, sort \n"
   ]
  },
  {
   "cell_type": "code",
   "execution_count": 52,
   "metadata": {},
   "outputs": [],
   "source": [
    "class Solution:\n",
    "    \"\"\"\n",
    "    @param nums: The integer array you should partition\n",
    "    @param k: An integer\n",
    "    @return: The index after partition\n",
    "    \"\"\"\n",
    "    def partitionArray(self, nums, k):\n",
    "        if(len(nums) == 0):\n",
    "            return 0\n",
    "        pivotVal = k \n",
    "        left = 0\n",
    "        for right in range(len(nums)):\n",
    "            if nums[right] < pivotVal: \n",
    "                # as the pivot value is NOT chosen from nums, so we first do the swap and then add 1 to left pointer \n",
    "                nums[left], nums[right] = nums[right], nums[left]\n",
    "                left += 1 \n",
    "        print(nums)\n",
    "        return left\n",
    "\n",
    "        \n"
   ]
  },
  {
   "cell_type": "code",
   "execution_count": 54,
   "metadata": {},
   "outputs": [
    {
     "name": "stdout",
     "output_type": "stream",
     "text": [
      "[1, 2, 3, 4, 8]\n"
     ]
    },
    {
     "data": {
      "text/plain": [
       "3"
      ]
     },
     "execution_count": 54,
     "metadata": {},
     "output_type": "execute_result"
    }
   ],
   "source": [
    "p = Solution()\n",
    "p.partitionArray([1, 2, 8,4,3], 4)"
   ]
  },
  {
   "cell_type": "code",
   "execution_count": null,
   "metadata": {},
   "outputs": [],
   "source": [
    "# Use while loop \n",
    "# 模板"
   ]
  },
  {
   "cell_type": "code",
   "execution_count": null,
   "metadata": {},
   "outputs": [],
   "source": []
  },
  {
   "cell_type": "markdown",
   "metadata": {},
   "source": [
    "464 - Sort Integers II\n",
    "\n",
    "Given an integer array, sort it in ascending order. Use quick sort, merge sort, heap sort or any O(nlogn) algorithm.\n",
    "\n",
    "* Quick sort, merge sort "
   ]
  },
  {
   "cell_type": "code",
   "execution_count": 40,
   "metadata": {},
   "outputs": [],
   "source": [
    "# Python 1: Solution based on quick sort at https://qianqianshan.com/post/introduction-to-algorithms/\n",
    "class Solution:\n",
    "    def sortIntegers2(self, A):\n",
    "        if (len(A) == 0):\n",
    "            return \n",
    "        start, end = 0, len(A) - 1\n",
    "        self.quickSort(A, start, end)\n",
    "        return A\n",
    "            \n",
    "            \n",
    "\n",
    "    def quickSort(self, A, left, right):\n",
    "        if (left >= right):\n",
    "            return\n",
    "        pivotLoc = self.partition(A, left, right)\n",
    "        self.quickSort(A, left, pivotLoc - 1)\n",
    "        self.quickSort(A, pivotLoc + 1, right)\n",
    "        \n",
    "    def partition(self, A, start, end):\n",
    "        #pivotVal = A[(start + end) // 2]\n",
    "        #A[0], A[(start + end) // 2] = A[(start + end) // 2], A[0]\n",
    "        pivotVal = A[start]\n",
    "        i = start \n",
    "        for j in range(start + 1, end + 1):\n",
    "            if (A[j] <= pivotVal):\n",
    "                i += 1\n",
    "                A[i], A[j] = A[j], A[i]\n",
    "        A[start], A[i] = A[i], A[start]\n",
    "        return i \n",
    "        "
   ]
  },
  {
   "cell_type": "code",
   "execution_count": 38,
   "metadata": {},
   "outputs": [],
   "source": [
    "# Python 2: standard solution \n",
    "class Solution:\n",
    "    # @param {int[]} A an integer array\n",
    "    # @return nothing\n",
    "    def sortIntegers2(self, A):\n",
    "        # Write your code here\n",
    "        self.quickSort(A, 0, len(A) - 1)\n",
    "    \n",
    "    def quickSort(self, A, start, end):\n",
    "        if start >= end:\n",
    "            return\n",
    "        \n",
    "        left, right = start, end\n",
    "        # key point 1: pivot is the value, not the index\n",
    "        pivot = A[(start + end) // 2];\n",
    "\n",
    "        # key point 2: every time you compare left & right, it should be \n",
    "        # left <= right not left < right\n",
    "        while left <= right:\n",
    "            while left <= right and A[left] < pivot:\n",
    "                left += 1\n",
    "            \n",
    "            while left <= right and A[right] > pivot:\n",
    "                right -= 1\n",
    "            \n",
    "            if left <= right:\n",
    "                A[left], A[right] = A[right], A[left]\n",
    "                \n",
    "                left += 1\n",
    "                right -= 1\n",
    "        \n",
    "        self.quickSort(A, start, right)\n",
    "        self.quickSort(A, left, end)"
   ]
  },
  {
   "cell_type": "code",
   "execution_count": 41,
   "metadata": {},
   "outputs": [
    {
     "data": {
      "text/plain": [
       "[0, 1, 2, 3, 4, 5]"
      ]
     },
     "execution_count": 41,
     "metadata": {},
     "output_type": "execute_result"
    }
   ],
   "source": [
    "p = Solution()\n",
    "p.sortIntegers2([3,2,1,4,5,0])"
   ]
  },
  {
   "cell_type": "code",
   "execution_count": 43,
   "metadata": {},
   "outputs": [],
   "source": [
    "#p.sortIntegers2(\n",
    "# [19,-10,-2,40,3,36,57,25,66,51,5,40,-8,43,9,-5,0,4,55,28,63,67,-2,35,57,0,0,30,17,55,22,34,-4,42,57,52,4,65,6,-2,8,12,31,43,26,34,31,19,-3,36,34,11,58,23,13,7,17,10,33,-5,10,53,14,56,18,8,-6,-2,37,7])"
   ]
  },
  {
   "cell_type": "markdown",
   "metadata": {},
   "source": [
    "143 - Sort Colors II\n",
    "\n",
    "Given an array of n objects with k different colors (numbered from 1 to k), sort them so that objects of the same color are adjacent, with the colors in the order 1, 2, ... k.\n",
    "\n",
    "Example: \n",
    "\n",
    "Given colors=[3, 2, 2, 1, 4], k=4, your code should sort colors in-place to [1, 2, 2, 3, 4].\n",
    "\n",
    "* Sort, partition, two pointers\n",
    "\n",
    "* O(k * n)"
   ]
  },
  {
   "cell_type": "code",
   "execution_count": 64,
   "metadata": {},
   "outputs": [],
   "source": [
    "class Solution:\n",
    "    \"\"\"\n",
    "    @param colors: A list of integer\n",
    "    @param k: An integer\n",
    "    @return: nothing\n",
    "    \"\"\"\n",
    "    def sortColors2(self, colors, k):\n",
    "        if (len(colors) == 0):\n",
    "            return []\n",
    "        # do partition k times `\n",
    "        start, end = 0, len(colors) - 1\n",
    "        for color_i in range(1, k + 1):\n",
    "            # do partition of color_i and all the others \n",
    "            start = self.partitionArray(colors, start, end, color_i)\n",
    "        return colors \n",
    "    \n",
    "    def partitionArray(self, nums, start, end, pivotVal):\n",
    "        i = start \n",
    "        for j in range(start, end + 1):\n",
    "            if (nums[j] == pivotVal):\n",
    "                nums[i], nums[j] = nums[j], nums[i]\n",
    "                i += 1\n",
    "        return i "
   ]
  },
  {
   "cell_type": "code",
   "execution_count": 66,
   "metadata": {},
   "outputs": [
    {
     "data": {
      "text/plain": [
       "[1, 1, 1, 2, 2, 2, 2, 3, 4]"
      ]
     },
     "execution_count": 66,
     "metadata": {},
     "output_type": "execute_result"
    }
   ],
   "source": [
    "p = Solution()\n",
    "p.sortColors2([2,1,1,2,2, 3, 2, 1, 4], 4)"
   ]
  },
  {
   "cell_type": "markdown",
   "metadata": {},
   "source": [
    "5 - Kth Largest Element\n",
    "\n",
    "Find K-th largest element in an array.\n",
    "\n",
    "Example: \n",
    "\n",
    "Input:\n",
    "\n",
    "n = 1, nums = [1,3,4,2]\n",
    "\n",
    "Output:\n",
    "4\n",
    "\n",
    "* Sort \n",
    "\n"
   ]
  },
  {
   "cell_type": "code",
   "execution_count": null,
   "metadata": {},
   "outputs": [],
   "source": [
    "class Solution:\n",
    "    # @param k & A a integer and an array\n",
    "    # @return ans a integer\n",
    "    def kthLargestElement(self, k, A):\n",
    "        if not A or k < 1 or k > len(A):\n",
    "            return None\n",
    "        return self.partition(A, 0, len(A) - 1, len(A) - k)\n",
    "        \n",
    "    def partition(self, nums, start, end, k):\n",
    "        \"\"\"\n",
    "        During the process, it's guaranteed start <= k <= end\n",
    "        \"\"\"\n",
    "        if start == end:\n",
    "            return nums[k]\n",
    "            \n",
    "        left, right = start, end\n",
    "        pivot = nums[(start + end) // 2]\n",
    "        while left <= right:\n",
    "            while left <= right and nums[left] < pivot:\n",
    "                left += 1\n",
    "            while left <= right and nums[right] > pivot:\n",
    "                right -= 1\n",
    "            if left <= right:\n",
    "                nums[left], nums[right] = nums[right], nums[left]\n",
    "                left, right = left + 1, right - 1\n",
    "                \n",
    "        # left is not bigger than right\n",
    "        if k <= right:\n",
    "            return self.partition(nums, start, right, k)\n",
    "        if k >= left:\n",
    "            return self.partition(nums, left, end, k)\n",
    "        \n",
    "        return nums[k]"
   ]
  }
 ],
 "metadata": {
  "kernelspec": {
   "display_name": "Python 3",
   "language": "python",
   "name": "python3"
  },
  "language_info": {
   "codemirror_mode": {
    "name": "ipython",
    "version": 3
   },
   "file_extension": ".py",
   "mimetype": "text/x-python",
   "name": "python",
   "nbconvert_exporter": "python",
   "pygments_lexer": "ipython3",
   "version": "3.6.7"
  }
 },
 "nbformat": 4,
 "nbformat_minor": 2
}
